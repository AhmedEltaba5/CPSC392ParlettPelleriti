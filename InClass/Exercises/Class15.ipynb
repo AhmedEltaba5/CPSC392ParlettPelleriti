{
 "cells": [
  {
   "cell_type": "markdown",
   "metadata": {},
   "source": [
    "# Naive Bayes\n",
    "\n",
    "Using the data shown below, create a table that summarizes the predictor variables for each of our outcomes (own, not own a home). You can fill in the table shown here.\n",
    "\n",
    "|         | Income > 100k | Age > 40 | kids | 1+ income |\n",
    "|---------|---------------|----------|------|-----------|\n",
    "| Not Own | x              |  x        |  x    |   x        |\n",
    "| Own     |   x            |   x       |     x |     x      |"
   ]
  },
  {
   "cell_type": "markdown",
   "metadata": {},
   "source": [
    "| incomeOver100k | ageOver40 | kids | morethan1Income | own |\n",
    "|----------------|-----------|------|-----------------|-----|\n",
    "| 1              | 1         | 1    | 0               | 1   |\n",
    "| 1              | 1         | 1    | 1               | 1   |\n",
    "| 1              | 1         | 0    | 1               | 1   |\n",
    "| 0              | 1         | 0    | 1               | 1   |\n",
    "| 1              | 1         | 1    | 0               | 1   |\n",
    "| 1              | 1         | 1    | 1               | 1   |\n",
    "| 1              | 1         | 1    | 1               | 1   |\n",
    "| 1              | 1         | 1    | 0               | 1   |\n",
    "| 1              | 1         | 1    | 1               | 1   |\n",
    "| 0              | 1         | 1    | 1               | 1   |\n",
    "| 1              | 1         | 0    | 1               | 0   |\n",
    "| 1              | 1         | 1    | 1               | 0   |\n",
    "| 1              | 1         | 0    | 1               | 0   |\n",
    "| 1              | 0         | 0    | 1               | 0   |\n",
    "| 0              | 1         | 0    | 0               | 0   |\n",
    "| 1              | 1         | 1    | 1               | 0   |\n",
    "| 0              | 1         | 0    | 1               | 0   |\n",
    "| 1              | 1         | 0    | 1               | 0   |\n",
    "| 1              | 0         | 1    | 1               | 0   |\n",
    "| 1              | 0         | 0    | 1               | 0   |"
   ]
  },
  {
   "cell_type": "markdown",
   "metadata": {},
   "source": [
    "Use this summary to predict whether a person with the following data owns a home:\n",
    "\n",
    "| incomeOver100k | ageOver40 | kids | morethan1Income |\n",
    "|----------------|-----------|------|-----------------|\n",
    "| 0              | 1         | 1    | 0               |\n"
   ]
  },
  {
   "cell_type": "code",
   "execution_count": null,
   "metadata": {},
   "outputs": [],
   "source": []
  }
 ],
 "metadata": {
  "kernelspec": {
   "display_name": "Python 3",
   "language": "python",
   "name": "python3"
  },
  "language_info": {
   "codemirror_mode": {
    "name": "ipython",
    "version": 3
   },
   "file_extension": ".py",
   "mimetype": "text/x-python",
   "name": "python",
   "nbconvert_exporter": "python",
   "pygments_lexer": "ipython3",
   "version": "3.8.1"
  }
 },
 "nbformat": 4,
 "nbformat_minor": 4
}
