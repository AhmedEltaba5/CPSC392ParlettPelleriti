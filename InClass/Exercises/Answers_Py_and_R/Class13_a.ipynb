{
 "cells": [
  {
   "cell_type": "markdown",
   "metadata": {},
   "source": [
    "# Gini Impurity\n",
    "\n",
    "Use python and numpy to write a function, `gini()` that takes in 4 values `LNP`, `LNN`, `RNP`, `RNN` (LN = left node, RN = right node, P is for positive/1, N is for negative/0) and returns the gini impurity for that split.\n",
    "\n",
    "![node image](https://drive.google.com/uc?id=1MQEeJDxxcV8zmhzBgaDZ2QY0Ng8z8hz8)"
   ]
  },
  {
   "cell_type": "code",
   "execution_count": 2,
   "metadata": {},
   "outputs": [
    {
     "data": {
      "text/plain": [
       "0.3481116584564861"
      ]
     },
     "execution_count": 2,
     "metadata": {},
     "output_type": "execute_result"
    }
   ],
   "source": [
    "import numpy as np\n",
    "\n",
    "\n",
    "#write function here---------------\n",
    "def gini(LNP, LNN, RNP, RNN):\n",
    "    \n",
    "    total_L = LNP + LNN\n",
    "    total_R = RNP + RNN\n",
    "    total = total_L + total_R\n",
    "    \n",
    "    gini_L = (LNP/total_L)* (1-(LNP/total_L)) + (LNN/total_L)*(1-(LNN/total_L))\n",
    "    gini_R = (RNP/total_R)* (1-(RNP/total_R)) + (RNN/total_R)*(1-(RNN/total_R))\n",
    "    \n",
    "    gini = (total_L/total)*gini_L + (total_R/total)*gini_R\n",
    "    \n",
    "    return(gini)\n",
    "\n",
    "gini(LNP = 10, LNN = 5, RNP = 2, RNN = 12)\n",
    "#----------------------------------\n",
    "# gini(LNP = 10, LNN = 5, RNP = 2, RNN = 12) should return approx 0.3481117"
   ]
  },
  {
   "cell_type": "code",
   "execution_count": null,
   "metadata": {},
   "outputs": [],
   "source": []
  }
 ],
 "metadata": {
  "kernelspec": {
   "display_name": "Python 3",
   "language": "python",
   "name": "python3"
  },
  "language_info": {
   "codemirror_mode": {
    "name": "ipython",
    "version": 3
   },
   "file_extension": ".py",
   "mimetype": "text/x-python",
   "name": "python",
   "nbconvert_exporter": "python",
   "pygments_lexer": "ipython3",
   "version": "3.8.1"
  }
 },
 "nbformat": 4,
 "nbformat_minor": 4
}
