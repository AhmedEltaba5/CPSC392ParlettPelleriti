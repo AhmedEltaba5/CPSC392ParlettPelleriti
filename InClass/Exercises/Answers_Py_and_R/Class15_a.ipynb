{
 "cells": [
  {
   "cell_type": "markdown",
   "metadata": {},
   "source": [
    "# Naive Bayes\n",
    "\n",
    "Using the data shown below, create a table that summarizes the predictor variables for each of our outcomes (own, not own a home). You can fill in the table shown here.\n",
    "\n",
    "|         | Income > 100k | Age > 40 | kids | 1+ income |\n",
    "|---------|---------------|----------|------|-----------|\n",
    "| Not Own | x              |  x        |  x    |   x        |\n",
    "| Own     |   x            |   x       |     x |     x      |"
   ]
  },
  {
   "cell_type": "markdown",
   "metadata": {},
   "source": [
    "| incomeOver100k | ageOver40 | kids | morethan1Income | own |\n",
    "|----------------|-----------|------|-----------------|-----|\n",
    "| 1              | 1         | 1    | 0               | 1   |\n",
    "| 1              | 1         | 1    | 1               | 1   |\n",
    "| 1              | 1         | 0    | 1               | 1   |\n",
    "| 0              | 1         | 0    | 1               | 1   |\n",
    "| 1              | 1         | 1    | 0               | 1   |\n",
    "| 1              | 1         | 1    | 1               | 1   |\n",
    "| 1              | 1         | 1    | 1               | 1   |\n",
    "| 1              | 1         | 1    | 0               | 1   |\n",
    "| 1              | 1         | 1    | 1               | 1   |\n",
    "| 0              | 1         | 1    | 1               | 1   |\n",
    "| 1              | 1         | 0    | 1               | 0   |\n",
    "| 1              | 1         | 1    | 1               | 0   |\n",
    "| 1              | 1         | 0    | 1               | 0   |\n",
    "| 1              | 0         | 0    | 1               | 0   |\n",
    "| 0              | 1         | 0    | 0               | 0   |\n",
    "| 1              | 1         | 1    | 1               | 0   |\n",
    "| 0              | 1         | 0    | 1               | 0   |\n",
    "| 1              | 1         | 0    | 1               | 0   |\n",
    "| 1              | 0         | 1    | 1               | 0   |\n",
    "| 1              | 0         | 0    | 1               | 0   |"
   ]
  },
  {
   "cell_type": "markdown",
   "metadata": {},
   "source": [
    "Use this summary to predict whether a person with the following data owns a home:\n",
    "\n",
    "| incomeOver100k | ageOver40 | kids | morethan1Income |\n",
    "|----------------|-----------|------|-----------------|\n",
    "| 0              | 1         | 1    | 0               |\n"
   ]
  },
  {
   "cell_type": "code",
   "execution_count": 7,
   "metadata": {},
   "outputs": [
    {
     "ename": "SyntaxError",
     "evalue": "invalid syntax (<ipython-input-7-7aabea6b810c>, line 1)",
     "output_type": "error",
     "traceback": [
      "\u001b[0;36m  File \u001b[0;32m\"<ipython-input-7-7aabea6b810c>\"\u001b[0;36m, line \u001b[0;32m1\u001b[0m\n\u001b[0;31m    |x | Income > 100k | Age > 40 | kids | 1 income |\u001b[0m\n\u001b[0m    ^\u001b[0m\n\u001b[0;31mSyntaxError\u001b[0m\u001b[0;31m:\u001b[0m invalid syntax\n"
     ]
    }
   ],
   "source": [
    "|x | Income > 100k | Age > 40 | kids | 1 income |\n",
    "|---------|---------------|----------|------|-----------|\n",
    "| Not Own | 0.8 |  1        |  0.8    |   0.7        |\n",
    "| Own     | 0.8           | 0.7       |  0.3 |     0.9      |"
   ]
  },
  {
   "cell_type": "code",
   "execution_count": null,
   "metadata": {},
   "outputs": [],
   "source": [
    "home = 0.5 * 0.2 * 1 * 0.8 * 0.3\n",
    "nohome = 0.5 * 0.2 * 0.7 * 0.3 * 0.1\n",
    "\n",
    "print(home, nohome)"
   ]
  },
  {
   "cell_type": "code",
   "execution_count": null,
   "metadata": {},
   "outputs": [],
   "source": []
  }
 ],
 "metadata": {
  "kernelspec": {
   "display_name": "Python 3",
   "language": "python",
   "name": "python3"
  },
  "language_info": {
   "codemirror_mode": {
    "name": "ipython",
    "version": 3
   },
   "file_extension": ".py",
   "mimetype": "text/x-python",
   "name": "python",
   "nbconvert_exporter": "python",
   "pygments_lexer": "ipython3",
   "version": "3.8.1"
  }
 },
 "nbformat": 4,
 "nbformat_minor": 4
}
