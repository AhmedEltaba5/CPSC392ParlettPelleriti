{
 "cells": [
  {
   "cell_type": "code",
   "execution_count": 2,
   "metadata": {},
   "outputs": [],
   "source": [
    "#1\n",
    "#UNECESSARY\n",
    "\n",
    "#2\n",
    "iris <- read.csv(url(\"https://raw.githubusercontent.com/mwaskom/seaborn-data/master/iris.csv\"))\n",
    "titanic <- read.csv(url(\"https://raw.githubusercontent.com/mwaskom/seaborn-data/master/titanic.csv\"))\n"
   ]
  },
  {
   "cell_type": "code",
   "execution_count": 3,
   "metadata": {},
   "outputs": [
    {
     "data": {
      "text/html": [
       "<table>\n",
       "<caption>A data.frame: 6 × 5</caption>\n",
       "<thead>\n",
       "\t<tr><th></th><th scope=col>sepal_length</th><th scope=col>sepal_width</th><th scope=col>petal_length</th><th scope=col>petal_width</th><th scope=col>species</th></tr>\n",
       "\t<tr><th></th><th scope=col>&lt;dbl&gt;</th><th scope=col>&lt;dbl&gt;</th><th scope=col>&lt;dbl&gt;</th><th scope=col>&lt;dbl&gt;</th><th scope=col>&lt;fct&gt;</th></tr>\n",
       "</thead>\n",
       "<tbody>\n",
       "\t<tr><th scope=row>1</th><td>5.1</td><td>3.5</td><td>1.4</td><td>0.2</td><td>setosa</td></tr>\n",
       "\t<tr><th scope=row>2</th><td>4.9</td><td>3.0</td><td>1.4</td><td>0.2</td><td>setosa</td></tr>\n",
       "\t<tr><th scope=row>3</th><td>4.7</td><td>3.2</td><td>1.3</td><td>0.2</td><td>setosa</td></tr>\n",
       "\t<tr><th scope=row>4</th><td>4.6</td><td>3.1</td><td>1.5</td><td>0.2</td><td>setosa</td></tr>\n",
       "\t<tr><th scope=row>5</th><td>5.0</td><td>3.6</td><td>1.4</td><td>0.2</td><td>setosa</td></tr>\n",
       "\t<tr><th scope=row>6</th><td>5.4</td><td>3.9</td><td>1.7</td><td>0.4</td><td>setosa</td></tr>\n",
       "</tbody>\n",
       "</table>\n"
      ],
      "text/latex": [
       "A data.frame: 6 × 5\n",
       "\\begin{tabular}{r|lllll}\n",
       "  & sepal\\_length & sepal\\_width & petal\\_length & petal\\_width & species\\\\\n",
       "  & <dbl> & <dbl> & <dbl> & <dbl> & <fct>\\\\\n",
       "\\hline\n",
       "\t1 & 5.1 & 3.5 & 1.4 & 0.2 & setosa\\\\\n",
       "\t2 & 4.9 & 3.0 & 1.4 & 0.2 & setosa\\\\\n",
       "\t3 & 4.7 & 3.2 & 1.3 & 0.2 & setosa\\\\\n",
       "\t4 & 4.6 & 3.1 & 1.5 & 0.2 & setosa\\\\\n",
       "\t5 & 5.0 & 3.6 & 1.4 & 0.2 & setosa\\\\\n",
       "\t6 & 5.4 & 3.9 & 1.7 & 0.4 & setosa\\\\\n",
       "\\end{tabular}\n"
      ],
      "text/markdown": [
       "\n",
       "A data.frame: 6 × 5\n",
       "\n",
       "| <!--/--> | sepal_length &lt;dbl&gt; | sepal_width &lt;dbl&gt; | petal_length &lt;dbl&gt; | petal_width &lt;dbl&gt; | species &lt;fct&gt; |\n",
       "|---|---|---|---|---|---|\n",
       "| 1 | 5.1 | 3.5 | 1.4 | 0.2 | setosa |\n",
       "| 2 | 4.9 | 3.0 | 1.4 | 0.2 | setosa |\n",
       "| 3 | 4.7 | 3.2 | 1.3 | 0.2 | setosa |\n",
       "| 4 | 4.6 | 3.1 | 1.5 | 0.2 | setosa |\n",
       "| 5 | 5.0 | 3.6 | 1.4 | 0.2 | setosa |\n",
       "| 6 | 5.4 | 3.9 | 1.7 | 0.4 | setosa |\n",
       "\n"
      ],
      "text/plain": [
       "  sepal_length sepal_width petal_length petal_width species\n",
       "1 5.1          3.5         1.4          0.2         setosa \n",
       "2 4.9          3.0         1.4          0.2         setosa \n",
       "3 4.7          3.2         1.3          0.2         setosa \n",
       "4 4.6          3.1         1.5          0.2         setosa \n",
       "5 5.0          3.6         1.4          0.2         setosa \n",
       "6 5.4          3.9         1.7          0.4         setosa "
      ]
     },
     "metadata": {},
     "output_type": "display_data"
    },
    {
     "data": {
      "text/html": [
       "<table>\n",
       "<caption>A data.frame: 6 × 15</caption>\n",
       "<thead>\n",
       "\t<tr><th></th><th scope=col>survived</th><th scope=col>pclass</th><th scope=col>sex</th><th scope=col>age</th><th scope=col>sibsp</th><th scope=col>parch</th><th scope=col>fare</th><th scope=col>embarked</th><th scope=col>class</th><th scope=col>who</th><th scope=col>adult_male</th><th scope=col>deck</th><th scope=col>embark_town</th><th scope=col>alive</th><th scope=col>alone</th></tr>\n",
       "\t<tr><th></th><th scope=col>&lt;int&gt;</th><th scope=col>&lt;int&gt;</th><th scope=col>&lt;fct&gt;</th><th scope=col>&lt;dbl&gt;</th><th scope=col>&lt;int&gt;</th><th scope=col>&lt;int&gt;</th><th scope=col>&lt;dbl&gt;</th><th scope=col>&lt;fct&gt;</th><th scope=col>&lt;fct&gt;</th><th scope=col>&lt;fct&gt;</th><th scope=col>&lt;fct&gt;</th><th scope=col>&lt;fct&gt;</th><th scope=col>&lt;fct&gt;</th><th scope=col>&lt;fct&gt;</th><th scope=col>&lt;fct&gt;</th></tr>\n",
       "</thead>\n",
       "<tbody>\n",
       "\t<tr><th scope=row>1</th><td>0</td><td>3</td><td>male  </td><td>22</td><td>1</td><td>0</td><td> 7.2500</td><td>S</td><td>Third</td><td>man  </td><td>True </td><td> </td><td>Southampton</td><td>no </td><td>False</td></tr>\n",
       "\t<tr><th scope=row>2</th><td>1</td><td>1</td><td>female</td><td>38</td><td>1</td><td>0</td><td>71.2833</td><td>C</td><td>First</td><td>woman</td><td>False</td><td>C</td><td>Cherbourg  </td><td>yes</td><td>False</td></tr>\n",
       "\t<tr><th scope=row>3</th><td>1</td><td>3</td><td>female</td><td>26</td><td>0</td><td>0</td><td> 7.9250</td><td>S</td><td>Third</td><td>woman</td><td>False</td><td> </td><td>Southampton</td><td>yes</td><td>True </td></tr>\n",
       "\t<tr><th scope=row>4</th><td>1</td><td>1</td><td>female</td><td>35</td><td>1</td><td>0</td><td>53.1000</td><td>S</td><td>First</td><td>woman</td><td>False</td><td>C</td><td>Southampton</td><td>yes</td><td>False</td></tr>\n",
       "\t<tr><th scope=row>5</th><td>0</td><td>3</td><td>male  </td><td>35</td><td>0</td><td>0</td><td> 8.0500</td><td>S</td><td>Third</td><td>man  </td><td>True </td><td> </td><td>Southampton</td><td>no </td><td>True </td></tr>\n",
       "\t<tr><th scope=row>6</th><td>0</td><td>3</td><td>male  </td><td>NA</td><td>0</td><td>0</td><td> 8.4583</td><td>Q</td><td>Third</td><td>man  </td><td>True </td><td> </td><td>Queenstown </td><td>no </td><td>True </td></tr>\n",
       "</tbody>\n",
       "</table>\n"
      ],
      "text/latex": [
       "A data.frame: 6 × 15\n",
       "\\begin{tabular}{r|lllllllllllllll}\n",
       "  & survived & pclass & sex & age & sibsp & parch & fare & embarked & class & who & adult\\_male & deck & embark\\_town & alive & alone\\\\\n",
       "  & <int> & <int> & <fct> & <dbl> & <int> & <int> & <dbl> & <fct> & <fct> & <fct> & <fct> & <fct> & <fct> & <fct> & <fct>\\\\\n",
       "\\hline\n",
       "\t1 & 0 & 3 & male   & 22 & 1 & 0 &  7.2500 & S & Third & man   & True  &   & Southampton & no  & False\\\\\n",
       "\t2 & 1 & 1 & female & 38 & 1 & 0 & 71.2833 & C & First & woman & False & C & Cherbourg   & yes & False\\\\\n",
       "\t3 & 1 & 3 & female & 26 & 0 & 0 &  7.9250 & S & Third & woman & False &   & Southampton & yes & True \\\\\n",
       "\t4 & 1 & 1 & female & 35 & 1 & 0 & 53.1000 & S & First & woman & False & C & Southampton & yes & False\\\\\n",
       "\t5 & 0 & 3 & male   & 35 & 0 & 0 &  8.0500 & S & Third & man   & True  &   & Southampton & no  & True \\\\\n",
       "\t6 & 0 & 3 & male   & NA & 0 & 0 &  8.4583 & Q & Third & man   & True  &   & Queenstown  & no  & True \\\\\n",
       "\\end{tabular}\n"
      ],
      "text/markdown": [
       "\n",
       "A data.frame: 6 × 15\n",
       "\n",
       "| <!--/--> | survived &lt;int&gt; | pclass &lt;int&gt; | sex &lt;fct&gt; | age &lt;dbl&gt; | sibsp &lt;int&gt; | parch &lt;int&gt; | fare &lt;dbl&gt; | embarked &lt;fct&gt; | class &lt;fct&gt; | who &lt;fct&gt; | adult_male &lt;fct&gt; | deck &lt;fct&gt; | embark_town &lt;fct&gt; | alive &lt;fct&gt; | alone &lt;fct&gt; |\n",
       "|---|---|---|---|---|---|---|---|---|---|---|---|---|---|---|---|\n",
       "| 1 | 0 | 3 | male   | 22 | 1 | 0 |  7.2500 | S | Third | man   | True  | <!----> | Southampton | no  | False |\n",
       "| 2 | 1 | 1 | female | 38 | 1 | 0 | 71.2833 | C | First | woman | False | C | Cherbourg   | yes | False |\n",
       "| 3 | 1 | 3 | female | 26 | 0 | 0 |  7.9250 | S | Third | woman | False | <!----> | Southampton | yes | True  |\n",
       "| 4 | 1 | 1 | female | 35 | 1 | 0 | 53.1000 | S | First | woman | False | C | Southampton | yes | False |\n",
       "| 5 | 0 | 3 | male   | 35 | 0 | 0 |  8.0500 | S | Third | man   | True  | <!----> | Southampton | no  | True  |\n",
       "| 6 | 0 | 3 | male   | NA | 0 | 0 |  8.4583 | Q | Third | man   | True  | <!----> | Queenstown  | no  | True  |\n",
       "\n"
      ],
      "text/plain": [
       "  survived pclass sex    age sibsp parch fare    embarked class who  \n",
       "1 0        3      male   22  1     0      7.2500 S        Third man  \n",
       "2 1        1      female 38  1     0     71.2833 C        First woman\n",
       "3 1        3      female 26  0     0      7.9250 S        Third woman\n",
       "4 1        1      female 35  1     0     53.1000 S        First woman\n",
       "5 0        3      male   35  0     0      8.0500 S        Third man  \n",
       "6 0        3      male   NA  0     0      8.4583 Q        Third man  \n",
       "  adult_male deck embark_town alive alone\n",
       "1 True            Southampton no    False\n",
       "2 False      C    Cherbourg   yes   False\n",
       "3 False           Southampton yes   True \n",
       "4 False      C    Southampton yes   False\n",
       "5 True            Southampton no    True \n",
       "6 True            Queenstown  no    True "
      ]
     },
     "metadata": {},
     "output_type": "display_data"
    }
   ],
   "source": [
    "#3\n",
    "head(iris)\n",
    "head(titanic)"
   ]
  },
  {
   "cell_type": "code",
   "execution_count": 4,
   "metadata": {},
   "outputs": [
    {
     "name": "stdout",
     "output_type": "stream",
     "text": [
      "  [1] male   female female female male   male   male   male   female female\n",
      " [11] female female male   male   female female male   male   female female\n",
      " [21] male   male   female male   female female male   male   female male  \n",
      " [31] male   female female male   male   male   male   male   female female\n",
      " [41] female female male   female female male   male   female male   female\n",
      " [51] male   male   female female male   male   female male   female male  \n",
      " [61] male   female male   male   male   male   female male   female male  \n",
      " [71] male   female male   male   male   male   male   male   male   female\n",
      " [81] male   male   female male   female female male   male   female male  \n",
      " [91] male   male   male   male   male   male   male   male   female male  \n",
      "[101] female male   male   male   male   male   female male   male   female\n",
      "[111] male   female male   female female male   male   male   male   female\n",
      "[121] male   male   male   female male   male   male   male   female male  \n",
      "[131] male   male   female female male   male   female male   male   male  \n",
      "[141] female female female male   male   male   male   female male   male  \n",
      "[151] male   female male   male   male   male   female male   male   male  \n",
      "[161] male   female male   male   male   male   female female male   male  \n",
      "[171] male   male   female male   male   male   male   female male   male  \n",
      "[181] female male   male   male   female male   female male   male   male  \n",
      "[191] female male   female male   female female male   male   female female\n",
      "[201] male   male   male   male   male   female male   male   female male  \n",
      "[211] male   female male   male   male   female female male   female male  \n",
      "[221] male   male   male   male   male   male   male   male   male   female\n",
      "[231] female male   male   female male   female male   female male   male  \n",
      "[241] female female male   male   male   male   female female male   male  \n",
      "[251] male   female male   male   female female female female female female\n",
      "[261] male   male   male   male   female male   male   male   female female\n",
      "[271] male   male   female male   female female female male   male   female\n",
      "[281] male   male   male   male   male   male   male   male   male   female\n",
      "[291] female female male   female male   male   male   female male   female\n",
      "[301] female male   male   female male   male   female female male   female\n",
      "[311] female female female male   male   female female male   female female\n",
      "[321] male   male   female female male   female male   female female female\n",
      "[331] female male   male   male   female male   male   female male   male  \n",
      "[341] male   female male   male   male   female female female male   male  \n",
      "[351] male   male   male   male   male   male   female female female female\n",
      "[361] male   male   female male   male   male   female female female female\n",
      "[371] male   male   male   male   female female female male   male   male  \n",
      "[381] female female male   female male   male   male   female male   female\n",
      "[391] male   male   male   female female male   female male   male   female\n",
      "[401] male   male   female male   female male   male   male   male   female\n",
      "[411] male   male   female male   male   female female female male   female\n",
      "[421] male   male   male   female male   male   female female male   male  \n",
      "[431] male   female female male   male   female female female male   male  \n",
      "[441] female male   male   female male   male   female male   female male  \n",
      "[451] male   male   male   male   male   male   male   female female male  \n",
      "[461] male   male   male   male   male   male   male   male   male   female\n",
      "[471] male   male   female female female male   male   male   male   female\n",
      "[481] male   male   male   female male   female female male   male   male  \n",
      "[491] male   male   male   male   male   male   female male   female male  \n",
      "[501] male   female female female female male   female male   male   male  \n",
      "[511] male   male   male   female male   male   female male   female male  \n",
      "[521] female male   male   female male   male   female male   male   male  \n",
      "[531] female male   male   female female female male   female male   female\n",
      "[541] female female female male   male   male   female male   male   male  \n",
      "[551] male   male   male   male   female male   female male   female female\n",
      "[561] male   male   male   male   female male   male   female male   male  \n",
      "[571] male   female male   female male   male   female female female male  \n",
      "[581] female female male   male   male   female male   male   male   male  \n",
      "[591] male   female male   female male   male   female male   male   male  \n",
      "[601] female male   male   male   male   male   male   male   female female\n",
      "[611] female male   female male   male   female male   female female male  \n",
      "[621] male   male   male   male   male   male   male   female male   male  \n",
      "[631] male   male   male   male   female female male   male   female male  \n",
      "[641] male   female female male   female male   male   male   male   female\n",
      "[651] male   female male   female female male   male   female male   male  \n",
      "[661] male   male   male   male   male   male   male   male   male   female\n",
      "[671] female male   male   male   male   male   male   female female male  \n",
      "[681] female male   male   male   male   male   male   male   male   female\n",
      "[691] male   female male   male   male   male   male   female male   male  \n",
      "[701] female male   female male   male   male   female male   female male  \n",
      "[711] female male   male   male   male   male   female female male   male  \n",
      "[721] female male   male   male   male   male   female female male   female\n",
      "[731] female male   male   male   male   male   female male   male   male  \n",
      "[741] male   male   female male   male   male   male   female male   male  \n",
      "[751] female male   male   male   female male   male   male   male   female\n",
      "[761] male   male   male   female male   female male   female male   male  \n",
      "[771] male   male   female male   female male   male   female male   female\n",
      "[781] female female male   male   male   male   female male   male   male  \n",
      "[791] male   male   female male   male   male   female female male   female\n",
      "[801] male   female male   male   male   male   male   female male   female\n",
      "[811] male   male   male   female male   male   female male   male   male  \n",
      "[821] female male   male   female male   male   male   male   male   female\n",
      "[831] female male   male   male   male   female male   male   male   male  \n",
      "[841] male   male   female male   male   male   male   male   male   female\n",
      "[851] male   male   female female female female female male   female male  \n",
      "[861] male   male   female female male   female female male   male   male  \n",
      "[871] male   female male   male   female female male   male   male   female\n",
      "[881] female male   female male   male   female male   female female male  \n",
      "[891] male  \n",
      "Levels: female male\n"
     ]
    }
   ],
   "source": [
    "#4\n",
    "four <- titanic[,\"sex\"]\n",
    "print(four)\n"
   ]
  },
  {
   "cell_type": "code",
   "execution_count": 5,
   "metadata": {},
   "outputs": [
    {
     "name": "stdout",
     "output_type": "stream",
     "text": [
      "   sepal_length sepal_width petal_length petal_width species\n",
      "10          4.9         3.1          1.5         0.1  setosa\n"
     ]
    }
   ],
   "source": [
    "#5\n",
    "five <- iris[10,]\n",
    "print(five)"
   ]
  },
  {
   "cell_type": "code",
   "execution_count": 6,
   "metadata": {},
   "outputs": [
    {
     "name": "stdout",
     "output_type": "stream",
     "text": [
      "[1] 58\n"
     ]
    }
   ],
   "source": [
    "#6\n",
    "six <- titanic[12,\"age\"]\n",
    "print(six)"
   ]
  },
  {
   "cell_type": "code",
   "execution_count": 8,
   "metadata": {},
   "outputs": [
    {
     "name": "stdout",
     "output_type": "stream",
     "text": [
      "[1] 29.69912\n"
     ]
    }
   ],
   "source": [
    "#7\n",
    "seven <- mean(titanic[,\"age\"], na.rm = T)\n",
    "print(seven)"
   ]
  },
  {
   "cell_type": "code",
   "execution_count": null,
   "metadata": {},
   "outputs": [],
   "source": []
  }
 ],
 "metadata": {
  "kernelspec": {
   "display_name": "R",
   "language": "R",
   "name": "ir"
  },
  "language_info": {
   "codemirror_mode": "r",
   "file_extension": ".r",
   "mimetype": "text/x-r-source",
   "name": "R",
   "pygments_lexer": "r",
   "version": "3.6.1"
  }
 },
 "nbformat": 4,
 "nbformat_minor": 2
}
