{
 "cells": [
  {
   "cell_type": "code",
   "execution_count": 1,
   "metadata": {},
   "outputs": [],
   "source": [
    "import warnings\n",
    "warnings.filterwarnings('ignore')"
   ]
  },
  {
   "cell_type": "markdown",
   "metadata": {},
   "source": [
    "# Reaction Time Data\n",
    "\n",
    "Buid a predictive model that uses the reactionTime.csv dataset to predict reaction time on a button pressing task (participants are asked to press a button as soon as they see the screen change color) based on other variables in the dataset.\n",
    "\n",
    "1. Explore your data\n",
    "    - What does reaction time look like? Your chosen Predictor variables?\n",
    "    - Why did you choose the predictors you did?\n",
    "2. Build a Predictive Model\n",
    "    - Standardize Continuous Variables\n",
    "    - Choose a CV method and implement. Why did you choose that way?\n",
    "3. Examine the accuracy of the model\n",
    "    - What's the mean squared error? What does that mean?\n",
    "    - What's the r2? What does that mean?\n"
   ]
  },
  {
   "cell_type": "code",
   "execution_count": null,
   "metadata": {},
   "outputs": [],
   "source": []
  }
 ],
 "metadata": {
  "kernelspec": {
   "display_name": "Python 3",
   "language": "python",
   "name": "python3"
  },
  "language_info": {
   "codemirror_mode": {
    "name": "ipython",
    "version": 3
   },
   "file_extension": ".py",
   "mimetype": "text/x-python",
   "name": "python",
   "nbconvert_exporter": "python",
   "pygments_lexer": "ipython3",
   "version": "3.8.1"
  }
 },
 "nbformat": 4,
 "nbformat_minor": 4
}
