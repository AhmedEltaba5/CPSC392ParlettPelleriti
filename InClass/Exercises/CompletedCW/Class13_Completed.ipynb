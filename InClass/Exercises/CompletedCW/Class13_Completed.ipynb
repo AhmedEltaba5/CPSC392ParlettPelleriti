{
 "cells": [
  {
   "cell_type": "markdown",
   "metadata": {},
   "source": [
    "# Gini Impurity\n",
    "\n",
    "Use python and numpy to write a function, `gini()` that takes in 4 values `LNP`, `LNN`, `RNP`, `RNN` (LN = left node, RN = right node, P is for positive/1, N is for negative/0) and returns the gini impurity for that split.\n",
    "\n",
    "<img src=\"https://drive.google.com/uc?id=1MQEeJDxxcV8zmhzBgaDZ2QY0Ng8z8hz8\" width=400/>\n"
   ]
  },
  {
   "cell_type": "code",
   "execution_count": 45,
   "metadata": {},
   "outputs": [
    {
     "data": {
      "text/plain": [
       "0.34811165845648606"
      ]
     },
     "execution_count": 45,
     "metadata": {},
     "output_type": "execute_result"
    }
   ],
   "source": [
    "import numpy as np\n",
    "\n",
    "def gini(P,N):\n",
    "    Total = P + N # total count in Node\n",
    "    P_p = P/Total # Probability of Positives\n",
    "    N_p = N/Total # Probability of Negatives\n",
    "    return(1-(P_p**2 + N_p**2))\n",
    "\n",
    "#write function here---------------\n",
    "def gini_split(LNP, LNN, RNP, RNN):\n",
    "    \n",
    "    all_data_count = LNP + LNN + RNP + RNN\n",
    "    left_node_count = LNP + LNN\n",
    "    right_node_count = RNP + RNN\n",
    "    \n",
    "    gini_L =  gini(LNP, LNN) #gini on Left Node\n",
    "    gini_R = gini(RNP, RNN) #gini on Right node\n",
    "    \n",
    "    gini_split = ((left_node_count/all_data_count)*gini_L +\n",
    "            (right_node_count/all_data_count)*gini_R) #weighted average of gini impurity of each node\n",
    "    \n",
    "    return(gini_split)\n",
    "\n",
    "gini_split(LNP = 10, LNN = 5, RNP = 2, RNN = 12)\n",
    "#----------------------------------\n",
    "# gini(LNP = 10, LNN = 5, RNP = 2, RNN = 12) should return approx 0.3481117"
   ]
  },
  {
   "cell_type": "code",
   "execution_count": 46,
   "metadata": {},
   "outputs": [
    {
     "data": {
      "text/plain": [
       "0.760615738309308"
      ]
     },
     "execution_count": 46,
     "metadata": {},
     "output_type": "execute_result"
    }
   ],
   "source": [
    "import scipy.stats as st\n",
    "def entropy(P,N):\n",
    "    Total = P + N # total count in Node\n",
    "    P_p = P/Total # Probability of Positives\n",
    "    N_p = N/Total # Probability of Negatives\n",
    "    return(-(P_p*np.log2(P_p) + N_p*np.log2(N_p)))\n",
    "    \n",
    "    \n",
    "def entropy_split(LNP, LNN, RNP, RNN):\n",
    "    \n",
    "    all_data_count = LNP + LNN + RNP + RNN\n",
    "    left_node_count = LNP + LNN\n",
    "    right_node_count = RNP + RNN\n",
    "\n",
    "#     echeck = (left_node_count/all_data_count)*st.entropy([LNP, LNN], base = 2) + (right_node_count/all_data_count)*st.entropy([RNP, RNN], base = 2)\n",
    "#     print(echeck)\n",
    "    \n",
    "    e_L_check = st.entropy([LNP, LNN], base = 2)\n",
    "    e_L = entropy(LNP,LNN) #entropy Left Node\n",
    "    e_R = entropy(RNP,RNN) #entropy Right Node\n",
    "    \n",
    "    e = ((left_node_count/all_data_count)*e_L +\n",
    "         (right_node_count/all_data_count)*e_R) #weighted average of entropy\n",
    "    \n",
    "    return(e)\n",
    "\n",
    "    \n",
    "entropy_split(LNP = 10, LNN = 5, RNP = 2, RNN = 12)\n",
    "    "
   ]
  },
  {
   "cell_type": "markdown",
   "metadata": {},
   "source": [
    "# 2. Build a Categorical Decision Tree"
   ]
  },
  {
   "cell_type": "code",
   "execution_count": 47,
   "metadata": {},
   "outputs": [
    {
     "data": {
      "text/html": [
       "<div>\n",
       "<style scoped>\n",
       "    .dataframe tbody tr th:only-of-type {\n",
       "        vertical-align: middle;\n",
       "    }\n",
       "\n",
       "    .dataframe tbody tr th {\n",
       "        vertical-align: top;\n",
       "    }\n",
       "\n",
       "    .dataframe thead th {\n",
       "        text-align: right;\n",
       "    }\n",
       "</style>\n",
       "<table border=\"1\" class=\"dataframe\">\n",
       "  <thead>\n",
       "    <tr style=\"text-align: right;\">\n",
       "      <th></th>\n",
       "      <th>poison</th>\n",
       "      <th>cap-shape</th>\n",
       "      <th>cap-surface</th>\n",
       "      <th>cap-color</th>\n",
       "      <th>bruises</th>\n",
       "      <th>odor</th>\n",
       "      <th>gill-attachment</th>\n",
       "      <th>gill-spacing</th>\n",
       "      <th>gill-size</th>\n",
       "      <th>gill-color</th>\n",
       "      <th>...</th>\n",
       "      <th>stalk-surface-below-ring</th>\n",
       "      <th>stalk-color-above-ring</th>\n",
       "      <th>stalk-color-below-ring</th>\n",
       "      <th>veil-type</th>\n",
       "      <th>veil-color</th>\n",
       "      <th>ring-number</th>\n",
       "      <th>ring-type</th>\n",
       "      <th>spore-print-color</th>\n",
       "      <th>population</th>\n",
       "      <th>habitat</th>\n",
       "    </tr>\n",
       "  </thead>\n",
       "  <tbody>\n",
       "    <tr>\n",
       "      <th>0</th>\n",
       "      <td>e</td>\n",
       "      <td>x</td>\n",
       "      <td>s</td>\n",
       "      <td>y</td>\n",
       "      <td>t</td>\n",
       "      <td>a</td>\n",
       "      <td>f</td>\n",
       "      <td>c</td>\n",
       "      <td>b</td>\n",
       "      <td>k</td>\n",
       "      <td>...</td>\n",
       "      <td>s</td>\n",
       "      <td>w</td>\n",
       "      <td>w</td>\n",
       "      <td>p</td>\n",
       "      <td>w</td>\n",
       "      <td>o</td>\n",
       "      <td>p</td>\n",
       "      <td>n</td>\n",
       "      <td>n</td>\n",
       "      <td>g</td>\n",
       "    </tr>\n",
       "    <tr>\n",
       "      <th>1</th>\n",
       "      <td>e</td>\n",
       "      <td>b</td>\n",
       "      <td>s</td>\n",
       "      <td>w</td>\n",
       "      <td>t</td>\n",
       "      <td>l</td>\n",
       "      <td>f</td>\n",
       "      <td>c</td>\n",
       "      <td>b</td>\n",
       "      <td>n</td>\n",
       "      <td>...</td>\n",
       "      <td>s</td>\n",
       "      <td>w</td>\n",
       "      <td>w</td>\n",
       "      <td>p</td>\n",
       "      <td>w</td>\n",
       "      <td>o</td>\n",
       "      <td>p</td>\n",
       "      <td>n</td>\n",
       "      <td>n</td>\n",
       "      <td>m</td>\n",
       "    </tr>\n",
       "    <tr>\n",
       "      <th>2</th>\n",
       "      <td>p</td>\n",
       "      <td>x</td>\n",
       "      <td>y</td>\n",
       "      <td>w</td>\n",
       "      <td>t</td>\n",
       "      <td>p</td>\n",
       "      <td>f</td>\n",
       "      <td>c</td>\n",
       "      <td>n</td>\n",
       "      <td>n</td>\n",
       "      <td>...</td>\n",
       "      <td>s</td>\n",
       "      <td>w</td>\n",
       "      <td>w</td>\n",
       "      <td>p</td>\n",
       "      <td>w</td>\n",
       "      <td>o</td>\n",
       "      <td>p</td>\n",
       "      <td>k</td>\n",
       "      <td>s</td>\n",
       "      <td>u</td>\n",
       "    </tr>\n",
       "    <tr>\n",
       "      <th>3</th>\n",
       "      <td>e</td>\n",
       "      <td>x</td>\n",
       "      <td>s</td>\n",
       "      <td>g</td>\n",
       "      <td>f</td>\n",
       "      <td>n</td>\n",
       "      <td>f</td>\n",
       "      <td>w</td>\n",
       "      <td>b</td>\n",
       "      <td>k</td>\n",
       "      <td>...</td>\n",
       "      <td>s</td>\n",
       "      <td>w</td>\n",
       "      <td>w</td>\n",
       "      <td>p</td>\n",
       "      <td>w</td>\n",
       "      <td>o</td>\n",
       "      <td>e</td>\n",
       "      <td>n</td>\n",
       "      <td>a</td>\n",
       "      <td>g</td>\n",
       "    </tr>\n",
       "    <tr>\n",
       "      <th>4</th>\n",
       "      <td>e</td>\n",
       "      <td>x</td>\n",
       "      <td>y</td>\n",
       "      <td>y</td>\n",
       "      <td>t</td>\n",
       "      <td>a</td>\n",
       "      <td>f</td>\n",
       "      <td>c</td>\n",
       "      <td>b</td>\n",
       "      <td>n</td>\n",
       "      <td>...</td>\n",
       "      <td>s</td>\n",
       "      <td>w</td>\n",
       "      <td>w</td>\n",
       "      <td>p</td>\n",
       "      <td>w</td>\n",
       "      <td>o</td>\n",
       "      <td>p</td>\n",
       "      <td>k</td>\n",
       "      <td>n</td>\n",
       "      <td>g</td>\n",
       "    </tr>\n",
       "  </tbody>\n",
       "</table>\n",
       "<p>5 rows × 23 columns</p>\n",
       "</div>"
      ],
      "text/plain": [
       "  poison cap-shape cap-surface cap-color bruises odor gill-attachment  \\\n",
       "0      e         x           s         y       t    a               f   \n",
       "1      e         b           s         w       t    l               f   \n",
       "2      p         x           y         w       t    p               f   \n",
       "3      e         x           s         g       f    n               f   \n",
       "4      e         x           y         y       t    a               f   \n",
       "\n",
       "  gill-spacing gill-size gill-color  ... stalk-surface-below-ring  \\\n",
       "0            c         b          k  ...                        s   \n",
       "1            c         b          n  ...                        s   \n",
       "2            c         n          n  ...                        s   \n",
       "3            w         b          k  ...                        s   \n",
       "4            c         b          n  ...                        s   \n",
       "\n",
       "  stalk-color-above-ring stalk-color-below-ring veil-type veil-color  \\\n",
       "0                      w                      w         p          w   \n",
       "1                      w                      w         p          w   \n",
       "2                      w                      w         p          w   \n",
       "3                      w                      w         p          w   \n",
       "4                      w                      w         p          w   \n",
       "\n",
       "  ring-number ring-type spore-print-color population habitat  \n",
       "0           o         p                 n          n       g  \n",
       "1           o         p                 n          n       m  \n",
       "2           o         p                 k          s       u  \n",
       "3           o         e                 n          a       g  \n",
       "4           o         p                 k          n       g  \n",
       "\n",
       "[5 rows x 23 columns]"
      ]
     },
     "execution_count": 47,
     "metadata": {},
     "output_type": "execute_result"
    }
   ],
   "source": [
    "# Load Mushroom Data------------------------------------\n",
    "import pandas as pd\n",
    "\n",
    "# see this site for what variables mean: http://archive.ics.uci.edu/ml/datasets/Mushroom\n",
    "mush = pd.read_csv(\"http://archive.ics.uci.edu/ml/machine-learning-databases/mushroom/agaricus-lepiota.data\")\n",
    "\n",
    "mush.columns = ['poison','cap-shape', 'cap-surface', 'cap-color', 'bruises', 'odor', 'gill-attachment', 'gill-spacing', 'gill-size',\n",
    "                'gill-color', 'stalk-shape', 'stalk-root', 'stalk-surface-above-ring', 'stalk-surface-below-ring',\n",
    "                'stalk-color-above-ring', 'stalk-color-below-ring', 'veil-type', 'veil-color', 'ring-number','ring-type',\n",
    "                'spore-print-color', 'population', 'habitat']\n",
    "\n",
    "mush.head()"
   ]
  },
  {
   "cell_type": "markdown",
   "metadata": {},
   "source": [
    "For your sanity, let's restrict our dataset to 2 predictor variables..."
   ]
  },
  {
   "cell_type": "code",
   "execution_count": 48,
   "metadata": {},
   "outputs": [],
   "source": [
    "mush_small = mush[[\"poison\", \"bruises\", \"gill-size\"]]"
   ]
  },
  {
   "cell_type": "code",
   "execution_count": 49,
   "metadata": {},
   "outputs": [
    {
     "data": {
      "image/png": "[encoded data removed]",
      "text/plain": [
       "<Figure size 640x480 with 1 Axes>"
      ]
     },
     "metadata": {
      "needs_background": "light"
     },
     "output_type": "display_data"
    },
    {
     "data": {
      "text/plain": [
       "<ggplot: (8761954451475)>"
      ]
     },
     "execution_count": 49,
     "metadata": {},
     "output_type": "execute_result"
    }
   ],
   "source": [
    "# make a bar plot of edible/poisonous mushrooms\n",
    "from plotnine import *\n",
    "ggplot(mush_small, aes(\"poison\")) + geom_bar() + theme_minimal()"
   ]
  },
  {
   "cell_type": "code",
   "execution_count": 50,
   "metadata": {},
   "outputs": [
    {
     "data": {
      "image/png": "[encoded data removed]",
      "text/plain": [
       "<Figure size 640x480 with 1 Axes>"
      ]
     },
     "metadata": {
      "needs_background": "light"
     },
     "output_type": "display_data"
    },
    {
     "data": {
      "text/plain": [
       "<ggplot: (8761954397889)>"
      ]
     },
     "execution_count": 50,
     "metadata": {},
     "output_type": "execute_result"
    }
   ],
   "source": [
    "# make a bar plot of bruised/not-bruised mushrooms\n",
    "ggplot(mush_small, aes(\"bruises\")) + geom_bar() + theme_minimal()"
   ]
  },
  {
   "cell_type": "code",
   "execution_count": 51,
   "metadata": {},
   "outputs": [
    {
     "data": {
      "image/png": "[encoded data removed]",
      "text/plain": [
       "<Figure size 640x480 with 1 Axes>"
      ]
     },
     "metadata": {
      "needs_background": "light"
     },
     "output_type": "display_data"
    },
    {
     "data": {
      "text/plain": [
       "<ggplot: (8761954891734)>"
      ]
     },
     "execution_count": 51,
     "metadata": {},
     "output_type": "execute_result"
    }
   ],
   "source": [
    "# make a bar plot of broad/narrow gilled mushrooms\n",
    "ggplot(mush_small, aes(\"gill-size\")) + geom_bar() + theme_minimal()"
   ]
  },
  {
   "cell_type": "markdown",
   "metadata": {},
   "source": [
    "## 2.1 Build!\n",
    "\n",
    "Use the functions you built earlier to build a decision tree that classifies each data point as either edible (`e`) or poisonous (`p`). You can choose to either use entropy or gini impurity. "
   ]
  },
  {
   "cell_type": "markdown",
   "metadata": {},
   "source": [
    "### 2.1.1 Layer 1\n",
    "\n",
    "Choose which variable to use to split the first layer"
   ]
  },
  {
   "cell_type": "code",
   "execution_count": 52,
   "metadata": {},
   "outputs": [
    {
     "name": "stdout",
     "output_type": "stream",
     "text": [
      "{'e': 4208, 'p': 3915}\n"
     ]
    },
    {
     "data": {
      "text/plain": [
       "0.49934946249669365"
      ]
     },
     "execution_count": 52,
     "metadata": {},
     "output_type": "execute_result"
    }
   ],
   "source": [
    "# create a dictionary of poison counts for each predictor---\n",
    "\n",
    "poison_count = {\"e\": mush_small.loc[mush_small.poison == \"e\"].shape[0],\n",
    "                \"p\": mush_small.loc[mush_small.poison == \"p\"].shape[0]}\n",
    "print(poison_count)\n",
    "\n",
    "gini(poison_count[\"e\"], poison_count[\"p\"])"
   ]
  },
  {
   "cell_type": "code",
   "execution_count": 53,
   "metadata": {},
   "outputs": [
    {
     "data": {
      "text/plain": [
       "{'f': {'e': 1456, 'p': 3292}, 't': {'e': 2752, 'p': 623}}"
      ]
     },
     "execution_count": 53,
     "metadata": {},
     "output_type": "execute_result"
    }
   ],
   "source": [
    "# calculate impurity/entropy (choose one metric) of each possible split---\n",
    "bruise_NodeF = mush_small.loc[mush_small.bruises == \"f\"] #node with bruise = F\n",
    "bruise_NodeT = mush_small.loc[mush_small.bruises == \"t\"] #node with bruise = T\n",
    "\n",
    "bruise_impurity_dict = {\"f\": {\"e\": bruise_NodeF[bruise_NodeF.poison == \"e\"].shape[0],\n",
    "                              \"p\": bruise_NodeF.loc[bruise_NodeF.poison == \"p\"].shape[0]},\n",
    "                        \"t\": {\"e\": bruise_NodeT[bruise_NodeT.poison == \"e\"].shape[0],\n",
    "                              \"p\": bruise_NodeT.loc[bruise_NodeT.poison == \"p\"].shape[0]},}\n",
    "\n",
    "bruise_impurity_dict"
   ]
  },
  {
   "cell_type": "code",
   "execution_count": 54,
   "metadata": {},
   "outputs": [
    {
     "data": {
      "text/plain": [
       "{'b': {'e': 3920, 'p': 1692}, 'n': {'e': 288, 'p': 2223}}"
      ]
     },
     "execution_count": 54,
     "metadata": {},
     "output_type": "execute_result"
    }
   ],
   "source": [
    "gill_NodeB = mush_small.loc[mush_small[\"gill-size\"] == \"b\"] #node with gill = b\n",
    "gill_NodeN = mush_small.loc[mush_small[\"gill-size\"] == \"n\"] #node with gill = n\n",
    "\n",
    "gill_impurity_dict = {\"b\": {\"e\": gill_NodeB[gill_NodeB.poison == \"e\"].shape[0],\n",
    "                              \"p\": gill_NodeB.loc[gill_NodeB.poison == \"p\"].shape[0]},\n",
    "                        \"n\": {\"e\": gill_NodeN[gill_NodeN.poison == \"e\"].shape[0],\n",
    "                              \"p\": gill_NodeN.loc[gill_NodeN.poison == \"p\"].shape[0]},}\n",
    "\n",
    "gill_impurity_dict"
   ]
  },
  {
   "cell_type": "code",
   "execution_count": 55,
   "metadata": {},
   "outputs": [
    {
     "data": {
      "text/plain": [
       "0.37363252569361594"
      ]
     },
     "execution_count": 55,
     "metadata": {},
     "output_type": "execute_result"
    }
   ],
   "source": [
    "# choose which split improves prediction most---\n",
    "gini_bruise = gini_split(bruise_impurity_dict[\"f\"][\"e\"], bruise_impurity_dict[\"f\"][\"p\"],\n",
    "                  bruise_impurity_dict[\"t\"][\"e\"], bruise_impurity_dict[\"t\"][\"p\"])\n",
    "gini_bruise"
   ]
  },
  {
   "cell_type": "code",
   "execution_count": 56,
   "metadata": {},
   "outputs": [
    {
     "data": {
      "text/plain": [
       "0.3537695848523329"
      ]
     },
     "execution_count": 56,
     "metadata": {},
     "output_type": "execute_result"
    }
   ],
   "source": [
    "# gini_gill\n",
    "gini_gill = gini_split(gill_impurity_dict[\"b\"][\"e\"], gill_impurity_dict[\"b\"][\"p\"],\n",
    "                gill_impurity_dict[\"n\"][\"e\"], gill_impurity_dict[\"n\"][\"p\"])\n",
    "\n",
    "gini_gill"
   ]
  },
  {
   "cell_type": "markdown",
   "metadata": {},
   "source": [
    "Splitting on Gill minimizes the gini impurity, so we will use this split."
   ]
  },
  {
   "cell_type": "markdown",
   "metadata": {},
   "source": [
    "### 2.1.3 Create Classifications\n",
    "\n",
    "Pretend that this decision stump (a decision tree with only one layer) is your final tree. Generate the classification for each data point and store it in `mush_small`."
   ]
  },
  {
   "cell_type": "code",
   "execution_count": 57,
   "metadata": {},
   "outputs": [
    {
     "name": "stderr",
     "output_type": "stream",
     "text": [
      "<ipython-input-57-93f79bc9527e>:21: SettingWithCopyWarning: \n",
      "A value is trying to be set on a copy of a slice from a DataFrame.\n",
      "Try using .loc[row_indexer,col_indexer] = value instead\n",
      "\n",
      "See the caveats in the documentation: https://pandas.pydata.org/pandas-docs/stable/user_guide/indexing.html#returning-a-view-versus-a-copy\n",
      "  mush_small[\"class\"] = [\"e\" if x == \"b\" else \"p\" for x in mush_small[\"gill-size\"]]\n"
     ]
    }
   ],
   "source": [
    "# classification---\n",
    "\n",
    "# re define these, but they're also defined above!\n",
    "gill_NodeB = mush_small.loc[mush_small[\"gill-size\"] == \"b\"] #node with gill = b\n",
    "gill_NodeN = mush_small.loc[mush_small[\"gill-size\"] == \"n\"] #node with gill = n\n",
    "\n",
    "gill_impurity_dict = {\"b\": {\"e\": gill_NodeB[gill_NodeB.poison == \"e\"].shape[0],\n",
    "                              \"p\": gill_NodeB.loc[gill_NodeB.poison == \"p\"].shape[0]},\n",
    "                        \"n\": {\"e\": gill_NodeN[gill_NodeN.poison == \"e\"].shape[0],\n",
    "                              \"p\": gill_NodeN.loc[gill_NodeN.poison == \"p\"].shape[0]},}\n",
    "\n",
    "gill_impurity_dict\n",
    "\n",
    "# these are our two nodes from this decision stump.\n",
    "# check which category we should classify each node as:\n",
    "# NodeB has more edible mushrooms, we we'll classify all data points in this node as edible\n",
    "# NodeN has more poisonous mushrooms, we we'll classify all data points in this node as poison\n",
    "\n",
    "\n",
    "# add classifications to dataframe\n",
    "mush_small[\"class\"] = [\"e\" if x == \"b\" else \"p\" for x in mush_small[\"gill-size\"]]"
   ]
  },
  {
   "cell_type": "markdown",
   "metadata": {},
   "source": [
    "### 2.1.4 Calculate Accuracy\n",
    "\n",
    "Count how often your model was correct. How well did your model do?"
   ]
  },
  {
   "cell_type": "code",
   "execution_count": 58,
   "metadata": {},
   "outputs": [
    {
     "data": {
      "text/plain": [
       "0.7562476917395051"
      ]
     },
     "execution_count": 58,
     "metadata": {},
     "output_type": "execute_result"
    }
   ],
   "source": [
    "# accuracy----\n",
    "np.mean(mush_small[\"poison\"] == mush_small[\"class\"])"
   ]
  },
  {
   "cell_type": "markdown",
   "metadata": {},
   "source": [
    " greater than 75% accuracy!"
   ]
  }
 ],
 "metadata": {
  "hide_input": false,
  "kernelspec": {
   "display_name": "Python 3",
   "language": "python",
   "name": "python3"
  },
  "language_info": {
   "codemirror_mode": {
    "name": "ipython",
    "version": 3
   },
   "file_extension": ".py",
   "mimetype": "text/x-python",
   "name": "python",
   "nbconvert_exporter": "python",
   "pygments_lexer": "ipython3",
   "version": "3.8.1"
  },
  "toc": {
   "base_numbering": 1,
   "nav_menu": {},
   "number_sections": true,
   "sideBar": true,
   "skip_h1_title": false,
   "title_cell": "Table of Contents",
   "title_sidebar": "Contents",
   "toc_cell": false,
   "toc_position": {},
   "toc_section_display": true,
   "toc_window_display": false
  }
 },
 "nbformat": 4,
 "nbformat_minor": 4
}
