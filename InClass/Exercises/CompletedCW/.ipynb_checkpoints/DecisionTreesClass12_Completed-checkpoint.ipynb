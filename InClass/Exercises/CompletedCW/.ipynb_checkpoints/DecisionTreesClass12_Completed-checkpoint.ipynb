{
 "cells": [
  {
   "cell_type": "code",
   "execution_count": 1,
   "metadata": {},
   "outputs": [],
   "source": [
    "import warnings\n",
    "warnings.filterwarnings('ignore')\n",
    "\n",
    "\n",
    "import pandas as pd\n",
    "import numpy as np\n",
    "from plotnine import *\n",
    "\n",
    "\n",
    "from sklearn.tree import DecisionTreeClassifier # Decision Tree\n",
    "from sklearn.model_selection import train_test_split\n",
    "\n",
    "from sklearn import metrics \n",
    "from sklearn.preprocessing import StandardScaler, LabelEncoder #Z-score variables\n",
    "\n",
    "from sklearn.model_selection import train_test_split # simple TT split cv\n",
    "from sklearn.model_selection import KFold # k-fold cv\n",
    "from sklearn.model_selection import LeaveOneOut #LOO cv\n",
    "from sklearn.model_selection import cross_val_score # cross validation metrics\n",
    "from sklearn.model_selection import cross_val_predict # cross validation metrics\n",
    "from sklearn.metrics import accuracy_score, confusion_matrix\n",
    "from sklearn.metrics import plot_confusion_matrix\n"
   ]
  },
  {
   "cell_type": "markdown",
   "metadata": {},
   "source": [
    "## 0. Together\n",
    "\n",
    "Decision Trees are a (typically) classification algorithm that makes decisions by iteratively splitting data into groups until a classification is made. The resulting splits make what is essentially a flow chart. These trees are made one split at a time, and each split is chosen by minimizing the chaos (entropy or impurity) at that particular split.\n",
    "\n",
    "### 0.1 Building a Decision Tree"
   ]
  },
  {
   "cell_type": "code",
   "execution_count": 2,
   "metadata": {},
   "outputs": [],
   "source": [
    "d = pd.read_csv(\"https://raw.githubusercontent.com/cmparlettpelleriti/CPSC392ParlettPelleriti/master/Data/diabetes2.csv\")"
   ]
  },
  {
   "cell_type": "code",
   "execution_count": 3,
   "metadata": {},
   "outputs": [
    {
     "data": {
      "text/html": [
       "<div>\n",
       "<style scoped>\n",
       "    .dataframe tbody tr th:only-of-type {\n",
       "        vertical-align: middle;\n",
       "    }\n",
       "\n",
       "    .dataframe tbody tr th {\n",
       "        vertical-align: top;\n",
       "    }\n",
       "\n",
       "    .dataframe thead th {\n",
       "        text-align: right;\n",
       "    }\n",
       "</style>\n",
       "<table border=\"1\" class=\"dataframe\">\n",
       "  <thead>\n",
       "    <tr style=\"text-align: right;\">\n",
       "      <th></th>\n",
       "      <th>Pregnancies</th>\n",
       "      <th>Glucose</th>\n",
       "      <th>BloodPressure</th>\n",
       "      <th>SkinThickness</th>\n",
       "      <th>Insulin</th>\n",
       "      <th>BMI</th>\n",
       "      <th>DiabetesPedigreeFunction</th>\n",
       "      <th>Age</th>\n",
       "      <th>Outcome</th>\n",
       "    </tr>\n",
       "  </thead>\n",
       "  <tbody>\n",
       "    <tr>\n",
       "      <th>0</th>\n",
       "      <td>6</td>\n",
       "      <td>148</td>\n",
       "      <td>72</td>\n",
       "      <td>35</td>\n",
       "      <td>0</td>\n",
       "      <td>33.6</td>\n",
       "      <td>0.627</td>\n",
       "      <td>50</td>\n",
       "      <td>1</td>\n",
       "    </tr>\n",
       "    <tr>\n",
       "      <th>1</th>\n",
       "      <td>1</td>\n",
       "      <td>85</td>\n",
       "      <td>66</td>\n",
       "      <td>29</td>\n",
       "      <td>0</td>\n",
       "      <td>26.6</td>\n",
       "      <td>0.351</td>\n",
       "      <td>31</td>\n",
       "      <td>0</td>\n",
       "    </tr>\n",
       "    <tr>\n",
       "      <th>2</th>\n",
       "      <td>8</td>\n",
       "      <td>183</td>\n",
       "      <td>64</td>\n",
       "      <td>0</td>\n",
       "      <td>0</td>\n",
       "      <td>23.3</td>\n",
       "      <td>0.672</td>\n",
       "      <td>32</td>\n",
       "      <td>1</td>\n",
       "    </tr>\n",
       "    <tr>\n",
       "      <th>3</th>\n",
       "      <td>1</td>\n",
       "      <td>89</td>\n",
       "      <td>66</td>\n",
       "      <td>23</td>\n",
       "      <td>94</td>\n",
       "      <td>28.1</td>\n",
       "      <td>0.167</td>\n",
       "      <td>21</td>\n",
       "      <td>0</td>\n",
       "    </tr>\n",
       "    <tr>\n",
       "      <th>4</th>\n",
       "      <td>0</td>\n",
       "      <td>137</td>\n",
       "      <td>40</td>\n",
       "      <td>35</td>\n",
       "      <td>168</td>\n",
       "      <td>43.1</td>\n",
       "      <td>2.288</td>\n",
       "      <td>33</td>\n",
       "      <td>1</td>\n",
       "    </tr>\n",
       "  </tbody>\n",
       "</table>\n",
       "</div>"
      ],
      "text/plain": [
       "   Pregnancies  Glucose  BloodPressure  SkinThickness  Insulin   BMI  \\\n",
       "0            6      148             72             35        0  33.6   \n",
       "1            1       85             66             29        0  26.6   \n",
       "2            8      183             64              0        0  23.3   \n",
       "3            1       89             66             23       94  28.1   \n",
       "4            0      137             40             35      168  43.1   \n",
       "\n",
       "   DiabetesPedigreeFunction  Age  Outcome  \n",
       "0                     0.627   50        1  \n",
       "1                     0.351   31        0  \n",
       "2                     0.672   32        1  \n",
       "3                     0.167   21        0  \n",
       "4                     2.288   33        1  "
      ]
     },
     "execution_count": 3,
     "metadata": {},
     "output_type": "execute_result"
    }
   ],
   "source": [
    "predictors = [\"Pregnancies\",\"Glucose\",\"BloodPressure\",\"SkinThickness\",\n",
    "              \"Insulin\",\"BMI\",\"DiabetesPedigreeFunction\",\"Age\"]\n",
    "X = d[predictors]\n",
    "y = d[\"Outcome\"]\n",
    "\n",
    "# TTS\n",
    "X_train, X_test, y_train, y_test = train_test_split(X,y, test_size = 0.2, random_state = 1234)\n",
    "\n",
    "d.head()"
   ]
  },
  {
   "cell_type": "code",
   "execution_count": 4,
   "metadata": {},
   "outputs": [
    {
     "data": {
      "text/plain": [
       "DecisionTreeClassifier(ccp_alpha=0.0, class_weight=None, criterion='gini',\n",
       "                       max_depth=None, max_features=None, max_leaf_nodes=None,\n",
       "                       min_impurity_decrease=0.0, min_impurity_split=None,\n",
       "                       min_samples_leaf=1, min_samples_split=2,\n",
       "                       min_weight_fraction_leaf=0.0, presort='deprecated',\n",
       "                       random_state=1234, splitter='best')"
      ]
     },
     "execution_count": 4,
     "metadata": {},
     "output_type": "execute_result"
    }
   ],
   "source": [
    "tree = DecisionTreeClassifier(random_state = 1234)\n",
    "tree.fit(X_train,y_train)"
   ]
  },
  {
   "cell_type": "code",
   "execution_count": 5,
   "metadata": {},
   "outputs": [
    {
     "data": {
      "text/plain": [
       "<sklearn.metrics._plot.confusion_matrix.ConfusionMatrixDisplay at 0x7fec9f56db20>"
      ]
     },
     "execution_count": 5,
     "metadata": {},
     "output_type": "execute_result"
    },
    {
     "data": {
      "image/png": "[encoded data removed]",
      "text/plain": [
       "<Figure size 432x288 with 2 Axes>"
      ]
     },
     "metadata": {
      "needs_background": "light"
     },
     "output_type": "display_data"
    }
   ],
   "source": [
    "plot_confusion_matrix(tree, X_test, y_test)"
   ]
  },
  {
   "cell_type": "code",
   "execution_count": 6,
   "metadata": {},
   "outputs": [
    {
     "data": {
      "text/plain": [
       "<sklearn.metrics._plot.confusion_matrix.ConfusionMatrixDisplay at 0x7fec9f39ca60>"
      ]
     },
     "execution_count": 6,
     "metadata": {},
     "output_type": "execute_result"
    },
    {
     "data": {
      "image/png": "[encoded data removed]",
      "text/plain": [
       "<Figure size 432x288 with 2 Axes>"
      ]
     },
     "metadata": {
      "needs_background": "light"
     },
     "output_type": "display_data"
    }
   ],
   "source": [
    "plot_confusion_matrix(tree, X_train, y_train)"
   ]
  },
  {
   "cell_type": "markdown",
   "metadata": {},
   "source": [
    "### 0.2 What does this tell us?\n",
    "\n",
    "And how can we fix things?\n",
    "<img src=\"https://drive.google.com/uc?export=view&id=1ghyQPx1N8dmU3MV4TrANvqNhGwnLni72\" width = 200px />"
   ]
  },
  {
   "cell_type": "code",
   "execution_count": 7,
   "metadata": {},
   "outputs": [
    {
     "data": {
      "text/plain": [
       "13"
      ]
     },
     "execution_count": 7,
     "metadata": {},
     "output_type": "execute_result"
    }
   ],
   "source": [
    "# new model\n",
    "tree.get_depth()"
   ]
  },
  {
   "cell_type": "markdown",
   "metadata": {},
   "source": [
    "## 1. Pruning\n",
    "\n",
    "It's your favorite time! Time to simulate some data.\n",
    "\n",
    "### 1.1 Simulation\n",
    "\n",
    "add the necessary code."
   ]
  },
  {
   "cell_type": "code",
   "execution_count": 8,
   "metadata": {},
   "outputs": [],
   "source": [
    "def simTree(n = 200, max_depth = \"none\"):\n",
    "    \n",
    "    n2 = int(n/2)\n",
    "    \n",
    "    #---generate data-----------------------------------\n",
    "    # generate predictors, only x1 and x2 are related to the outcome\n",
    "    x1 = np.concatenate([np.random.normal(0,1,n2),\n",
    "                         np.random.normal(2,1,n2)])\n",
    "    x2 = np.random.normal(0,1,n)\n",
    "    x3 = np.concatenate([np.random.binomial(1,0.2,n2),\n",
    "                        np.random.binomial(1,0.9, n2)])\n",
    "    \n",
    "    # generate outcome\n",
    "    outcome = np.repeat([\"A\",\"B\"], n2)\n",
    "    \n",
    "    # data frame\n",
    "    df = pd.DataFrame({\"x1\": x1, \"x2\" : x2, \"x3\": x3, \"out\": outcome})\n",
    "    \n",
    "    #---set X and y------------------------------------\n",
    "    X = df[[\"x1\",\"x2\",\"x3\"]]\n",
    "    y = df[[\"out\"]]\n",
    "    X_train, X_test, y_train, y_test = train_test_split(X,y, test_size = 0.2)\n",
    "\n",
    "    \n",
    "    #---build models------------------------------------\n",
    "    \n",
    "    # if there is no max depth, build regular tree\n",
    "    if max_depth == \"none\":\n",
    "        tree = DecisionTreeClassifier() \n",
    "        \n",
    "    # otherwise, set max_depth\n",
    "    else:\n",
    "        tree = DecisionTreeClassifier(max_depth = max_depth)\n",
    "        \n",
    "    tree.fit(X_train,y_train)\n",
    "    \n",
    "    \n",
    "    #---get training and test Accuracy---------------------\n",
    "    train_acc = accuracy_score(y_train,tree.predict(X_train))\n",
    "    test_acc = accuracy_score(y_test,tree.predict(X_test))\n",
    "    \n",
    "    return(pd.DataFrame({\"Set\": [\"Train\", \"Test\",],\n",
    "                        \"Depth\": [str(max_depth), str(max_depth)],\n",
    "                        \"Acc\": [train_acc,\n",
    "                               test_acc]}))\n",
    "    \n",
    "    "
   ]
  },
  {
   "cell_type": "code",
   "execution_count": 9,
   "metadata": {},
   "outputs": [
    {
     "data": {
      "text/html": [
       "<div>\n",
       "<style scoped>\n",
       "    .dataframe tbody tr th:only-of-type {\n",
       "        vertical-align: middle;\n",
       "    }\n",
       "\n",
       "    .dataframe tbody tr th {\n",
       "        vertical-align: top;\n",
       "    }\n",
       "\n",
       "    .dataframe thead th {\n",
       "        text-align: right;\n",
       "    }\n",
       "</style>\n",
       "<table border=\"1\" class=\"dataframe\">\n",
       "  <thead>\n",
       "    <tr style=\"text-align: right;\">\n",
       "      <th></th>\n",
       "      <th>Set</th>\n",
       "      <th>Depth</th>\n",
       "      <th>Acc</th>\n",
       "    </tr>\n",
       "  </thead>\n",
       "  <tbody>\n",
       "    <tr>\n",
       "      <th>0</th>\n",
       "      <td>Train</td>\n",
       "      <td>2</td>\n",
       "      <td>0.89375</td>\n",
       "    </tr>\n",
       "    <tr>\n",
       "      <th>1</th>\n",
       "      <td>Test</td>\n",
       "      <td>2</td>\n",
       "      <td>0.88250</td>\n",
       "    </tr>\n",
       "    <tr>\n",
       "      <th>0</th>\n",
       "      <td>Train</td>\n",
       "      <td>2</td>\n",
       "      <td>0.85625</td>\n",
       "    </tr>\n",
       "    <tr>\n",
       "      <th>1</th>\n",
       "      <td>Test</td>\n",
       "      <td>2</td>\n",
       "      <td>0.86250</td>\n",
       "    </tr>\n",
       "    <tr>\n",
       "      <th>0</th>\n",
       "      <td>Train</td>\n",
       "      <td>2</td>\n",
       "      <td>0.92375</td>\n",
       "    </tr>\n",
       "  </tbody>\n",
       "</table>\n",
       "</div>"
      ],
      "text/plain": [
       "     Set Depth      Acc\n",
       "0  Train     2  0.89375\n",
       "1   Test     2  0.88250\n",
       "0  Train     2  0.85625\n",
       "1   Test     2  0.86250\n",
       "0  Train     2  0.92375"
      ]
     },
     "execution_count": 9,
     "metadata": {},
     "output_type": "execute_result"
    }
   ],
   "source": [
    "sims = [simTree(n = 2000, max_depth = x) for x in np.repeat(range(2,10), 100)]\n",
    "sims = sims + [simTree(n = 2000, max_depth = \"none\") for i in range(0,100)]\n",
    "sims_df = pd.concat(sims)\n",
    "\n",
    "sims_df.head()"
   ]
  },
  {
   "cell_type": "markdown",
   "metadata": {},
   "source": [
    "### 1.2 Plotting it!\n",
    "Now that we've run our simulation, use the `sims_df` data frame to make a plot that shows us the difference between the train and test accuracy for our full (not limited) and pruned (has a max_depth) trees. \n",
    "\n",
    "Use `geom_boxplot()` to plot Acc for each Tree `Depth`. Fill by Set."
   ]
  },
  {
   "cell_type": "code",
   "execution_count": 10,
   "metadata": {},
   "outputs": [
    {
     "data": {
      "image/png": "[encoded data removed]",
      "text/plain": [
       "<Figure size 640x480 with 1 Axes>"
      ]
     },
     "metadata": {
      "needs_background": "light"
     },
     "output_type": "display_data"
    },
    {
     "data": {
      "text/plain": [
       "<ggplot: (8790891668345)>"
      ]
     },
     "execution_count": 10,
     "metadata": {},
     "output_type": "execute_result"
    }
   ],
   "source": [
    "### YOUR CODE HERE ###\n",
    "\n",
    "(ggplot(sims_df, aes(x = \"Depth\", y = \"Acc\", fill = \"Set\")) + geom_boxplot() +\n",
    "theme_minimal())"
   ]
  },
  {
   "cell_type": "markdown",
   "metadata": {},
   "source": [
    "### *Question*\n",
    "\n",
    "What does this graph tell you about how setting max_depth affects overfitting?\n",
    "\n",
    "<img src=\"https://drive.google.com/uc?export=view&id=1ghyQPx1N8dmU3MV4TrANvqNhGwnLni72\" width = 200px />\n",
    "\n",
    "\n",
    "### *Question*\n",
    "\n",
    "If you reduce the number of data points in the sample (by change the `n` argument to 200 in `simTree()`), what changes? Why do you think these changes occur?\n",
    "\n",
    "<img src=\"https://drive.google.com/uc?export=view&id=1ghyQPx1N8dmU3MV4TrANvqNhGwnLni72\" width = 200px />\n"
   ]
  },
  {
   "cell_type": "markdown",
   "metadata": {},
   "source": [
    "In this example, we can see that as we go from NO LIMITS (\"none\") to stronger limits on max_depth, the difference between the training and test accuracy gets smaller, which indicates less concern for overfitting.\n",
    "\n",
    "When you have fewer samples 1) there is a wider range of test accuracies and more variability. This is likely due to the fact that smaller samples are more variable than large samples. (OTHER ANSWERS FOR THIS ARE OKAY TOO).\n"
   ]
  },
  {
   "cell_type": "code",
   "execution_count": 11,
   "metadata": {},
   "outputs": [
    {
     "data": {
      "image/png": "[encoded data removed]",
      "text/plain": [
       "<Figure size 640x480 with 1 Axes>"
      ]
     },
     "metadata": {
      "needs_background": "light"
     },
     "output_type": "display_data"
    },
    {
     "data": {
      "text/plain": [
       "<ggplot: (8790891574477)>"
      ]
     },
     "execution_count": 11,
     "metadata": {},
     "output_type": "execute_result"
    }
   ],
   "source": [
    "sims = [simTree(n = 200, max_depth = x) for x in np.repeat(range(2,10), 100)] ### Change n\n",
    "sims = sims + [simTree(n = 200, max_depth = \"none\") for i in range(0,100)]    ### Change n\n",
    "sims_df = pd.concat(sims)\n",
    "\n",
    "# make same plot as above\n",
    "\n",
    "(ggplot(sims_df, aes(x = \"Depth\", y = \"Acc\", fill = \"Set\")) + geom_boxplot() +\n",
    "theme_minimal())"
   ]
  },
  {
   "cell_type": "markdown",
   "metadata": {},
   "source": [
    "# Gini Impurity\n",
    "\n",
    "Use python and numpy to write a function, `gini()` that takes in 4 values `LNP`, `LNN`, `RNP`, `RNN` (LN = left node, RN = right node, P is for positive/1, N is for negative/0) and returns the gini impurity for that split.\n",
    "\n",
    "<img src=\"https://drive.google.com/uc?id=1MQEeJDxxcV8zmhzBgaDZ2QY0Ng8z8hz8\" width=400/>\n"
   ]
  },
  {
   "cell_type": "code",
   "execution_count": 12,
   "metadata": {},
   "outputs": [
    {
     "data": {
      "text/plain": [
       "0.34811165845648606"
      ]
     },
     "execution_count": 12,
     "metadata": {},
     "output_type": "execute_result"
    }
   ],
   "source": [
    "import numpy as np\n",
    "\n",
    "def gini(P,N):\n",
    "    Total = P + N # total count in Node\n",
    "    P_p = P/Total # Probability of Positives\n",
    "    N_p = N/Total # Probability of Negatives\n",
    "    return(1-(P_p**2 + N_p**2))\n",
    "\n",
    "#write function here---------------\n",
    "def gini_split(LNP, LNN, RNP, RNN):\n",
    "    \n",
    "    all_data_count = LNP + LNN + RNP + RNN\n",
    "    left_node_count = LNP + LNN\n",
    "    right_node_count = RNP + RNN\n",
    "    \n",
    "    gini_L =  gini(LNP, LNN) #gini on Left Node\n",
    "    gini_R = gini(RNP, RNN) #gini on Right node\n",
    "    \n",
    "    gini_split = ((left_node_count/all_data_count)*gini_L +\n",
    "            (right_node_count/all_data_count)*gini_R) #weighted average of gini impurity of each node\n",
    "    \n",
    "    return(gini_split)\n",
    "\n",
    "gini_split(LNP = 10, LNN = 5, RNP = 2, RNN = 12)\n",
    "#----------------------------------\n",
    "# gini(LNP = 10, LNN = 5, RNP = 2, RNN = 12) should return approx 0.3481117"
   ]
  },
  {
   "cell_type": "code",
   "execution_count": 14,
   "metadata": {},
   "outputs": [
    {
     "data": {
      "text/plain": [
       "0.760615738309308"
      ]
     },
     "execution_count": 14,
     "metadata": {},
     "output_type": "execute_result"
    }
   ],
   "source": [
    "def entropy(P,N):\n",
    "    Total = P + N # total count in Node\n",
    "    P_p = P/Total # Probability of Positives\n",
    "    N_p = N/Total # Probability of Negatives\n",
    "    return(-(P_p*np.log2(P_p) + N_p*np.log2(N_p)))\n",
    "    \n",
    "    \n",
    "def entropy_split(LNP, LNN, RNP, RNN):\n",
    "    \n",
    "    all_data_count = LNP + LNN + RNP + RNN\n",
    "    left_node_count = LNP + LNN\n",
    "    right_node_count = RNP + RNN\n",
    "\n",
    "    e_L = entropy(LNP,LNN) #entropy Left Node\n",
    "    e_R = entropy(RNP,RNN) #entropy Right Node\n",
    "    \n",
    "    e = ((left_node_count/all_data_count)*e_L +\n",
    "         (right_node_count/all_data_count)*e_R) #weighted average of entropy\n",
    "    \n",
    "    return(e)\n",
    "\n",
    "    \n",
    "entropy_split(LNP = 10, LNN = 5, RNP = 2, RNN = 12)\n",
    "    "
   ]
  },
  {
   "cell_type": "markdown",
   "metadata": {},
   "source": [
    "# 2. Build a Categorical Decision Tree"
   ]
  },
  {
   "cell_type": "code",
   "execution_count": 15,
   "metadata": {},
   "outputs": [
    {
     "data": {
      "text/html": [
       "<div>\n",
       "<style scoped>\n",
       "    .dataframe tbody tr th:only-of-type {\n",
       "        vertical-align: middle;\n",
       "    }\n",
       "\n",
       "    .dataframe tbody tr th {\n",
       "        vertical-align: top;\n",
       "    }\n",
       "\n",
       "    .dataframe thead th {\n",
       "        text-align: right;\n",
       "    }\n",
       "</style>\n",
       "<table border=\"1\" class=\"dataframe\">\n",
       "  <thead>\n",
       "    <tr style=\"text-align: right;\">\n",
       "      <th></th>\n",
       "      <th>poison</th>\n",
       "      <th>cap-shape</th>\n",
       "      <th>cap-surface</th>\n",
       "      <th>cap-color</th>\n",
       "      <th>bruises</th>\n",
       "      <th>odor</th>\n",
       "      <th>gill-attachment</th>\n",
       "      <th>gill-spacing</th>\n",
       "      <th>gill-size</th>\n",
       "      <th>gill-color</th>\n",
       "      <th>...</th>\n",
       "      <th>stalk-surface-below-ring</th>\n",
       "      <th>stalk-color-above-ring</th>\n",
       "      <th>stalk-color-below-ring</th>\n",
       "      <th>veil-type</th>\n",
       "      <th>veil-color</th>\n",
       "      <th>ring-number</th>\n",
       "      <th>ring-type</th>\n",
       "      <th>spore-print-color</th>\n",
       "      <th>population</th>\n",
       "      <th>habitat</th>\n",
       "    </tr>\n",
       "  </thead>\n",
       "  <tbody>\n",
       "    <tr>\n",
       "      <th>0</th>\n",
       "      <td>e</td>\n",
       "      <td>x</td>\n",
       "      <td>s</td>\n",
       "      <td>y</td>\n",
       "      <td>t</td>\n",
       "      <td>a</td>\n",
       "      <td>f</td>\n",
       "      <td>c</td>\n",
       "      <td>b</td>\n",
       "      <td>k</td>\n",
       "      <td>...</td>\n",
       "      <td>s</td>\n",
       "      <td>w</td>\n",
       "      <td>w</td>\n",
       "      <td>p</td>\n",
       "      <td>w</td>\n",
       "      <td>o</td>\n",
       "      <td>p</td>\n",
       "      <td>n</td>\n",
       "      <td>n</td>\n",
       "      <td>g</td>\n",
       "    </tr>\n",
       "    <tr>\n",
       "      <th>1</th>\n",
       "      <td>e</td>\n",
       "      <td>b</td>\n",
       "      <td>s</td>\n",
       "      <td>w</td>\n",
       "      <td>t</td>\n",
       "      <td>l</td>\n",
       "      <td>f</td>\n",
       "      <td>c</td>\n",
       "      <td>b</td>\n",
       "      <td>n</td>\n",
       "      <td>...</td>\n",
       "      <td>s</td>\n",
       "      <td>w</td>\n",
       "      <td>w</td>\n",
       "      <td>p</td>\n",
       "      <td>w</td>\n",
       "      <td>o</td>\n",
       "      <td>p</td>\n",
       "      <td>n</td>\n",
       "      <td>n</td>\n",
       "      <td>m</td>\n",
       "    </tr>\n",
       "    <tr>\n",
       "      <th>2</th>\n",
       "      <td>p</td>\n",
       "      <td>x</td>\n",
       "      <td>y</td>\n",
       "      <td>w</td>\n",
       "      <td>t</td>\n",
       "      <td>p</td>\n",
       "      <td>f</td>\n",
       "      <td>c</td>\n",
       "      <td>n</td>\n",
       "      <td>n</td>\n",
       "      <td>...</td>\n",
       "      <td>s</td>\n",
       "      <td>w</td>\n",
       "      <td>w</td>\n",
       "      <td>p</td>\n",
       "      <td>w</td>\n",
       "      <td>o</td>\n",
       "      <td>p</td>\n",
       "      <td>k</td>\n",
       "      <td>s</td>\n",
       "      <td>u</td>\n",
       "    </tr>\n",
       "    <tr>\n",
       "      <th>3</th>\n",
       "      <td>e</td>\n",
       "      <td>x</td>\n",
       "      <td>s</td>\n",
       "      <td>g</td>\n",
       "      <td>f</td>\n",
       "      <td>n</td>\n",
       "      <td>f</td>\n",
       "      <td>w</td>\n",
       "      <td>b</td>\n",
       "      <td>k</td>\n",
       "      <td>...</td>\n",
       "      <td>s</td>\n",
       "      <td>w</td>\n",
       "      <td>w</td>\n",
       "      <td>p</td>\n",
       "      <td>w</td>\n",
       "      <td>o</td>\n",
       "      <td>e</td>\n",
       "      <td>n</td>\n",
       "      <td>a</td>\n",
       "      <td>g</td>\n",
       "    </tr>\n",
       "    <tr>\n",
       "      <th>4</th>\n",
       "      <td>e</td>\n",
       "      <td>x</td>\n",
       "      <td>y</td>\n",
       "      <td>y</td>\n",
       "      <td>t</td>\n",
       "      <td>a</td>\n",
       "      <td>f</td>\n",
       "      <td>c</td>\n",
       "      <td>b</td>\n",
       "      <td>n</td>\n",
       "      <td>...</td>\n",
       "      <td>s</td>\n",
       "      <td>w</td>\n",
       "      <td>w</td>\n",
       "      <td>p</td>\n",
       "      <td>w</td>\n",
       "      <td>o</td>\n",
       "      <td>p</td>\n",
       "      <td>k</td>\n",
       "      <td>n</td>\n",
       "      <td>g</td>\n",
       "    </tr>\n",
       "  </tbody>\n",
       "</table>\n",
       "<p>5 rows × 23 columns</p>\n",
       "</div>"
      ],
      "text/plain": [
       "  poison cap-shape cap-surface cap-color bruises odor gill-attachment  \\\n",
       "0      e         x           s         y       t    a               f   \n",
       "1      e         b           s         w       t    l               f   \n",
       "2      p         x           y         w       t    p               f   \n",
       "3      e         x           s         g       f    n               f   \n",
       "4      e         x           y         y       t    a               f   \n",
       "\n",
       "  gill-spacing gill-size gill-color  ... stalk-surface-below-ring  \\\n",
       "0            c         b          k  ...                        s   \n",
       "1            c         b          n  ...                        s   \n",
       "2            c         n          n  ...                        s   \n",
       "3            w         b          k  ...                        s   \n",
       "4            c         b          n  ...                        s   \n",
       "\n",
       "  stalk-color-above-ring stalk-color-below-ring veil-type veil-color  \\\n",
       "0                      w                      w         p          w   \n",
       "1                      w                      w         p          w   \n",
       "2                      w                      w         p          w   \n",
       "3                      w                      w         p          w   \n",
       "4                      w                      w         p          w   \n",
       "\n",
       "  ring-number ring-type spore-print-color population habitat  \n",
       "0           o         p                 n          n       g  \n",
       "1           o         p                 n          n       m  \n",
       "2           o         p                 k          s       u  \n",
       "3           o         e                 n          a       g  \n",
       "4           o         p                 k          n       g  \n",
       "\n",
       "[5 rows x 23 columns]"
      ]
     },
     "execution_count": 15,
     "metadata": {},
     "output_type": "execute_result"
    }
   ],
   "source": [
    "# Load Mushroom Data------------------------------------\n",
    "import pandas as pd\n",
    "\n",
    "# see this site for what variables mean: http://archive.ics.uci.edu/ml/datasets/Mushroom\n",
    "mush = pd.read_csv(\"http://archive.ics.uci.edu/ml/machine-learning-databases/mushroom/agaricus-lepiota.data\")\n",
    "\n",
    "mush.columns = ['poison','cap-shape', 'cap-surface', 'cap-color', 'bruises', 'odor', 'gill-attachment', 'gill-spacing', 'gill-size',\n",
    "                'gill-color', 'stalk-shape', 'stalk-root', 'stalk-surface-above-ring', 'stalk-surface-below-ring',\n",
    "                'stalk-color-above-ring', 'stalk-color-below-ring', 'veil-type', 'veil-color', 'ring-number','ring-type',\n",
    "                'spore-print-color', 'population', 'habitat']\n",
    "\n",
    "mush.head()"
   ]
  },
  {
   "cell_type": "markdown",
   "metadata": {},
   "source": [
    "For your sanity, let's restrict our dataset to 2 predictor variables..."
   ]
  },
  {
   "cell_type": "code",
   "execution_count": 16,
   "metadata": {},
   "outputs": [],
   "source": [
    "mush_small = mush[[\"poison\", \"bruises\", \"gill-size\"]]"
   ]
  },
  {
   "cell_type": "code",
   "execution_count": 17,
   "metadata": {},
   "outputs": [
    {
     "data": {
      "image/png": "[encoded data removed]",
      "text/plain": [
       "<Figure size 640x480 with 1 Axes>"
      ]
     },
     "metadata": {
      "needs_background": "light"
     },
     "output_type": "display_data"
    },
    {
     "name": "stdout",
     "output_type": "stream",
     "text": [
      "<ggplot: (8790885606644)>\n"
     ]
    },
    {
     "data": {
      "image/png": "[encoded data removed]",
      "text/plain": [
       "<Figure size 640x480 with 1 Axes>"
      ]
     },
     "metadata": {
      "needs_background": "light"
     },
     "output_type": "display_data"
    },
    {
     "name": "stdout",
     "output_type": "stream",
     "text": [
      "<ggplot: (8790891964841)>\n"
     ]
    },
    {
     "data": {
      "image/png": "[encoded data removed]",
      "text/plain": [
       "<Figure size 640x480 with 1 Axes>"
      ]
     },
     "metadata": {
      "needs_background": "light"
     },
     "output_type": "display_data"
    },
    {
     "name": "stdout",
     "output_type": "stream",
     "text": [
      "<ggplot: (8790892835280)>\n"
     ]
    }
   ],
   "source": [
    "# make a bar plot of edible/poisonous mushrooms\n",
    "from plotnine import *\n",
    "print(ggplot(mush_small, aes(\"poison\")) + geom_bar() + theme_minimal())\n",
    "\n",
    "# make a bar plot of bruised/not-bruised mushrooms\n",
    "print(ggplot(mush_small, aes(\"bruises\")) + geom_bar() + theme_minimal())\n",
    "\n",
    "# make a bar plot of broad/narrow gilled mushrooms\n",
    "print(ggplot(mush_small, aes(\"gill-size\")) + geom_bar() + theme_minimal())"
   ]
  },
  {
   "cell_type": "markdown",
   "metadata": {},
   "source": [
    "## 2.1 Build!\n",
    "\n",
    "Use the functions you built earlier to build a decision tree that classifies each data point as either edible (`e`) or poisonous (`p`). You can choose to either use entropy or gini impurity. \n",
    "\n",
    "### 2.1.1 Layer 1\n",
    "\n",
    "Choose which variable to use to split the first layer"
   ]
  },
  {
   "cell_type": "code",
   "execution_count": 18,
   "metadata": {},
   "outputs": [
    {
     "name": "stdout",
     "output_type": "stream",
     "text": [
      "{'e': 4208, 'p': 3915}\n"
     ]
    },
    {
     "data": {
      "text/plain": [
       "0.49934946249669365"
      ]
     },
     "execution_count": 18,
     "metadata": {},
     "output_type": "execute_result"
    }
   ],
   "source": [
    "# create a dictionary of poison counts for each predictor---\n",
    "\n",
    "poison_count = {\"e\": mush_small.loc[mush_small.poison == \"e\"].shape[0],\n",
    "                \"p\": mush_small.loc[mush_small.poison == \"p\"].shape[0]}\n",
    "print(poison_count)\n",
    "\n",
    "gini(poison_count[\"e\"], poison_count[\"p\"])"
   ]
  },
  {
   "cell_type": "code",
   "execution_count": 19,
   "metadata": {},
   "outputs": [
    {
     "data": {
      "text/plain": [
       "{'f': {'e': 1456, 'p': 3292}, 't': {'e': 2752, 'p': 623}}"
      ]
     },
     "execution_count": 19,
     "metadata": {},
     "output_type": "execute_result"
    }
   ],
   "source": [
    "# calculate impurity/entropy (choose one metric) of each possible split---\n",
    "bruise_NodeF = mush_small.loc[mush_small.bruises == \"f\"] #node with bruise = F\n",
    "bruise_NodeT = mush_small.loc[mush_small.bruises == \"t\"] #node with bruise = T\n",
    "\n",
    "bruise_impurity_dict = {\"f\": {\"e\": bruise_NodeF[bruise_NodeF.poison == \"e\"].shape[0],\n",
    "                              \"p\": bruise_NodeF.loc[bruise_NodeF.poison == \"p\"].shape[0]},\n",
    "                        \"t\": {\"e\": bruise_NodeT[bruise_NodeT.poison == \"e\"].shape[0],\n",
    "                              \"p\": bruise_NodeT.loc[bruise_NodeT.poison == \"p\"].shape[0]},}\n",
    "\n",
    "bruise_impurity_dict"
   ]
  },
  {
   "cell_type": "code",
   "execution_count": 20,
   "metadata": {},
   "outputs": [
    {
     "data": {
      "text/plain": [
       "{'b': {'e': 3920, 'p': 1692}, 'n': {'e': 288, 'p': 2223}}"
      ]
     },
     "execution_count": 20,
     "metadata": {},
     "output_type": "execute_result"
    }
   ],
   "source": [
    "gill_NodeB = mush_small.loc[mush_small[\"gill-size\"] == \"b\"] #node with gill = b\n",
    "gill_NodeN = mush_small.loc[mush_small[\"gill-size\"] == \"n\"] #node with gill = n\n",
    "\n",
    "gill_impurity_dict = {\"b\": {\"e\": gill_NodeB[gill_NodeB.poison == \"e\"].shape[0],\n",
    "                              \"p\": gill_NodeB.loc[gill_NodeB.poison == \"p\"].shape[0]},\n",
    "                        \"n\": {\"e\": gill_NodeN[gill_NodeN.poison == \"e\"].shape[0],\n",
    "                              \"p\": gill_NodeN.loc[gill_NodeN.poison == \"p\"].shape[0]},}\n",
    "\n",
    "gill_impurity_dict"
   ]
  },
  {
   "cell_type": "code",
   "execution_count": 21,
   "metadata": {},
   "outputs": [
    {
     "data": {
      "text/plain": [
       "0.37363252569361594"
      ]
     },
     "execution_count": 21,
     "metadata": {},
     "output_type": "execute_result"
    }
   ],
   "source": [
    "# choose which split improves prediction most---\n",
    "gini_bruise = gini_split(bruise_impurity_dict[\"f\"][\"e\"], bruise_impurity_dict[\"f\"][\"p\"],\n",
    "                  bruise_impurity_dict[\"t\"][\"e\"], bruise_impurity_dict[\"t\"][\"p\"])\n",
    "gini_bruise"
   ]
  },
  {
   "cell_type": "code",
   "execution_count": 22,
   "metadata": {},
   "outputs": [
    {
     "data": {
      "text/plain": [
       "0.3537695848523329"
      ]
     },
     "execution_count": 22,
     "metadata": {},
     "output_type": "execute_result"
    }
   ],
   "source": [
    "# gini_gill\n",
    "gini_gill = gini_split(gill_impurity_dict[\"b\"][\"e\"], gill_impurity_dict[\"b\"][\"p\"],\n",
    "                gill_impurity_dict[\"n\"][\"e\"], gill_impurity_dict[\"n\"][\"p\"])\n",
    "\n",
    "gini_gill"
   ]
  },
  {
   "cell_type": "markdown",
   "metadata": {},
   "source": [
    "Splitting on Gill minimizes the gini impurity, so we will use this split.\n",
    "\n",
    "### 2.1.3 Create Classifications\n",
    "\n",
    "Pretend that this decision stump (a decision tree with only one layer) is your final tree. Generate the classification for each data point and store it in `mush_small`."
   ]
  },
  {
   "cell_type": "code",
   "execution_count": 23,
   "metadata": {},
   "outputs": [],
   "source": [
    "# classification---\n",
    "\n",
    "# re define these, but they're also defined above!\n",
    "gill_NodeB = mush_small.loc[mush_small[\"gill-size\"] == \"b\"] #node with gill = b\n",
    "gill_NodeN = mush_small.loc[mush_small[\"gill-size\"] == \"n\"] #node with gill = n\n",
    "\n",
    "gill_impurity_dict = {\"b\": {\"e\": gill_NodeB[gill_NodeB.poison == \"e\"].shape[0],\n",
    "                              \"p\": gill_NodeB.loc[gill_NodeB.poison == \"p\"].shape[0]},\n",
    "                        \"n\": {\"e\": gill_NodeN[gill_NodeN.poison == \"e\"].shape[0],\n",
    "                              \"p\": gill_NodeN.loc[gill_NodeN.poison == \"p\"].shape[0]},}\n",
    "\n",
    "gill_impurity_dict\n",
    "\n",
    "# these are our two nodes from this decision stump.\n",
    "# check which category we should classify each node as:\n",
    "# NodeB has more edible mushrooms, we we'll classify all data points in this node as edible\n",
    "# NodeN has more poisonous mushrooms, we we'll classify all data points in this node as poison\n",
    "\n",
    "\n",
    "# add classifications to dataframe\n",
    "mush_small[\"class\"] = [\"e\" if x == \"b\" else \"p\" for x in mush_small[\"gill-size\"]]"
   ]
  },
  {
   "cell_type": "markdown",
   "metadata": {},
   "source": [
    "### 2.1.4 Calculate Accuracy\n",
    "\n",
    "Count how often your model was correct. How well did your model do?"
   ]
  },
  {
   "cell_type": "code",
   "execution_count": 24,
   "metadata": {},
   "outputs": [
    {
     "data": {
      "text/plain": [
       "0.7562476917395051"
      ]
     },
     "execution_count": 24,
     "metadata": {},
     "output_type": "execute_result"
    }
   ],
   "source": [
    "# accuracy----\n",
    "np.mean(mush_small[\"poison\"] == mush_small[\"class\"])"
   ]
  }
 ],
 "metadata": {
  "hide_input": false,
  "kernelspec": {
   "display_name": "Python 3",
   "language": "python",
   "name": "python3"
  },
  "language_info": {
   "codemirror_mode": {
    "name": "ipython",
    "version": 3
   },
   "file_extension": ".py",
   "mimetype": "text/x-python",
   "name": "python",
   "nbconvert_exporter": "python",
   "pygments_lexer": "ipython3",
   "version": "3.8.1"
  },
  "toc": {
   "base_numbering": 1,
   "nav_menu": {},
   "number_sections": true,
   "sideBar": true,
   "skip_h1_title": false,
   "title_cell": "Table of Contents",
   "title_sidebar": "Contents",
   "toc_cell": false,
   "toc_position": {},
   "toc_section_display": true,
   "toc_window_display": false
  }
 },
 "nbformat": 4,
 "nbformat_minor": 4
}
