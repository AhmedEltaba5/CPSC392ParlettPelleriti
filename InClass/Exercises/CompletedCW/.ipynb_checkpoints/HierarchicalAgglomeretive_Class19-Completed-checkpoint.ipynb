{
 "cells": [
  {
   "cell_type": "code",
   "execution_count": 56,
   "metadata": {},
   "outputs": [],
   "source": [
    "import warnings\n",
    "warnings.filterwarnings('ignore')\n",
    "\n",
    "import pandas as pd\n",
    "import numpy as np\n",
    "from plotnine import *\n",
    "\n",
    "from sklearn.preprocessing import StandardScaler\n",
    "\n",
    "from sklearn.cluster import AgglomerativeClustering\n",
    "\n",
    "\n",
    "from sklearn.cluster import KMeans\n",
    "from sklearn.mixture import GaussianMixture\n",
    "\n",
    "from sklearn.metrics import silhouette_score\n",
    "\n",
    "# make sure you have these to make dendrograms!-------\n",
    "import scipy.cluster.hierarchy as sch\n",
    "from matplotlib import pyplot as plt\n",
    "#-----------------------------------------------------\n",
    "\n",
    "%matplotlib inline"
   ]
  },
  {
   "cell_type": "markdown",
   "metadata": {},
   "source": [
    "# 0. Together\n",
    "\n",
    "Hierarchical clustering (as the name suggests) assumes that the clusters in the data have a hierarchical relationship. For example, in a McDonald's food dataset we could have clusters like: Dessert, Drinks, Sandwhiches, Other. Within Sandwhiches we could have chicken sandwhiches, Burgers, Vegan Sandwhiches...within Burgers we could have smaller, lower calorie options, and bigger, more substantial burgers...etc.\n",
    "\n",
    "Blood cells is another great example of a hierarchical relationship: ![blood hierarchy](https://community.jmp.com/t5/image/serverpage/image-id/16820i93FA5BD273E0A842/image-dimensions/340x314?v=1.0)\n",
    "\n",
    "Hierarchical *Agglomeretive* Clustering (which we perform here), goes bottom up: every datapoint starts as it's own singleton cluster, and at each step, we merge the two closest clusters together until all data points are in one big cluster. In order to decide which clusters are closest, we need to choose two things:\n",
    "\n",
    "* **distance metric**: this is a measure that helps us define how close together two *data points* are. Euclidean distance is a common distance metric that you may be familiar with, but there is also cosine distance, manhattan distance, hamming distance, and even custom distance functions (like [levenshtein distance](https://en.wikipedia.org/wiki/Levenshtein_distance) between two strings!)\n",
    "* **linkage criteria**: this is a measure of how close two *clusters* are. Because (most) clusters have more than one point, we need to define what it means for two clusters to be close.\n",
    "    * **Single Linkage**: the distance between two clusters (A and B) as the minimum distance between any point in A and any point in B ![single linkage](https://community.jmp.com/t5/image/serverpage/image-id/16823iF32133201794C0A4/image-dimensions/251x242?v=1.0)\n",
    "    * **Average Linkage**: the distance between two clusters (A and B) as the average distance between points in A and points in B. ![average linkage](https://community.jmp.com/t5/image/serverpage/image-id/16824iDD065DCADD44D5EC/image-dimensions/275x307?v=1.0)\n",
    "    * **Complete Linkage**: the distance between two clusters (A and B) as the maximum distance between any point in A and any point in B. ![complete linkage](https://community.jmp.com/t5/image/serverpage/image-id/16825i39A778742E501081/image-dimensions/277x245?v=1.0)\n",
    "    * **Centroid Method**: the distance between two clusters (A and B) as the distance between their respective mean vectors (centroids). ![centroid method](https://community.jmp.com/t5/image/serverpage/image-id/16826iFC5E179AEFFF1252/image-dimensions/260x268?v=1.0)\n",
    "    * **Ward's Method** (default): the distance between two clusters (A and B) as the Sum of Squared Errors when combining the two clusters together. ![ward's method](https://community.jmp.com/t5/image/serverpage/image-id/16827iA35DD99890489DB2/image-dimensions/253x164?v=1.0)\n",
    "    * and MORE! You could technically define this anyway you wanted.\n",
    "    "
   ]
  },
  {
   "cell_type": "markdown",
   "metadata": {},
   "source": [
    "# 1. Linkage Critera\n",
    "\n",
    "Let's build a few functions that return the distance between two clusters. Each of these functions take in two dataframes, `A` and `B` that contain the datapoints for the two respective clusters (*number of features can vary*).\n",
    "\n",
    "The functions take in two arguments:\n",
    "\n",
    "* `A`: an N1 x P dataframe containing the data points in cluster A. (N1 is the number of data points in cluster A; P is the number of features used)\n",
    "* `B`: an N2 x P dataframe containing the data points in cluster B. (N2 is the number of data points in cluster B; P is the number of features used)\n",
    "\n",
    "\n",
    "The function should calculate and return the distance between the clusters (assume you're using euclidean distance for all of these) according to their respective linkage criterion (single, average, and complete).\n",
    "\n",
    "### *Question\n",
    "\n",
    "To calculate the distance between two clusters `A` (N1 x P) and `B` (N2 x P), how many distances (between 2 data points) would you have to calculate?\n",
    "\n",
    "<img src=\"https://drive.google.com/uc?export=view&id=1ghyQPx1N8dmU3MV4TrANvqNhGwnLni72\" width = 200px />"
   ]
  },
  {
   "cell_type": "code",
   "execution_count": 57,
   "metadata": {},
   "outputs": [],
   "source": [
    "def single(A,B):\n",
    "    distances = []\n",
    "    \n",
    "    for A_index in range(0, A.shape[0]):\n",
    "        for B_index in range(0, B.shape[0]):\n",
    "            d = np.linalg.norm(A.iloc[A_index]-B.iloc[B_index])\n",
    "            distances.append(d)\n",
    "            \n",
    "    return(min(distances))\n",
    "\n",
    "\n",
    "def average(A,B):\n",
    "    distances = []\n",
    "    \n",
    "    for A_index in range(0, A.shape[0]):\n",
    "        for B_index in range(0, B.shape[0]):\n",
    "            d = np.linalg.norm(A.iloc[A_index]-B.iloc[B_index])\n",
    "            distances.append(d)\n",
    "            \n",
    "    return(np.mean(distances))\n",
    "\n",
    "def complete(A,B):\n",
    "    distances = []\n",
    "    \n",
    "    for A_index in range(0, A.shape[0]):\n",
    "        for B_index in range(0, B.shape[0]):\n",
    "            d = np.linalg.norm(A.iloc[A_index]-B.iloc[B_index])\n",
    "            distances.append(d)\n",
    "            \n",
    "    return(max(distances))"
   ]
  },
  {
   "cell_type": "code",
   "execution_count": 58,
   "metadata": {},
   "outputs": [],
   "source": [
    "# check if your functions are working\n",
    "\n",
    "df = pd.read_csv(\"https://raw.githubusercontent.com/cmparlettpelleriti/CPSC392ParlettPelleriti/master/Data/HAC1.csv\")\n",
    "\n",
    "dA = df.loc[df.cluster == \"A\"] # cluster A\n",
    "dB = df.loc[df.cluster == \"B\"] # cluster B\n",
    "dC = df.loc[df.cluster == \"C\"] # cluster C"
   ]
  },
  {
   "cell_type": "code",
   "execution_count": 59,
   "metadata": {},
   "outputs": [
    {
     "name": "stdout",
     "output_type": "stream",
     "text": [
      "Complete: True\n",
      "Average: True\n",
      "Single: True\n"
     ]
    }
   ],
   "source": [
    "\n",
    "# print(complete(dA[[\"x\",\"y\"]], dB[[\"x\",\"y\"]]))\n",
    "# print(average(dA[[\"x\",\"y\"]], dB[[\"x\",\"y\"]]))\n",
    "# print(single(dA[[\"x\",\"y\"]], dB[[\"x\",\"y\"]]))\n",
    "# if complete() is correct, this will print true\n",
    "completePASS = abs(complete(dA[[\"x\",\"y\"]], dB[[\"x\",\"y\"]]) - 4.718047025872837) <= 0.01\n",
    "print(\"Complete:\", completePASS)\n",
    "\n",
    "# if average() is correct, this will print true\n",
    "averagePASS = abs(average(dA[[\"x\",\"y\"]], dB[[\"x\",\"y\"]]) - 2.734811240314461) <= 0.01\n",
    "print(\"Average:\", averagePASS)\n",
    "\n",
    "# if single() is correct, this will print true\n",
    "singlePASS = abs(single(dA[[\"x\",\"y\"]], dB[[\"x\",\"y\"]]) - 0.7361237342164363) <= 0.01\n",
    "print(\"Single:\", singlePASS)\n",
    "              "
   ]
  },
  {
   "cell_type": "markdown",
   "metadata": {},
   "source": [
    "Using the dataset `df` below, \n",
    "\n",
    "1. plot the clusters using ggplot, color by cluster\n",
    "2. use your functions `single()`, `average()`, and `complete()` to calculate the distances between each pair of clusters. \n",
    "\n",
    "### *Question*\n",
    "\n",
    "3. Look at which clusters are considered \"close\" and \"far\" in different methods. Are there differences between which are furthest/closest between methods? What are they? \n",
    "\n",
    "4. Describe why you think you see these differences.\n",
    "\n",
    "<img src=\"https://drive.google.com/uc?export=view&id=1ghyQPx1N8dmU3MV4TrANvqNhGwnLni72\" width = 200px />"
   ]
  },
  {
   "cell_type": "markdown",
   "metadata": {},
   "source": [
    "### Answer\n",
    "\n",
    "(example)\n",
    "The red cluster (A) is pretty spread out, so when you use methods like single linkage, Cluster C (blue) is closest to one end of cluster A. But the other end of cluster A is far away, so with complete linkage, Clusters A and C are furthest away from each other. \n",
    "\n",
    "Average linkage is inbetween the two because while some points in cluster A are close to some points in cluster C, on average they're only moderately close.\n",
    "\n",
    "The differences appear because the different linkage critera change WHICH points in each of the two clusters are influencing the measure of \"closeness\""
   ]
  },
  {
   "cell_type": "code",
   "execution_count": 67,
   "metadata": {},
   "outputs": [
    {
     "data": {
      "image/png": "[encoded data removed]",
      "text/plain": [
       "<Figure size 640x480 with 1 Axes>"
      ]
     },
     "metadata": {
      "needs_background": "light"
     },
     "output_type": "display_data"
    },
    {
     "data": {
      "text/plain": [
       "<ggplot: (8795207390139)>"
      ]
     },
     "execution_count": 67,
     "metadata": {},
     "output_type": "execute_result"
    }
   ],
   "source": [
    "# plot\n",
    "ggplot(df, aes(x = \"x\", y = \"y\", color = \"cluster\")) + geom_point() + theme_minimal()"
   ]
  },
  {
   "cell_type": "code",
   "execution_count": 61,
   "metadata": {},
   "outputs": [
    {
     "name": "stdout",
     "output_type": "stream",
     "text": [
      "AB: 0.7361237342164363\n",
      "AC: 0.18809268564971213\n",
      "BC: 0.33781439410788666\n",
      "\n",
      "\n",
      "AB: 2.734811240314461\n",
      "AC: 2.22451006115341\n",
      "BC: 1.8723507863969513\n",
      "\n",
      "\n",
      "AB: 4.718047025872837\n",
      "AC: 4.81659588972283\n",
      "BC: 3.5029348343614792\n",
      "\n",
      "\n"
     ]
    }
   ],
   "source": [
    "# calculate distances (this will likely take a few min to run)\n",
    "\n",
    "#---single------\n",
    "s_AB = single(dA[[\"x\",\"y\"]],dB[[\"x\",\"y\"]])\n",
    "s_AC = single(dA[[\"x\",\"y\"]],dC[[\"x\",\"y\"]])\n",
    "s_BC = single(dC[[\"x\",\"y\"]],dB[[\"x\",\"y\"]])\n",
    "\n",
    "print(\"AB:\", s_AB)\n",
    "print(\"AC:\", s_AC)\n",
    "print(\"BC:\", s_BC)\n",
    "print(\"\\n\")\n",
    "#---average-----\n",
    "a_AB = average(dA[[\"x\",\"y\"]],dB[[\"x\",\"y\"]])\n",
    "a_AC = average(dA[[\"x\",\"y\"]],dC[[\"x\",\"y\"]])\n",
    "a_BC = average(dC[[\"x\",\"y\"]],dB[[\"x\",\"y\"]])\n",
    "\n",
    "print(\"AB:\", a_AB)\n",
    "print(\"AC:\", a_AC)\n",
    "print(\"BC:\", a_BC)\n",
    "print(\"\\n\")\n",
    "#---complete----\n",
    "c_AB = complete(dA[[\"x\",\"y\"]],dB[[\"x\",\"y\"]])\n",
    "c_AC = complete(dA[[\"x\",\"y\"]],dC[[\"x\",\"y\"]])\n",
    "c_BC = complete(dC[[\"x\",\"y\"]],dB[[\"x\",\"y\"]])\n",
    "\n",
    "print(\"AB:\", c_AB)\n",
    "print(\"AC:\", c_AC)\n",
    "print(\"BC:\", c_BC)\n",
    "print(\"\\n\")"
   ]
  },
  {
   "cell_type": "markdown",
   "metadata": {},
   "source": [
    "# 2. Exploring Linkage Critera\n",
    "\n",
    "Using the predictors listed in `predictors`, perform HAC on the [burger king dataset](\"https://raw.githubusercontent.com/cmparlettpelleriti/CPSC392ParlettPelleriti/master/Data/burger-king-items.txt) using sklearn and the following linkage critera:\n",
    "\n",
    "* single linkage\n",
    "* average linkage\n",
    "* complete linkage\n",
    "* ward's method"
   ]
  },
  {
   "cell_type": "markdown",
   "metadata": {},
   "source": [
    "### *Question*\n",
    "Plot and compare the different clusters/dendrograms that you get. What do you notice is similar/different?\n",
    "\n",
    "Think hard: what do the dendrograms tell you about the data?\n",
    "\n",
    "<img src=\"https://drive.google.com/uc?export=view&id=1ghyQPx1N8dmU3MV4TrANvqNhGwnLni72\" width = 200px />\n",
    "\n",
    "(NOTE: see [documentation](https://scikit-learn.org/stable/modules/generated/sklearn.cluster.AgglomerativeClustering.html#sklearn.cluster.AgglomerativeClustering) if you need a refresher on how to set linkage criteria in sklearn, and [here](https://docs.scipy.org/doc/scipy/reference/generated/scipy.cluster.hierarchy.linkage.html) for how to set it for the dendrogram)"
   ]
  },
  {
   "cell_type": "markdown",
   "metadata": {},
   "source": [
    "### Answer\n",
    "(example)\n",
    "\n",
    "The dendrograms are incredibly different. Using single linkage, a lot of the clusters tend to be closer together (shown by the high density of connections in the lower part of the dedrogram). Complete linkage on the other hand gives you a dendrogram with a lot of density in the middle of the dendrogram (which suggests not so cohesive clusters). Average linkage (as the name suggests) Gives us a combination of Single and Complete linkages. There's still a lot of density towards the bottom, suggesting more cohesion, but you don't have as much separability (shown by longer distances in the top of the dendrogram).\n",
    "\n",
    "Ward's method has the nices looking dendrogram with high separability (long distances in the top of the dendrogram) and relatively good cohesion (short distances in the lower part of the dendrogram). While the orange cluster has a lot of variability, the Red and Green Clusters have pretty good cohesion.\n",
    "\n",
    "The fact that single linkage gives you a lot of shorter distances compared to complete/average linkage suggests that edges of clusters might be close together while the rest of the cluster is quite spread out.\n"
   ]
  },
  {
   "cell_type": "code",
   "execution_count": 62,
   "metadata": {},
   "outputs": [
    {
     "data": {
      "text/html": [
       "<div>\n",
       "<style scoped>\n",
       "    .dataframe tbody tr th:only-of-type {\n",
       "        vertical-align: middle;\n",
       "    }\n",
       "\n",
       "    .dataframe tbody tr th {\n",
       "        vertical-align: top;\n",
       "    }\n",
       "\n",
       "    .dataframe thead th {\n",
       "        text-align: right;\n",
       "    }\n",
       "</style>\n",
       "<table border=\"1\" class=\"dataframe\">\n",
       "  <thead>\n",
       "    <tr style=\"text-align: right;\">\n",
       "      <th></th>\n",
       "      <th>Item</th>\n",
       "      <th>Serving.size</th>\n",
       "      <th>Calories</th>\n",
       "      <th>Fat.Cal</th>\n",
       "      <th>Protein(g)</th>\n",
       "      <th>Fat(g)</th>\n",
       "      <th>Sat.Fat(g)</th>\n",
       "      <th>Trans.fat(g)</th>\n",
       "      <th>Chol(mg)</th>\n",
       "      <th>Sodium(mg)</th>\n",
       "      <th>Carbs(g)</th>\n",
       "      <th>Fiber(g)</th>\n",
       "      <th>Sugar(g)</th>\n",
       "      <th>Meat</th>\n",
       "      <th>Breakfast</th>\n",
       "      <th>Not Breakfast</th>\n",
       "      <th>CarbsxMeat</th>\n",
       "    </tr>\n",
       "  </thead>\n",
       "  <tbody>\n",
       "    <tr>\n",
       "      <th>0</th>\n",
       "      <td>Hamburger</td>\n",
       "      <td>109.0</td>\n",
       "      <td>-0.835829</td>\n",
       "      <td>90.0</td>\n",
       "      <td>-0.370060</td>\n",
       "      <td>-0.919796</td>\n",
       "      <td>4.0</td>\n",
       "      <td>0.0</td>\n",
       "      <td>35</td>\n",
       "      <td>-0.801337</td>\n",
       "      <td>-0.580013</td>\n",
       "      <td>1.0</td>\n",
       "      <td>-0.326804</td>\n",
       "      <td>1</td>\n",
       "      <td>0</td>\n",
       "      <td>1</td>\n",
       "      <td>28</td>\n",
       "    </tr>\n",
       "    <tr>\n",
       "      <th>1</th>\n",
       "      <td>Cheeseburger</td>\n",
       "      <td>121.0</td>\n",
       "      <td>-0.661780</td>\n",
       "      <td>130.0</td>\n",
       "      <td>-0.145073</td>\n",
       "      <td>-0.670844</td>\n",
       "      <td>6.0</td>\n",
       "      <td>0.0</td>\n",
       "      <td>45</td>\n",
       "      <td>-0.390175</td>\n",
       "      <td>-0.580013</td>\n",
       "      <td>1.0</td>\n",
       "      <td>-0.326804</td>\n",
       "      <td>1</td>\n",
       "      <td>0</td>\n",
       "      <td>1</td>\n",
       "      <td>28</td>\n",
       "    </tr>\n",
       "    <tr>\n",
       "      <th>2</th>\n",
       "      <td>Double_Hamburger</td>\n",
       "      <td>146.0</td>\n",
       "      <td>-0.400706</td>\n",
       "      <td>160.0</td>\n",
       "      <td>0.304900</td>\n",
       "      <td>-0.421892</td>\n",
       "      <td>8.0</td>\n",
       "      <td>0.0</td>\n",
       "      <td>70</td>\n",
       "      <td>-0.745269</td>\n",
       "      <td>-0.580013</td>\n",
       "      <td>1.0</td>\n",
       "      <td>-0.326804</td>\n",
       "      <td>1</td>\n",
       "      <td>0</td>\n",
       "      <td>1</td>\n",
       "      <td>28</td>\n",
       "    </tr>\n",
       "    <tr>\n",
       "      <th>3</th>\n",
       "      <td>Double_Cheeseburger</td>\n",
       "      <td>171.0</td>\n",
       "      <td>-0.009095</td>\n",
       "      <td>230.0</td>\n",
       "      <td>0.604882</td>\n",
       "      <td>0.076012</td>\n",
       "      <td>12.0</td>\n",
       "      <td>1.0</td>\n",
       "      <td>95</td>\n",
       "      <td>0.077055</td>\n",
       "      <td>-0.528996</td>\n",
       "      <td>1.0</td>\n",
       "      <td>-0.326804</td>\n",
       "      <td>1</td>\n",
       "      <td>0</td>\n",
       "      <td>1</td>\n",
       "      <td>29</td>\n",
       "    </tr>\n",
       "    <tr>\n",
       "      <th>4</th>\n",
       "      <td>Buck_Double</td>\n",
       "      <td>158.0</td>\n",
       "      <td>-0.183144</td>\n",
       "      <td>200.0</td>\n",
       "      <td>0.454891</td>\n",
       "      <td>-0.172940</td>\n",
       "      <td>10.0</td>\n",
       "      <td>0.5</td>\n",
       "      <td>85</td>\n",
       "      <td>-0.334107</td>\n",
       "      <td>-0.580013</td>\n",
       "      <td>1.0</td>\n",
       "      <td>-0.326804</td>\n",
       "      <td>1</td>\n",
       "      <td>0</td>\n",
       "      <td>1</td>\n",
       "      <td>28</td>\n",
       "    </tr>\n",
       "  </tbody>\n",
       "</table>\n",
       "</div>"
      ],
      "text/plain": [
       "                  Item  Serving.size  Calories  Fat.Cal  Protein(g)    Fat(g)  \\\n",
       "0            Hamburger         109.0 -0.835829     90.0   -0.370060 -0.919796   \n",
       "1         Cheeseburger         121.0 -0.661780    130.0   -0.145073 -0.670844   \n",
       "2     Double_Hamburger         146.0 -0.400706    160.0    0.304900 -0.421892   \n",
       "3  Double_Cheeseburger         171.0 -0.009095    230.0    0.604882  0.076012   \n",
       "4          Buck_Double         158.0 -0.183144    200.0    0.454891 -0.172940   \n",
       "\n",
       "   Sat.Fat(g)  Trans.fat(g)  Chol(mg)  Sodium(mg)  Carbs(g)  Fiber(g)  \\\n",
       "0         4.0           0.0        35   -0.801337 -0.580013       1.0   \n",
       "1         6.0           0.0        45   -0.390175 -0.580013       1.0   \n",
       "2         8.0           0.0        70   -0.745269 -0.580013       1.0   \n",
       "3        12.0           1.0        95    0.077055 -0.528996       1.0   \n",
       "4        10.0           0.5        85   -0.334107 -0.580013       1.0   \n",
       "\n",
       "   Sugar(g)  Meat  Breakfast  Not Breakfast  CarbsxMeat  \n",
       "0 -0.326804     1          0              1          28  \n",
       "1 -0.326804     1          0              1          28  \n",
       "2 -0.326804     1          0              1          28  \n",
       "3 -0.326804     1          0              1          29  \n",
       "4 -0.326804     1          0              1          28  "
      ]
     },
     "execution_count": 62,
     "metadata": {},
     "output_type": "execute_result"
    }
   ],
   "source": [
    "burg = pd.read_csv(\"https://raw.githubusercontent.com/cmparlettpelleriti/CPSC392ParlettPelleriti/master/Data/burger-king-items.txt\",\n",
    "                  sep = \"\\t\")\n",
    "\n",
    "predictors = [\"Calories\", \"Protein(g)\", \"Fat(g)\", \"Sodium(mg)\", \"Carbs(g)\", \"Sugar(g)\"]\n",
    "z = StandardScaler()\n",
    "burg[predictors] = z.fit_transform(burg[predictors])\n",
    "\n",
    "burg.head()"
   ]
  },
  {
   "cell_type": "code",
   "execution_count": 63,
   "metadata": {},
   "outputs": [
    {
     "data": {
      "image/png": "[encoded data removed]",
      "text/plain": [
       "<Figure size 432x288 with 1 Axes>"
      ]
     },
     "metadata": {
      "needs_background": "light"
     },
     "output_type": "display_data"
    }
   ],
   "source": [
    "### YOUR CODE HERE ###\n",
    "\n",
    "singleBK = AgglomerativeClustering(n_clusters = 3,\n",
    "                                  affinity = \"euclidean\",\n",
    "                                  linkage = \"single\")\n",
    "singleBK.fit(burg[predictors])\n",
    "\n",
    "dendro = sch.dendrogram(sch.linkage(burg[predictors], method='single'))\n",
    "### \\YOUR CODE HERE ###"
   ]
  },
  {
   "cell_type": "code",
   "execution_count": 64,
   "metadata": {},
   "outputs": [
    {
     "data": {
      "image/png": "[encoded data removed]",
      "text/plain": [
       "<Figure size 432x288 with 1 Axes>"
      ]
     },
     "metadata": {
      "needs_background": "light"
     },
     "output_type": "display_data"
    }
   ],
   "source": [
    "### YOUR CODE HERE ###\n",
    "completeBK = AgglomerativeClustering(n_clusters = 3,\n",
    "                                  affinity = \"euclidean\",\n",
    "                                  linkage = \"complete\")\n",
    "completeBK.fit(burg[predictors])\n",
    "\n",
    "dendro = sch.dendrogram(sch.linkage(burg[predictors], method='complete'))\n",
    "### \\YOUR CODE HERE ###"
   ]
  },
  {
   "cell_type": "code",
   "execution_count": 65,
   "metadata": {},
   "outputs": [
    {
     "data": {
      "image/png": "[encoded data removed]",
      "text/plain": [
       "<Figure size 432x288 with 1 Axes>"
      ]
     },
     "metadata": {
      "needs_background": "light"
     },
     "output_type": "display_data"
    }
   ],
   "source": [
    "### YOUR CODE HERE ###\n",
    "\n",
    "averageBK = AgglomerativeClustering(n_clusters = 3,\n",
    "                                  affinity = \"euclidean\",\n",
    "                                  linkage = \"average\")\n",
    "averageBK.fit(burg[predictors])\n",
    "\n",
    "dendro = sch.dendrogram(sch.linkage(burg[predictors], method='average'))\n",
    "### \\YOUR CODE HERE ###"
   ]
  },
  {
   "cell_type": "code",
   "execution_count": 66,
   "metadata": {},
   "outputs": [
    {
     "data": {
      "image/png": "[encoded data removed]",
      "text/plain": [
       "<Figure size 432x288 with 1 Axes>"
      ]
     },
     "metadata": {
      "needs_background": "light"
     },
     "output_type": "display_data"
    }
   ],
   "source": [
    "### YOUR CODE HERE ###\n",
    "\n",
    "wardsBK = AgglomerativeClustering(n_clusters = 3,\n",
    "                                  affinity = \"euclidean\",\n",
    "                                  linkage = \"ward\")\n",
    "wardsBK.fit(burg[predictors])\n",
    "\n",
    "dendro = sch.dendrogram(sch.linkage(burg[predictors], method='ward'))\n",
    "### \\YOUR CODE HERE ###"
   ]
  }
 ],
 "metadata": {
  "hide_input": false,
  "kernelspec": {
   "display_name": "Python 3",
   "language": "python",
   "name": "python3"
  },
  "language_info": {
   "codemirror_mode": {
    "name": "ipython",
    "version": 3
   },
   "file_extension": ".py",
   "mimetype": "text/x-python",
   "name": "python",
   "nbconvert_exporter": "python",
   "pygments_lexer": "ipython3",
   "version": "3.8.1"
  },
  "toc": {
   "base_numbering": 1,
   "nav_menu": {},
   "number_sections": true,
   "sideBar": true,
   "skip_h1_title": false,
   "title_cell": "Table of Contents",
   "title_sidebar": "Contents",
   "toc_cell": false,
   "toc_position": {},
   "toc_section_display": true,
   "toc_window_display": false
  }
 },
 "nbformat": 4,
 "nbformat_minor": 4
}
