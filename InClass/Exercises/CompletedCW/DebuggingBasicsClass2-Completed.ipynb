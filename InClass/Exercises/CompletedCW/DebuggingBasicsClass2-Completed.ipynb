{
 "cells": [
  {
   "cell_type": "code",
   "execution_count": 1,
   "metadata": {},
   "outputs": [],
   "source": [
    "import pandas as pd\n",
    "import numpy as np"
   ]
  },
  {
   "cell_type": "markdown",
   "metadata": {},
   "source": [
    "# Examples"
   ]
  },
  {
   "cell_type": "code",
   "execution_count": 3,
   "metadata": {},
   "outputs": [],
   "source": [
    "def squareMyNumber(n):\n",
    "    square = n*n\n",
    "    \n",
    "    ##############\n",
    "    return(square)\n",
    "    ##############\n",
    "    # if you don't have a return statement, your function will return NONE, which causes issues\n",
    "    \n",
    "\n",
    "k = squareMyNumber(6)\n",
    "\n",
    "# If I have 6 friends, and we all bring enough treats for everyone, we'll have k treats!\n",
    "# If each treat costs $1.50, how much did we spend?\n",
    "\n",
    "spent = k * 1.5"
   ]
  },
  {
   "cell_type": "code",
   "execution_count": 4,
   "metadata": {},
   "outputs": [
    {
     "name": "stdout",
     "output_type": "stream",
     "text": [
      "It's an l!!!\n",
      "It's an l!!!\n"
     ]
    }
   ],
   "source": [
    "mySentenceIsTheBestSentence = \"You know, like a liar.\"\n",
    "\n",
    "for letter in mySentenceIsTheBestSentence:#### careful of mispellings if the error says a var is not defined!\n",
    "    if letter == \"l\":\n",
    "        print(\"It's an l!!!\")\n",
    "        \n",
    "        "
   ]
  },
  {
   "cell_type": "code",
   "execution_count": 5,
   "metadata": {},
   "outputs": [
    {
     "data": {
      "text/plain": [
       "' The Project Gutenberg EBook of Pride and Prejudice, by Jane Austen  This eBook is for the use of a'"
      ]
     },
     "execution_count": 5,
     "metadata": {},
     "output_type": "execute_result"
    }
   ],
   "source": [
    "with open('../../../Data/prideAndPrejudice.txt', 'r') as prideAndPrejudice:\n",
    "    ##### make sure the datafile is spelled correctly and in the correct file\n",
    "    data = prideAndPrejudice.read().replace('\\n', ' ')\n",
    "data[1:100]"
   ]
  },
  {
   "cell_type": "code",
   "execution_count": 6,
   "metadata": {},
   "outputs": [
    {
     "name": "stdout",
     "output_type": "stream",
     "text": [
      "Chelsea gets an A+!!!\n",
      "Dan gets an A+!!!\n",
      "Craig gets an A+!!!\n",
      "Tony gets an A+!!!\n",
      "Blake gets an A+!!!\n",
      "Cynthia gets an A+!!!\n",
      "Julie gets an A+!!!\n"
     ]
    }
   ],
   "source": [
    "names = [\"Chelsea\", \"Dan\", \"Craig\", \"Tony\", \"Blake\", \"Cynthia\", \"Julie\"]\n",
    "\n",
    "for name in names: #####\n",
    "    print(name + \" gets an A+!!!\")"
   ]
  },
  {
   "cell_type": "code",
   "execution_count": 8,
   "metadata": {},
   "outputs": [
    {
     "data": {
      "text/plain": [
       "['Can',\n",
       " 'a',\n",
       " 'bee',\n",
       " 'be',\n",
       " 'said',\n",
       " 'to',\n",
       " 'be',\n",
       " 'or',\n",
       " 'not',\n",
       " 'to',\n",
       " 'be',\n",
       " 'an',\n",
       " 'entire',\n",
       " 'bee',\n",
       " 'if',\n",
       " 'half',\n",
       " 'the',\n",
       " 'bee',\n",
       " 'is',\n",
       " 'not',\n",
       " 'a',\n",
       " 'bee',\n",
       " 'due',\n",
       " 'to',\n",
       " 'an',\n",
       " 'ancient',\n",
       " 'injury?']"
      ]
     },
     "execution_count": 8,
     "metadata": {},
     "output_type": "execute_result"
    }
   ],
   "source": [
    "mySentence = \"Can a bee be said to be or not to be an entire bee if half the bee is not a bee due to an ancient injury?\"\n",
    "\n",
    "words = mySentence.split(\" \")\n",
    "words"
   ]
  }
 ],
 "metadata": {
  "kernelspec": {
   "display_name": "Python 3",
   "language": "python",
   "name": "python3"
  },
  "language_info": {
   "codemirror_mode": {
    "name": "ipython",
    "version": 3
   },
   "file_extension": ".py",
   "mimetype": "text/x-python",
   "name": "python",
   "nbconvert_exporter": "python",
   "pygments_lexer": "ipython3",
   "version": "3.8.1"
  }
 },
 "nbformat": 4,
 "nbformat_minor": 4
}
