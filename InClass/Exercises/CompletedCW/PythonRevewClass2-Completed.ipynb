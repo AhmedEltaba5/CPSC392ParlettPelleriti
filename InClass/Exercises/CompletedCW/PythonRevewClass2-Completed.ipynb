{
 "cells": [
  {
   "cell_type": "code",
   "execution_count": 31,
   "metadata": {},
   "outputs": [],
   "source": [
    "# import the necessary packages\n",
    "import warnings\n",
    "warnings.filterwarnings('ignore')\n",
    "\n",
    "import pandas as pd\n",
    "import numpy as np\n",
    "\n",
    "from sklearn.cluster import KMeans\n",
    "from sklearn.metrics import silhouette_score"
   ]
  },
  {
   "cell_type": "markdown",
   "metadata": {},
   "source": [
    "# Basics\n",
    "\n",
    "## Indexing\n",
    "\n",
    "In python, when an object is a collection (like a list, a tuple, or a string...etc), you can specify which items you want from that collection by putting the *index* (or multiple indices) of the item in square brackets."
   ]
  },
  {
   "cell_type": "code",
   "execution_count": 32,
   "metadata": {},
   "outputs": [
    {
     "data": {
      "text/plain": [
       "15"
      ]
     },
     "execution_count": 32,
     "metadata": {},
     "output_type": "execute_result"
    }
   ],
   "source": [
    "my_list = [4,8,15,16,23,42]\n",
    "\n",
    "# grab 15 from the list above\n",
    "\n",
    "my_list[2] # remember indexing begins at 0"
   ]
  },
  {
   "cell_type": "code",
   "execution_count": 33,
   "metadata": {},
   "outputs": [
    {
     "data": {
      "text/plain": [
       "'better'"
      ]
     },
     "execution_count": 33,
     "metadata": {},
     "output_type": "execute_result"
    }
   ],
   "source": [
    "my_string = \"Beautiful is better than ugly. Explicit is better than implicit. Simple is better than complex. Complex is better than complicated.\"\n",
    "\n",
    "# grab \"better\" from my_string\n",
    "\n",
    "my_string[13:19]"
   ]
  },
  {
   "cell_type": "code",
   "execution_count": 34,
   "metadata": {},
   "outputs": [
    {
     "data": {
      "text/plain": [
       "50"
      ]
     },
     "execution_count": 34,
     "metadata": {},
     "output_type": "execute_result"
    }
   ],
   "source": [
    "my_tuple = (50,100,25)\n",
    "\n",
    "# grab 50 from my_tuple\n",
    "\n",
    "my_tuple[0]"
   ]
  },
  {
   "cell_type": "markdown",
   "metadata": {},
   "source": [
    "Dictionaries, because they're not ordered, rely on key-value pairs rather than numeric indices. To grab a value from a dictionary, specify the key related to the value you'd like."
   ]
  },
  {
   "cell_type": "code",
   "execution_count": 35,
   "metadata": {},
   "outputs": [
    {
     "data": {
      "text/plain": [
       "'Jake'"
      ]
     },
     "execution_count": 35,
     "metadata": {},
     "output_type": "execute_result"
    }
   ],
   "source": [
    "my_dict = {\"Happy\": True, \"Age\": 45, \"Name\": \"Janice\", \"Children\": [\"Ted\", \"Alan\", \"Jake\"]}\n",
    "\n",
    "# grab name of 3rd child, Jake, from my_dict\n",
    "\n",
    "my_dict[\"Children\"][2] # from value associated with the key Children, grab the item @ the 2nd index"
   ]
  },
  {
   "cell_type": "markdown",
   "metadata": {},
   "source": [
    "## Your Turn\n",
    "\n",
    "From the object `CPSC392`, grab the average quiz grade for Carla.\n",
    "<img src=\"https://drive.google.com/uc?export=view&id=1ghyQPx1N8dmU3MV4TrANvqNhGwnLni72\" width = 200px />"
   ]
  },
  {
   "cell_type": "code",
   "execution_count": 36,
   "metadata": {},
   "outputs": [
    {
     "data": {
      "text/plain": [
       "7.4"
      ]
     },
     "execution_count": 36,
     "metadata": {},
     "output_type": "execute_result"
    }
   ],
   "source": [
    "CPSC392 = {\"Jimmy\": {\"QuizGrades\": [9,5,9,8,7], \"Major\": \"Computer Science\"},\n",
    "          \"Brenda\": {\"QuizGrades\": [9,10,9,10,7], \"Major\": \"Business\"},\n",
    "          \"Jacqueline\": {\"QuizGrades\": [3,6,2,8,9], \"Major\": \"Computer Science\"},\n",
    "          \"Bethany\": {\"QuizGrades\": [2,2,0,4,5], \"Major\": \"Business\"},\n",
    "          \"Kristen\": {\"QuizGrades\": [9,7,9,9,9], \"Major\": \"Computer Science\"},\n",
    "          \"Elissa\": {\"QuizGrades\": [4,4,5,8,2], \"Major\": \"Foreign Languages\"},\n",
    "          \"Carly\": {\"QuizGrades\": [7,6,8,7,9], \"Major\": \"Biology\"}}\n",
    "\n",
    "###\n",
    "\n",
    "np.mean(CPSC392[\"Carly\"][\"QuizGrades\"])"
   ]
  },
  {
   "cell_type": "markdown",
   "metadata": {},
   "source": [
    "## Range\n",
    "\n",
    "You can use the `range()` function in order to get a sequence of integers. Range takes 3 arguments:\n",
    "\n",
    "- `start`: which number to start at\n",
    "- `stop`: which number to stop at (this number itself is not included)\n",
    "- `step`: what incrememnt to step by (default is 1, `step = 2` would give you every other integer)"
   ]
  },
  {
   "cell_type": "code",
   "execution_count": 37,
   "metadata": {},
   "outputs": [
    {
     "name": "stdout",
     "output_type": "stream",
     "text": [
      "[0, 2, 4, 6, 8, 10, 12, 14, 16, 18, 20, 22, 24, 26, 28, 30, 32, 34, 36, 38, 40, 42, 44, 46, 48, 50, 52, 54, 56, 58, 60, 62, 64, 66, 68, 70, 72, 74, 76, 78, 80, 82, 84, 86, 88, 90, 92, 94, 96, 98]\n"
     ]
    }
   ],
   "source": [
    "r = range(0,100,2)\n",
    "\n",
    "r_list = list(r) # just to print it out\n",
    "\n",
    "print(r_list)"
   ]
  },
  {
   "cell_type": "code",
   "execution_count": 38,
   "metadata": {},
   "outputs": [
    {
     "name": "stdout",
     "output_type": "stream",
     "text": [
      "[10, 11, 12, 13, 14, 15, 16, 17, 18, 19, 20, 21, 22, 23]\n"
     ]
    }
   ],
   "source": [
    "s = range(10, 24)\n",
    "\n",
    "s_list = list(s)\n",
    "\n",
    "print(s_list)"
   ]
  },
  {
   "cell_type": "markdown",
   "metadata": {},
   "source": [
    "# Functions\n",
    "\n",
    "If you need to review: [Video 1](https://www.youtube.com/watch?v=dU5nyLfq7J0), [Video 2](https://www.youtube.com/watch?v=vp50OR-gwTY)\n",
    "\n",
    "Functions are a way to write multi-use code that can be called over and over in different circumstances. Functions are groups/suites of code that perform a specific calculation given variable inputs. Functions allow us to change the inputs we are operating on through *arguments* which are given to the function when you define and call the function. For example, in the code below which defines the function `square()`, the argument `n` tells us which number to square:"
   ]
  },
  {
   "cell_type": "code",
   "execution_count": 39,
   "metadata": {},
   "outputs": [],
   "source": [
    "def square(n):\n",
    "    return(n*n)"
   ]
  },
  {
   "cell_type": "markdown",
   "metadata": {},
   "source": [
    "## Arguments\n",
    "The argument `n` is a variable which will hold whatever number we give the function when calling it. For example, if I want to square the number 7 I would use this code:"
   ]
  },
  {
   "cell_type": "code",
   "execution_count": 40,
   "metadata": {},
   "outputs": [
    {
     "data": {
      "text/plain": [
       "49"
      ]
     },
     "execution_count": 40,
     "metadata": {},
     "output_type": "execute_result"
    }
   ],
   "source": [
    "square(7)"
   ]
  },
  {
   "cell_type": "markdown",
   "metadata": {},
   "source": [
    "in this case, `n` will be equal to `7`, and every time we reference `n` in the function code, we will use `7`. We could also use other numbers. For example:"
   ]
  },
  {
   "cell_type": "code",
   "execution_count": 41,
   "metadata": {},
   "outputs": [
    {
     "data": {
      "text/plain": [
       "144"
      ]
     },
     "execution_count": 41,
     "metadata": {},
     "output_type": "execute_result"
    }
   ],
   "source": [
    "square(n = 12)"
   ]
  },
  {
   "cell_type": "markdown",
   "metadata": {},
   "source": [
    "Notice that you can explicitly tell python which argument you're setting when calling the function by saying the name of the argument (here: `n`) `=` the value for that argument (here: `12`). \n",
    "\n",
    "\n",
    "## Default Arguments\n",
    "When *defining* a function, you can set *default arguments*, which are values that the function can use if the user does not provide values for that specific argument. For example, in our `square()` function, we can specify that if the user does not provide a value for `n`, then the function should use `n = 1`. We set default arguments by giving the argument a value when *defining* the function."
   ]
  },
  {
   "cell_type": "code",
   "execution_count": 42,
   "metadata": {},
   "outputs": [],
   "source": [
    "def square(n = 1):\n",
    "    return(n*n)"
   ]
  },
  {
   "cell_type": "markdown",
   "metadata": {},
   "source": [
    "When defining functions, arguments with NO default must come before arguments with a default. For example in this function that multiplies two numbers, `a` and `b`, the argument `a` must appear first in the parentheses when defining `mult()` because it does NOT have a default value, while `b` does."
   ]
  },
  {
   "cell_type": "code",
   "execution_count": 43,
   "metadata": {},
   "outputs": [],
   "source": [
    "def mult(a, b = 2):\n",
    "    return(a * b)"
   ]
  },
  {
   "cell_type": "markdown",
   "metadata": {},
   "source": [
    "Default arguments allow users to call the function without spefifying a value for that argument. For example if we called `square()` as defined in this section *without* an argument, it would return `1`, because it uses the default value of 1 when no value for `n` is given.\n",
    "\n",
    "## Calling vs. Defining Functions\n",
    "\n",
    "When you define a function, you're giving python instructions about what to do *if* you ever call that function. This is why when you write your `def` statement, and run the code, nothing actually outputs. This is because when you run a function definition, you are just asking python to *store* the directions for later. To actually execute the function, you need to *call* it. \n",
    "\n",
    "For example when you run the below cell. Nothing will output."
   ]
  },
  {
   "cell_type": "code",
   "execution_count": 44,
   "metadata": {},
   "outputs": [],
   "source": [
    "# FUNCTION DEFINITION\n",
    "\n",
    "def censorDang(sentence):\n",
    "    # this function takes in a sentence as a string and returns the same\n",
    "    # sentence censored for any occurance of the word \"dang\".\n",
    "    \n",
    "    sentence_list = sentence.split()\n",
    "    \n",
    "    for i in range(0,len(sentence_list)):\n",
    "        if sentence_list[i].lower() == \"dang\":\n",
    "            sentence_list[i] = \"****\"\n",
    "            \n",
    "    return(\" \".join(sentence_list))"
   ]
  },
  {
   "cell_type": "markdown",
   "metadata": {},
   "source": [
    "But when you call the function in the following cell, python will actually execute the code and there will be an output."
   ]
  },
  {
   "cell_type": "code",
   "execution_count": 45,
   "metadata": {},
   "outputs": [
    {
     "data": {
      "text/plain": [
       "'**** this is good tea.'"
      ]
     },
     "execution_count": 45,
     "metadata": {},
     "output_type": "execute_result"
    }
   ],
   "source": [
    "## FUNCTION CALL\n",
    "\n",
    "censorDang(\"Dang this is good tea.\")"
   ]
  },
  {
   "cell_type": "markdown",
   "metadata": {},
   "source": [
    "Remember that when you're writing a function, the arguments are just placeholders or variables. They don't refer to specific objects/values, they're meant to be malleable. So for example, when I wrote `censorDang()`, I didn't write it with a *specific* sentence in mind. The function should work for any sentence!\n",
    "\n",
    "## Your Turn\n",
    "\n",
    "Write a function, `max_list()` that takes in a list of numbers as an argument, and returns the maximum value of that list.\n",
    "\n",
    "<img src=\"https://drive.google.com/uc?export=view&id=1ghyQPx1N8dmU3MV4TrANvqNhGwnLni72\" width = 200px />"
   ]
  },
  {
   "cell_type": "code",
   "execution_count": 46,
   "metadata": {},
   "outputs": [
    {
     "data": {
      "text/plain": [
       "8"
      ]
     },
     "execution_count": 46,
     "metadata": {},
     "output_type": "execute_result"
    }
   ],
   "source": [
    "###\n",
    "\n",
    "def max_list(LoN):\n",
    "    return(max(LoN))\n",
    "\n",
    "max_list([1,4,7,8,2])"
   ]
  },
  {
   "cell_type": "markdown",
   "metadata": {},
   "source": [
    "Write a function, `q_finder()` that takes in a list of words/strings as an argument, and returns a list of only the words that contain q (upper OR lower case).\n",
    "\n",
    "<img src=\"https://drive.google.com/uc?export=view&id=1ghyQPx1N8dmU3MV4TrANvqNhGwnLni72\" width = 200px />"
   ]
  },
  {
   "cell_type": "code",
   "execution_count": 47,
   "metadata": {},
   "outputs": [
    {
     "data": {
      "text/plain": [
       "['Quality', 'quibble']"
      ]
     },
     "execution_count": 47,
     "metadata": {},
     "output_type": "execute_result"
    }
   ],
   "source": [
    "###\n",
    "\n",
    "def q_finder(listOfWords):\n",
    "    return([word for word in listOfWords if \"q\" in word.lower()])\n",
    "\n",
    "q_finder([\"Quality\", \"corn\", \"quibble\", \"cash\"])"
   ]
  },
  {
   "cell_type": "markdown",
   "metadata": {},
   "source": [
    "Write a function `cluster_subsetter()` that takes in a data frame (see example below), `df`,  and a string `cluster`, as arguments, and returns a data frame with only the rows who are in the cluster specified by `cluster`.\n",
    "\n",
    "<img src=\"https://drive.google.com/uc?export=view&id=1ghyQPx1N8dmU3MV4TrANvqNhGwnLni72\" width = 200px />"
   ]
  },
  {
   "cell_type": "code",
   "execution_count": 48,
   "metadata": {},
   "outputs": [
    {
     "data": {
      "text/html": [
       "<div>\n",
       "<style scoped>\n",
       "    .dataframe tbody tr th:only-of-type {\n",
       "        vertical-align: middle;\n",
       "    }\n",
       "\n",
       "    .dataframe tbody tr th {\n",
       "        vertical-align: top;\n",
       "    }\n",
       "\n",
       "    .dataframe thead th {\n",
       "        text-align: right;\n",
       "    }\n",
       "</style>\n",
       "<table border=\"1\" class=\"dataframe\">\n",
       "  <thead>\n",
       "    <tr style=\"text-align: right;\">\n",
       "      <th></th>\n",
       "      <th>x</th>\n",
       "      <th>y</th>\n",
       "      <th>cluster</th>\n",
       "    </tr>\n",
       "  </thead>\n",
       "  <tbody>\n",
       "    <tr>\n",
       "      <th>0</th>\n",
       "      <td>0.932351</td>\n",
       "      <td>0.611977</td>\n",
       "      <td>A</td>\n",
       "    </tr>\n",
       "    <tr>\n",
       "      <th>1</th>\n",
       "      <td>0.587494</td>\n",
       "      <td>0.206132</td>\n",
       "      <td>A</td>\n",
       "    </tr>\n",
       "    <tr>\n",
       "      <th>2</th>\n",
       "      <td>0.948252</td>\n",
       "      <td>0.165066</td>\n",
       "      <td>A</td>\n",
       "    </tr>\n",
       "    <tr>\n",
       "      <th>3</th>\n",
       "      <td>0.556035</td>\n",
       "      <td>0.361817</td>\n",
       "      <td>A</td>\n",
       "    </tr>\n",
       "    <tr>\n",
       "      <th>4</th>\n",
       "      <td>0.500561</td>\n",
       "      <td>0.863353</td>\n",
       "      <td>A</td>\n",
       "    </tr>\n",
       "    <tr>\n",
       "      <th>5</th>\n",
       "      <td>0.003532</td>\n",
       "      <td>0.509402</td>\n",
       "      <td>A</td>\n",
       "    </tr>\n",
       "    <tr>\n",
       "      <th>6</th>\n",
       "      <td>0.480889</td>\n",
       "      <td>0.296902</td>\n",
       "      <td>A</td>\n",
       "    </tr>\n",
       "    <tr>\n",
       "      <th>7</th>\n",
       "      <td>0.927455</td>\n",
       "      <td>0.950252</td>\n",
       "      <td>A</td>\n",
       "    </tr>\n",
       "    <tr>\n",
       "      <th>8</th>\n",
       "      <td>0.198366</td>\n",
       "      <td>0.815966</td>\n",
       "      <td>A</td>\n",
       "    </tr>\n",
       "    <tr>\n",
       "      <th>9</th>\n",
       "      <td>0.052091</td>\n",
       "      <td>0.322974</td>\n",
       "      <td>A</td>\n",
       "    </tr>\n",
       "    <tr>\n",
       "      <th>10</th>\n",
       "      <td>0.406779</td>\n",
       "      <td>0.972098</td>\n",
       "      <td>A</td>\n",
       "    </tr>\n",
       "    <tr>\n",
       "      <th>11</th>\n",
       "      <td>0.372396</td>\n",
       "      <td>0.987351</td>\n",
       "      <td>A</td>\n",
       "    </tr>\n",
       "    <tr>\n",
       "      <th>12</th>\n",
       "      <td>0.857153</td>\n",
       "      <td>0.408660</td>\n",
       "      <td>A</td>\n",
       "    </tr>\n",
       "    <tr>\n",
       "      <th>13</th>\n",
       "      <td>0.026611</td>\n",
       "      <td>0.655923</td>\n",
       "      <td>A</td>\n",
       "    </tr>\n",
       "    <tr>\n",
       "      <th>14</th>\n",
       "      <td>0.920149</td>\n",
       "      <td>0.405653</td>\n",
       "      <td>A</td>\n",
       "    </tr>\n",
       "    <tr>\n",
       "      <th>15</th>\n",
       "      <td>0.680903</td>\n",
       "      <td>0.257348</td>\n",
       "      <td>A</td>\n",
       "    </tr>\n",
       "    <tr>\n",
       "      <th>16</th>\n",
       "      <td>0.904226</td>\n",
       "      <td>0.082653</td>\n",
       "      <td>A</td>\n",
       "    </tr>\n",
       "    <tr>\n",
       "      <th>17</th>\n",
       "      <td>0.607529</td>\n",
       "      <td>0.263610</td>\n",
       "      <td>A</td>\n",
       "    </tr>\n",
       "    <tr>\n",
       "      <th>18</th>\n",
       "      <td>0.811953</td>\n",
       "      <td>0.271480</td>\n",
       "      <td>A</td>\n",
       "    </tr>\n",
       "    <tr>\n",
       "      <th>19</th>\n",
       "      <td>0.335544</td>\n",
       "      <td>0.398639</td>\n",
       "      <td>A</td>\n",
       "    </tr>\n",
       "    <tr>\n",
       "      <th>20</th>\n",
       "      <td>0.349566</td>\n",
       "      <td>0.184886</td>\n",
       "      <td>A</td>\n",
       "    </tr>\n",
       "    <tr>\n",
       "      <th>21</th>\n",
       "      <td>0.389874</td>\n",
       "      <td>0.953818</td>\n",
       "      <td>A</td>\n",
       "    </tr>\n",
       "    <tr>\n",
       "      <th>22</th>\n",
       "      <td>0.754797</td>\n",
       "      <td>0.102880</td>\n",
       "      <td>A</td>\n",
       "    </tr>\n",
       "    <tr>\n",
       "      <th>23</th>\n",
       "      <td>0.369291</td>\n",
       "      <td>0.625209</td>\n",
       "      <td>A</td>\n",
       "    </tr>\n",
       "    <tr>\n",
       "      <th>24</th>\n",
       "      <td>0.242220</td>\n",
       "      <td>0.441697</td>\n",
       "      <td>A</td>\n",
       "    </tr>\n",
       "    <tr>\n",
       "      <th>25</th>\n",
       "      <td>0.937668</td>\n",
       "      <td>0.423518</td>\n",
       "      <td>A</td>\n",
       "    </tr>\n",
       "    <tr>\n",
       "      <th>26</th>\n",
       "      <td>0.908011</td>\n",
       "      <td>0.371992</td>\n",
       "      <td>A</td>\n",
       "    </tr>\n",
       "    <tr>\n",
       "      <th>27</th>\n",
       "      <td>0.348797</td>\n",
       "      <td>0.868315</td>\n",
       "      <td>A</td>\n",
       "    </tr>\n",
       "    <tr>\n",
       "      <th>28</th>\n",
       "      <td>0.634638</td>\n",
       "      <td>0.280477</td>\n",
       "      <td>A</td>\n",
       "    </tr>\n",
       "    <tr>\n",
       "      <th>29</th>\n",
       "      <td>0.273842</td>\n",
       "      <td>0.020576</td>\n",
       "      <td>A</td>\n",
       "    </tr>\n",
       "    <tr>\n",
       "      <th>30</th>\n",
       "      <td>0.206115</td>\n",
       "      <td>0.918097</td>\n",
       "      <td>A</td>\n",
       "    </tr>\n",
       "    <tr>\n",
       "      <th>31</th>\n",
       "      <td>0.336340</td>\n",
       "      <td>0.864480</td>\n",
       "      <td>A</td>\n",
       "    </tr>\n",
       "    <tr>\n",
       "      <th>32</th>\n",
       "      <td>0.327100</td>\n",
       "      <td>0.276902</td>\n",
       "      <td>A</td>\n",
       "    </tr>\n",
       "    <tr>\n",
       "      <th>33</th>\n",
       "      <td>0.882276</td>\n",
       "      <td>0.523488</td>\n",
       "      <td>A</td>\n",
       "    </tr>\n",
       "    <tr>\n",
       "      <th>34</th>\n",
       "      <td>0.822304</td>\n",
       "      <td>0.109088</td>\n",
       "      <td>A</td>\n",
       "    </tr>\n",
       "    <tr>\n",
       "      <th>35</th>\n",
       "      <td>0.709623</td>\n",
       "      <td>0.093427</td>\n",
       "      <td>A</td>\n",
       "    </tr>\n",
       "    <tr>\n",
       "      <th>36</th>\n",
       "      <td>0.959345</td>\n",
       "      <td>0.837466</td>\n",
       "      <td>A</td>\n",
       "    </tr>\n",
       "    <tr>\n",
       "      <th>37</th>\n",
       "      <td>0.422543</td>\n",
       "      <td>0.410266</td>\n",
       "      <td>A</td>\n",
       "    </tr>\n",
       "    <tr>\n",
       "      <th>38</th>\n",
       "      <td>0.245033</td>\n",
       "      <td>0.661717</td>\n",
       "      <td>A</td>\n",
       "    </tr>\n",
       "    <tr>\n",
       "      <th>39</th>\n",
       "      <td>0.117398</td>\n",
       "      <td>0.943201</td>\n",
       "      <td>A</td>\n",
       "    </tr>\n",
       "    <tr>\n",
       "      <th>40</th>\n",
       "      <td>0.301053</td>\n",
       "      <td>0.245131</td>\n",
       "      <td>A</td>\n",
       "    </tr>\n",
       "    <tr>\n",
       "      <th>41</th>\n",
       "      <td>0.145264</td>\n",
       "      <td>0.013160</td>\n",
       "      <td>A</td>\n",
       "    </tr>\n",
       "    <tr>\n",
       "      <th>42</th>\n",
       "      <td>0.092186</td>\n",
       "      <td>0.024148</td>\n",
       "      <td>A</td>\n",
       "    </tr>\n",
       "    <tr>\n",
       "      <th>43</th>\n",
       "      <td>0.602932</td>\n",
       "      <td>0.709386</td>\n",
       "      <td>A</td>\n",
       "    </tr>\n",
       "    <tr>\n",
       "      <th>44</th>\n",
       "      <td>0.364187</td>\n",
       "      <td>0.924552</td>\n",
       "      <td>A</td>\n",
       "    </tr>\n",
       "    <tr>\n",
       "      <th>45</th>\n",
       "      <td>0.564570</td>\n",
       "      <td>0.467330</td>\n",
       "      <td>A</td>\n",
       "    </tr>\n",
       "    <tr>\n",
       "      <th>46</th>\n",
       "      <td>0.191336</td>\n",
       "      <td>0.375109</td>\n",
       "      <td>A</td>\n",
       "    </tr>\n",
       "    <tr>\n",
       "      <th>47</th>\n",
       "      <td>0.676906</td>\n",
       "      <td>0.542860</td>\n",
       "      <td>A</td>\n",
       "    </tr>\n",
       "    <tr>\n",
       "      <th>48</th>\n",
       "      <td>0.215505</td>\n",
       "      <td>0.858917</td>\n",
       "      <td>A</td>\n",
       "    </tr>\n",
       "    <tr>\n",
       "      <th>49</th>\n",
       "      <td>0.278024</td>\n",
       "      <td>0.652154</td>\n",
       "      <td>A</td>\n",
       "    </tr>\n",
       "  </tbody>\n",
       "</table>\n",
       "</div>"
      ],
      "text/plain": [
       "           x         y cluster\n",
       "0   0.932351  0.611977       A\n",
       "1   0.587494  0.206132       A\n",
       "2   0.948252  0.165066       A\n",
       "3   0.556035  0.361817       A\n",
       "4   0.500561  0.863353       A\n",
       "5   0.003532  0.509402       A\n",
       "6   0.480889  0.296902       A\n",
       "7   0.927455  0.950252       A\n",
       "8   0.198366  0.815966       A\n",
       "9   0.052091  0.322974       A\n",
       "10  0.406779  0.972098       A\n",
       "11  0.372396  0.987351       A\n",
       "12  0.857153  0.408660       A\n",
       "13  0.026611  0.655923       A\n",
       "14  0.920149  0.405653       A\n",
       "15  0.680903  0.257348       A\n",
       "16  0.904226  0.082653       A\n",
       "17  0.607529  0.263610       A\n",
       "18  0.811953  0.271480       A\n",
       "19  0.335544  0.398639       A\n",
       "20  0.349566  0.184886       A\n",
       "21  0.389874  0.953818       A\n",
       "22  0.754797  0.102880       A\n",
       "23  0.369291  0.625209       A\n",
       "24  0.242220  0.441697       A\n",
       "25  0.937668  0.423518       A\n",
       "26  0.908011  0.371992       A\n",
       "27  0.348797  0.868315       A\n",
       "28  0.634638  0.280477       A\n",
       "29  0.273842  0.020576       A\n",
       "30  0.206115  0.918097       A\n",
       "31  0.336340  0.864480       A\n",
       "32  0.327100  0.276902       A\n",
       "33  0.882276  0.523488       A\n",
       "34  0.822304  0.109088       A\n",
       "35  0.709623  0.093427       A\n",
       "36  0.959345  0.837466       A\n",
       "37  0.422543  0.410266       A\n",
       "38  0.245033  0.661717       A\n",
       "39  0.117398  0.943201       A\n",
       "40  0.301053  0.245131       A\n",
       "41  0.145264  0.013160       A\n",
       "42  0.092186  0.024148       A\n",
       "43  0.602932  0.709386       A\n",
       "44  0.364187  0.924552       A\n",
       "45  0.564570  0.467330       A\n",
       "46  0.191336  0.375109       A\n",
       "47  0.676906  0.542860       A\n",
       "48  0.215505  0.858917       A\n",
       "49  0.278024  0.652154       A"
      ]
     },
     "execution_count": 48,
     "metadata": {},
     "output_type": "execute_result"
    }
   ],
   "source": [
    "d = pd.DataFrame({\"x\": np.random.uniform(0,1,size = 100),\n",
    "                 \"y\" : np.random.uniform(0,1,size = 100),\n",
    "                 \"cluster\" : np.repeat([\"A\", \"B\", \"C\"], [50,20,30]) })\n",
    "d\n",
    "# cluster_subsetter(d,\"A\") should return only the rows in d that belong in cluster \"A\"\n",
    "\n",
    "\n",
    "###\n",
    "\n",
    "def cluster_subsetter(df, cluster):\n",
    "    return(df.loc[df[\"cluster\"] == cluster])\n",
    "\n",
    "cluster_subsetter(d, \"A\")"
   ]
  },
  {
   "cell_type": "markdown",
   "metadata": {},
   "source": [
    "# List Comprehension\n",
    "\n",
    "## List Comp Intro\n",
    "\n",
    "List comprehension is a way to create lists using iteration, essentially as an alternative to using a for loop. \n",
    "\n",
    "If a for loop looks like this:"
   ]
  },
  {
   "cell_type": "code",
   "execution_count": 49,
   "metadata": {},
   "outputs": [],
   "source": [
    "my_list = []\n",
    "\n",
    "for i in range(0,10):\n",
    "    my_list.append(i**2)"
   ]
  },
  {
   "cell_type": "markdown",
   "metadata": {},
   "source": [
    "then the list comprehension would look like this:"
   ]
  },
  {
   "cell_type": "code",
   "execution_count": 50,
   "metadata": {},
   "outputs": [],
   "source": [
    "my_list2 = [i**2 for i in range(0,10)]"
   ]
  },
  {
   "cell_type": "markdown",
   "metadata": {},
   "source": [
    "## Other examples:"
   ]
  },
  {
   "cell_type": "markdown",
   "metadata": {},
   "source": [
    "### making a list of all lower case letters in a string"
   ]
  },
  {
   "cell_type": "code",
   "execution_count": 51,
   "metadata": {},
   "outputs": [],
   "source": [
    "# for loop\n",
    "censored_list = []\n",
    "\n",
    "s = \"The rain in Spain falls mainly in the plains\"\n",
    "\n",
    "for letter in s:\n",
    "    censored_list.append(letter.lower())"
   ]
  },
  {
   "cell_type": "code",
   "execution_count": 52,
   "metadata": {},
   "outputs": [
    {
     "data": {
      "text/plain": [
       "True"
      ]
     },
     "execution_count": 52,
     "metadata": {},
     "output_type": "execute_result"
    }
   ],
   "source": [
    "# list comp\n",
    "\n",
    "censored_list2 = [letter.lower() for letter in s]\n",
    "\n",
    "censored_list == censored_list2"
   ]
  },
  {
   "cell_type": "markdown",
   "metadata": {},
   "source": [
    "### calculating factorials for a bunch of numbers\n"
   ]
  },
  {
   "cell_type": "code",
   "execution_count": 53,
   "metadata": {},
   "outputs": [],
   "source": [
    "# for loop\n",
    "\n",
    "factorials = []\n",
    "\n",
    "def factorial(n):\n",
    "    mult = range(1,n+1)\n",
    "    p = 1\n",
    "    for i in mult:\n",
    "        p = p * i\n",
    "    return(p)\n",
    "        \n",
    "n = [2,5,6,10,144]\n",
    "fac = []\n",
    "for num in n:\n",
    "    fac.append(factorial(num))"
   ]
  },
  {
   "cell_type": "code",
   "execution_count": 54,
   "metadata": {},
   "outputs": [
    {
     "data": {
      "text/plain": [
       "True"
      ]
     },
     "execution_count": 54,
     "metadata": {},
     "output_type": "execute_result"
    }
   ],
   "source": [
    "# list comp\n",
    "\n",
    "fac2 = [factorial(num) for num in n]\n",
    "\n",
    "fac == fac2"
   ]
  },
  {
   "cell_type": "markdown",
   "metadata": {},
   "source": [
    "### multiplying all possible combos of items from two lists together\n",
    "You can even do combine 2 for loops into 1 list comprehension!\n",
    "\n"
   ]
  },
  {
   "cell_type": "code",
   "execution_count": 55,
   "metadata": {
    "code_folding": []
   },
   "outputs": [],
   "source": [
    "# for loop\n",
    "\n",
    "a = [1,2,3,4,5]\n",
    "b = [6,7,3,4,-1]\n",
    "\n",
    "mults = []\n",
    "\n",
    "for i in a:\n",
    "    for j in b:\n",
    "       mults.append(i*j) "
   ]
  },
  {
   "cell_type": "code",
   "execution_count": 56,
   "metadata": {
    "code_folding": []
   },
   "outputs": [
    {
     "data": {
      "text/plain": [
       "False"
      ]
     },
     "execution_count": 56,
     "metadata": {},
     "output_type": "execute_result"
    }
   ],
   "source": [
    "# list comp\n",
    "\n",
    "mult2 = [i*j for i in a for j in b]\n",
    "\n",
    "mult == mult2"
   ]
  },
  {
   "cell_type": "markdown",
   "metadata": {},
   "source": [
    "### flattening a list of lists into a single list\n"
   ]
  },
  {
   "cell_type": "code",
   "execution_count": 57,
   "metadata": {},
   "outputs": [],
   "source": [
    "# for loop\n",
    "\n",
    "a = [[1,2,3,4,42,4,3,2],[4,2,3,9,5,83,8,2,9,0,3], [4,8,15,16,23,42]]\n",
    "\n",
    "newList = []\n",
    "for sub in a:\n",
    "    for i in sub:\n",
    "        newList.append(i)"
   ]
  },
  {
   "cell_type": "code",
   "execution_count": 58,
   "metadata": {},
   "outputs": [
    {
     "data": {
      "text/plain": [
       "True"
      ]
     },
     "execution_count": 58,
     "metadata": {},
     "output_type": "execute_result"
    }
   ],
   "source": [
    "# list comp\n",
    "newList2 = [i for sub in a for i in sub]\n",
    "\n",
    "newList == newList2"
   ]
  },
  {
   "cell_type": "markdown",
   "metadata": {},
   "source": [
    "### making a list of all possible playing cards"
   ]
  },
  {
   "cell_type": "code",
   "execution_count": 59,
   "metadata": {},
   "outputs": [
    {
     "name": "stdout",
     "output_type": "stream",
     "text": [
      "['A of Hearts', 'K of Hearts', 'Q of Hearts', 'J of Hearts', '10 of Hearts', '9 of Hearts', '8 of Hearts', '7 of Hearts', '6 of Hearts', '5 of Hearts', '4 of Hearts', '3 of Hearts', '2 of Hearts', 'A of Spades', 'K of Spades', 'Q of Spades', 'J of Spades', '10 of Spades', '9 of Spades', '8 of Spades', '7 of Spades', '6 of Spades', '5 of Spades', '4 of Spades', '3 of Spades', '2 of Spades', 'A of Diamond', 'K of Diamond', 'Q of Diamond', 'J of Diamond', '10 of Diamond', '9 of Diamond', '8 of Diamond', '7 of Diamond', '6 of Diamond', '5 of Diamond', '4 of Diamond', '3 of Diamond', '2 of Diamond', 'A of Clubs', 'K of Clubs', 'Q of Clubs', 'J of Clubs', '10 of Clubs', '9 of Clubs', '8 of Clubs', '7 of Clubs', '6 of Clubs', '5 of Clubs', '4 of Clubs', '3 of Clubs', '2 of Clubs']\n"
     ]
    },
    {
     "data": {
      "text/plain": [
       "False"
      ]
     },
     "execution_count": 59,
     "metadata": {},
     "output_type": "execute_result"
    }
   ],
   "source": [
    "suits = [\"Hearts\", \"Spades\", \"Diamond\", \"Clubs\"]\n",
    "cards = [\"A\",\"K\",\"Q\",\"J\", \"10\", \"9\", \"8\", \"7\", \"6\", \"5\", \"4\", \"3\", \"2\"]\n",
    "\n",
    "deck = []\n",
    "for suit in suits:\n",
    "    for card in cards:\n",
    "        deck.append(suit+card)\n",
    "        \n",
    "        \n",
    "#list comp\n",
    "\n",
    "deck2 = [card + \" of \" + suit for suit in suits for card in cards]\n",
    "\n",
    "print(deck2)\n",
    "\n",
    "deck == deck2"
   ]
  },
  {
   "cell_type": "markdown",
   "metadata": {},
   "source": [
    "### Words with e's\n",
    "\n",
    "You can also include boolean statements like if/else in your list comprehension."
   ]
  },
  {
   "cell_type": "code",
   "execution_count": 60,
   "metadata": {},
   "outputs": [],
   "source": [
    "words = [\"Hello\", \"Mother\", \"hello\", \"father\", \"fleas\", \"ticks\", \"mosquitos\", \"really\", \"bother\"]\n",
    "\n",
    "es = []\n",
    "\n",
    "for word in words:\n",
    "    if \"e\" in word.lower():\n",
    "        es.append(word)"
   ]
  },
  {
   "cell_type": "code",
   "execution_count": 61,
   "metadata": {},
   "outputs": [
    {
     "data": {
      "text/plain": [
       "True"
      ]
     },
     "execution_count": 61,
     "metadata": {},
     "output_type": "execute_result"
    }
   ],
   "source": [
    "es2 = [word for word in words if \"e\" in word.lower()]\n",
    "\n",
    "es == es2"
   ]
  },
  {
   "cell_type": "markdown",
   "metadata": {},
   "source": [
    "### Using list comp with sklearn\n",
    "\n",
    "You can use list comprehension with all sorts of functions. For example, you can use it to create a bunch of KMeans models and calculate their silhouette scores."
   ]
  },
  {
   "cell_type": "code",
   "execution_count": 62,
   "metadata": {},
   "outputs": [
    {
     "name": "stdout",
     "output_type": "stream",
     "text": [
      "[0.4342031414710615, 0.5368423138393504, 0.6513061716958818, 0.616849785320789, 0.5466131448314617, 0.5000762522673929, 0.45504546178918737, 0.3635328217620038]\n",
      "\n",
      "The maximum silhouette score is:  0.6513061716958818\n"
     ]
    }
   ],
   "source": [
    "data = pd.read_csv(\"https://raw.githubusercontent.com/cmparlettpelleriti/CPSC392ParlettPelleriti/master/Data/programmers2.csv\")\n",
    "\n",
    "kmod = KMeans()\n",
    "\n",
    "kms = [KMeans(n_clusters = k).fit(data) for k in range(2,10)]\n",
    "\n",
    "silhouettes = [silhouette_score(data,model.predict(data)) for model in kms]\n",
    "\n",
    "# silhouettes = [silhouette_score(data,KMeans(n_clusters = k).fit_predict(data)) for k in range(2,10)]\n",
    "\n",
    "print(silhouettes)\n",
    "\n",
    "print(\"\\nThe maximum silhouette score is: \", max(silhouettes))"
   ]
  },
  {
   "cell_type": "markdown",
   "metadata": {},
   "source": [
    "## Your Turn\n",
    "\n",
    "use the `prime()` function below, as well as list comprehension to create a list called `primes` that contains all the prime numbers between 3 and 1000.\n",
    "<img src=\"https://drive.google.com/uc?export=view&id=1ghyQPx1N8dmU3MV4TrANvqNhGwnLni72\" width = 200px />"
   ]
  },
  {
   "cell_type": "code",
   "execution_count": 63,
   "metadata": {},
   "outputs": [
    {
     "data": {
      "text/plain": [
       "[3,\n",
       " 5,\n",
       " 7,\n",
       " 11,\n",
       " 13,\n",
       " 17,\n",
       " 19,\n",
       " 23,\n",
       " 29,\n",
       " 31,\n",
       " 37,\n",
       " 41,\n",
       " 43,\n",
       " 47,\n",
       " 53,\n",
       " 59,\n",
       " 61,\n",
       " 67,\n",
       " 71,\n",
       " 73,\n",
       " 79,\n",
       " 83,\n",
       " 89,\n",
       " 97,\n",
       " 101,\n",
       " 103,\n",
       " 107,\n",
       " 109,\n",
       " 113,\n",
       " 127,\n",
       " 131,\n",
       " 137,\n",
       " 139,\n",
       " 149,\n",
       " 151,\n",
       " 157,\n",
       " 163,\n",
       " 167,\n",
       " 173,\n",
       " 179,\n",
       " 181,\n",
       " 191,\n",
       " 193,\n",
       " 197,\n",
       " 199,\n",
       " 211,\n",
       " 223,\n",
       " 227,\n",
       " 229,\n",
       " 233,\n",
       " 239,\n",
       " 241,\n",
       " 251,\n",
       " 257,\n",
       " 263,\n",
       " 269,\n",
       " 271,\n",
       " 277,\n",
       " 281,\n",
       " 283,\n",
       " 293,\n",
       " 307,\n",
       " 311,\n",
       " 313,\n",
       " 317,\n",
       " 331,\n",
       " 337,\n",
       " 347,\n",
       " 349,\n",
       " 353,\n",
       " 359,\n",
       " 367,\n",
       " 373,\n",
       " 379,\n",
       " 383,\n",
       " 389,\n",
       " 397,\n",
       " 401,\n",
       " 409,\n",
       " 419,\n",
       " 421,\n",
       " 431,\n",
       " 433,\n",
       " 439,\n",
       " 443,\n",
       " 449,\n",
       " 457,\n",
       " 461,\n",
       " 463,\n",
       " 467,\n",
       " 479,\n",
       " 487,\n",
       " 491,\n",
       " 499,\n",
       " 503,\n",
       " 509,\n",
       " 521,\n",
       " 523,\n",
       " 541,\n",
       " 547,\n",
       " 557,\n",
       " 563,\n",
       " 569,\n",
       " 571,\n",
       " 577,\n",
       " 587,\n",
       " 593,\n",
       " 599,\n",
       " 601,\n",
       " 607,\n",
       " 613,\n",
       " 617,\n",
       " 619,\n",
       " 631,\n",
       " 641,\n",
       " 643,\n",
       " 647,\n",
       " 653,\n",
       " 659,\n",
       " 661,\n",
       " 673,\n",
       " 677,\n",
       " 683,\n",
       " 691,\n",
       " 701,\n",
       " 709,\n",
       " 719,\n",
       " 727,\n",
       " 733,\n",
       " 739,\n",
       " 743,\n",
       " 751,\n",
       " 757,\n",
       " 761,\n",
       " 769,\n",
       " 773,\n",
       " 787,\n",
       " 797,\n",
       " 809,\n",
       " 811,\n",
       " 821,\n",
       " 823,\n",
       " 827,\n",
       " 829,\n",
       " 839,\n",
       " 853,\n",
       " 857,\n",
       " 859,\n",
       " 863,\n",
       " 877,\n",
       " 881,\n",
       " 883,\n",
       " 887,\n",
       " 907,\n",
       " 911,\n",
       " 919,\n",
       " 929,\n",
       " 937,\n",
       " 941,\n",
       " 947,\n",
       " 953,\n",
       " 967,\n",
       " 971,\n",
       " 977,\n",
       " 983,\n",
       " 991,\n",
       " 997]"
      ]
     },
     "execution_count": 63,
     "metadata": {},
     "output_type": "execute_result"
    }
   ],
   "source": [
    "def prime(n = 10):\n",
    "    if n < 2:\n",
    "        return(False)\n",
    "    if n == 2:\n",
    "        return(True)\n",
    "    for div in range(2,n):\n",
    "        if n%div == 0:\n",
    "            return(False)\n",
    "    return(True)\n",
    "\n",
    "primes = [i for i in range(3,1001) if prime(i)]###\n",
    "primes"
   ]
  },
  {
   "cell_type": "markdown",
   "metadata": {},
   "source": [
    "Use list comprehension to turn this list of numbers, into a list of strings (for example if the list is [1,2,3] you want to return [\"1\", \"2\", \"3\"]).\n",
    "<img src=\"https://drive.google.com/uc?export=view&id=1ghyQPx1N8dmU3MV4TrANvqNhGwnLni72\" width = 200px />"
   ]
  },
  {
   "cell_type": "code",
   "execution_count": 64,
   "metadata": {},
   "outputs": [
    {
     "data": {
      "text/plain": [
       "['1', '1', '3', '5', '8', '13']"
      ]
     },
     "execution_count": 64,
     "metadata": {},
     "output_type": "execute_result"
    }
   ],
   "source": [
    "nums = [1,1,3,5,8,13]\n",
    "string_nums = [str(i) for i in nums]\n",
    "\n",
    "string_nums###"
   ]
  },
  {
   "cell_type": "markdown",
   "metadata": {},
   "source": [
    "Use list comprehension to create a list of ONLY words from `sentence` that have an even number of letters.\n",
    "<img src=\"https://drive.google.com/uc?export=view&id=1ghyQPx1N8dmU3MV4TrANvqNhGwnLni72\" width = 200px />"
   ]
  },
  {
   "cell_type": "code",
   "execution_count": 65,
   "metadata": {},
   "outputs": [
    {
     "data": {
      "text/plain": [
       "['amet',\n",
       " 'adipiscing',\n",
       " 'elit',\n",
       " 'do',\n",
       " 'tempor',\n",
       " 'incididunt',\n",
       " 'ut',\n",
       " 'labore',\n",
       " 'et',\n",
       " 'dolore',\n",
       " 'aliqua',\n",
       " 'Ut',\n",
       " 'enim',\n",
       " 'ad',\n",
       " 'veniam',\n",
       " 'quis',\n",
       " 'exercitation',\n",
       " 'nisi',\n",
       " 'ut',\n",
       " 'ex',\n",
       " 'ea',\n",
       " 'Duis',\n",
       " 'aute',\n",
       " 'in',\n",
       " 'in',\n",
       " 'esse',\n",
       " 'cillum',\n",
       " 'dolore',\n",
       " 'eu',\n",
       " 'fugiat',\n",
       " 'pariatur',\n",
       " 'sint',\n",
       " 'occaecat',\n",
       " 'proident',\n",
       " 'sunt',\n",
       " 'in',\n",
       " 'deserunt',\n",
       " 'mollit',\n",
       " 'anim',\n",
       " 'id']"
      ]
     },
     "execution_count": 65,
     "metadata": {},
     "output_type": "execute_result"
    }
   ],
   "source": [
    "sentence = \"Lorem ipsum dolor sit amet consectetur adipiscing elit sed do eiusmod tempor incididunt ut labore et dolore magna aliqua Ut enim ad minim veniam quis nostrud exercitation ullamco laboris nisi ut aliquip ex ea commodo consequat Duis aute irure dolor in reprehenderit in voluptate velit esse cillum dolore eu fugiat nulla pariatur Excepteur sint occaecat cupidatat non proident sunt in culpa qui officia deserunt mollit anim id est laborum\"\n",
    "\n",
    "even_words = [word for word in sentence.split() if len(word)%2 == 0]###\n",
    "even_words\n"
   ]
  },
  {
   "cell_type": "markdown",
   "metadata": {},
   "source": [
    "# Pandas Data Frames\n",
    "\n",
    "Data frames are a way to store data in python. It's similar to a single spreadsheet which contains rows (observations) and columns (features).\n",
    "\n",
    "You can grab the size of the data frame with `.shape` which gives you the number of rows, and columns in the data frame."
   ]
  },
  {
   "cell_type": "code",
   "execution_count": 66,
   "metadata": {},
   "outputs": [
    {
     "data": {
      "text/plain": [
       "(600, 2)"
      ]
     },
     "execution_count": 66,
     "metadata": {},
     "output_type": "execute_result"
    }
   ],
   "source": [
    "data = pd.read_csv(\"https://raw.githubusercontent.com/cmparlettpelleriti/CPSC392ParlettPelleriti/master/Data/KMEM4.csv\")\n",
    "\n",
    "data.shape"
   ]
  },
  {
   "cell_type": "markdown",
   "metadata": {},
   "source": [
    "To see a small # of rows of your data frame, use `.head()`"
   ]
  },
  {
   "cell_type": "code",
   "execution_count": 67,
   "metadata": {},
   "outputs": [
    {
     "data": {
      "text/html": [
       "<div>\n",
       "<style scoped>\n",
       "    .dataframe tbody tr th:only-of-type {\n",
       "        vertical-align: middle;\n",
       "    }\n",
       "\n",
       "    .dataframe tbody tr th {\n",
       "        vertical-align: top;\n",
       "    }\n",
       "\n",
       "    .dataframe thead th {\n",
       "        text-align: right;\n",
       "    }\n",
       "</style>\n",
       "<table border=\"1\" class=\"dataframe\">\n",
       "  <thead>\n",
       "    <tr style=\"text-align: right;\">\n",
       "      <th></th>\n",
       "      <th>x</th>\n",
       "      <th>y</th>\n",
       "    </tr>\n",
       "  </thead>\n",
       "  <tbody>\n",
       "    <tr>\n",
       "      <th>0</th>\n",
       "      <td>-0.006848</td>\n",
       "      <td>0.395527</td>\n",
       "    </tr>\n",
       "    <tr>\n",
       "      <th>1</th>\n",
       "      <td>0.314820</td>\n",
       "      <td>-0.289261</td>\n",
       "    </tr>\n",
       "    <tr>\n",
       "      <th>2</th>\n",
       "      <td>0.171705</td>\n",
       "      <td>1.078077</td>\n",
       "    </tr>\n",
       "    <tr>\n",
       "      <th>3</th>\n",
       "      <td>-1.203661</td>\n",
       "      <td>1.325926</td>\n",
       "    </tr>\n",
       "    <tr>\n",
       "      <th>4</th>\n",
       "      <td>-0.179379</td>\n",
       "      <td>-0.036615</td>\n",
       "    </tr>\n",
       "  </tbody>\n",
       "</table>\n",
       "</div>"
      ],
      "text/plain": [
       "          x         y\n",
       "0 -0.006848  0.395527\n",
       "1  0.314820 -0.289261\n",
       "2  0.171705  1.078077\n",
       "3 -1.203661  1.325926\n",
       "4 -0.179379 -0.036615"
      ]
     },
     "execution_count": 67,
     "metadata": {},
     "output_type": "execute_result"
    }
   ],
   "source": [
    "data.head()"
   ]
  },
  {
   "cell_type": "markdown",
   "metadata": {},
   "source": [
    "To grab columns from a data frame you can use multiple ways:"
   ]
  },
  {
   "cell_type": "code",
   "execution_count": 68,
   "metadata": {},
   "outputs": [
    {
     "data": {
      "text/plain": [
       "0     -0.006848\n",
       "1      0.314820\n",
       "2      0.171705\n",
       "3     -1.203661\n",
       "4     -0.179379\n",
       "         ...   \n",
       "595    4.189792\n",
       "596   -4.249038\n",
       "597    3.411690\n",
       "598    3.629434\n",
       "599   -4.904774\n",
       "Name: x, Length: 600, dtype: float64"
      ]
     },
     "execution_count": 68,
     "metadata": {},
     "output_type": "execute_result"
    }
   ],
   "source": [
    "data.x"
   ]
  },
  {
   "cell_type": "code",
   "execution_count": 69,
   "metadata": {},
   "outputs": [
    {
     "data": {
      "text/plain": [
       "0     -0.006848\n",
       "1      0.314820\n",
       "2      0.171705\n",
       "3     -1.203661\n",
       "4     -0.179379\n",
       "         ...   \n",
       "595    4.189792\n",
       "596   -4.249038\n",
       "597    3.411690\n",
       "598    3.629434\n",
       "599   -4.904774\n",
       "Name: x, Length: 600, dtype: float64"
      ]
     },
     "execution_count": 69,
     "metadata": {},
     "output_type": "execute_result"
    }
   ],
   "source": [
    "data[\"x\"]"
   ]
  },
  {
   "cell_type": "code",
   "execution_count": 70,
   "metadata": {},
   "outputs": [
    {
     "data": {
      "text/plain": [
       "0     -0.006848\n",
       "1      0.314820\n",
       "2      0.171705\n",
       "3     -1.203661\n",
       "4     -0.179379\n",
       "         ...   \n",
       "595    4.189792\n",
       "596   -4.249038\n",
       "597    3.411690\n",
       "598    3.629434\n",
       "599   -4.904774\n",
       "Name: x, Length: 600, dtype: float64"
      ]
     },
     "execution_count": 70,
     "metadata": {},
     "output_type": "execute_result"
    }
   ],
   "source": [
    "data.iloc[:,0]"
   ]
  },
  {
   "cell_type": "code",
   "execution_count": 71,
   "metadata": {},
   "outputs": [
    {
     "data": {
      "text/plain": [
       "0     -0.006848\n",
       "1      0.314820\n",
       "2      0.171705\n",
       "3     -1.203661\n",
       "4     -0.179379\n",
       "         ...   \n",
       "595    4.189792\n",
       "596   -4.249038\n",
       "597    3.411690\n",
       "598    3.629434\n",
       "599   -4.904774\n",
       "Name: x, Length: 600, dtype: float64"
      ]
     },
     "execution_count": 71,
     "metadata": {},
     "output_type": "execute_result"
    }
   ],
   "source": [
    "data.loc[:, \"x\"]"
   ]
  },
  {
   "cell_type": "markdown",
   "metadata": {},
   "source": [
    "To acces rows from a data frame, we'll often use `.loc[]` or `.iloc[]`. You can remember the difference by telling yourself that the `i` in `.iloc[]` stands for integer/index, because `.iloc[]` takes indices/integers, whereas `.loc[]` can take booleans, and labels/strings.\n",
    "\n",
    "Let's use `.loc[]` to grab rows 19-25 (assuming first row is 0) from `data`."
   ]
  },
  {
   "cell_type": "code",
   "execution_count": 72,
   "metadata": {},
   "outputs": [
    {
     "data": {
      "text/html": [
       "<div>\n",
       "<style scoped>\n",
       "    .dataframe tbody tr th:only-of-type {\n",
       "        vertical-align: middle;\n",
       "    }\n",
       "\n",
       "    .dataframe tbody tr th {\n",
       "        vertical-align: top;\n",
       "    }\n",
       "\n",
       "    .dataframe thead th {\n",
       "        text-align: right;\n",
       "    }\n",
       "</style>\n",
       "<table border=\"1\" class=\"dataframe\">\n",
       "  <thead>\n",
       "    <tr style=\"text-align: right;\">\n",
       "      <th></th>\n",
       "      <th>x</th>\n",
       "      <th>y</th>\n",
       "    </tr>\n",
       "  </thead>\n",
       "  <tbody>\n",
       "    <tr>\n",
       "      <th>19</th>\n",
       "      <td>-0.746738</td>\n",
       "      <td>-0.440733</td>\n",
       "    </tr>\n",
       "    <tr>\n",
       "      <th>20</th>\n",
       "      <td>1.524822</td>\n",
       "      <td>-1.256318</td>\n",
       "    </tr>\n",
       "    <tr>\n",
       "      <th>21</th>\n",
       "      <td>-0.728119</td>\n",
       "      <td>-0.015010</td>\n",
       "    </tr>\n",
       "    <tr>\n",
       "      <th>22</th>\n",
       "      <td>0.914411</td>\n",
       "      <td>-1.748031</td>\n",
       "    </tr>\n",
       "    <tr>\n",
       "      <th>23</th>\n",
       "      <td>-0.491472</td>\n",
       "      <td>1.115153</td>\n",
       "    </tr>\n",
       "    <tr>\n",
       "      <th>24</th>\n",
       "      <td>0.597467</td>\n",
       "      <td>-1.437617</td>\n",
       "    </tr>\n",
       "    <tr>\n",
       "      <th>25</th>\n",
       "      <td>-0.875947</td>\n",
       "      <td>0.582450</td>\n",
       "    </tr>\n",
       "  </tbody>\n",
       "</table>\n",
       "</div>"
      ],
      "text/plain": [
       "           x         y\n",
       "19 -0.746738 -0.440733\n",
       "20  1.524822 -1.256318\n",
       "21 -0.728119 -0.015010\n",
       "22  0.914411 -1.748031\n",
       "23 -0.491472  1.115153\n",
       "24  0.597467 -1.437617\n",
       "25 -0.875947  0.582450"
      ]
     },
     "execution_count": 72,
     "metadata": {},
     "output_type": "execute_result"
    }
   ],
   "source": [
    "data.iloc[19:26,] # remember it STARTS from the first number and goes up to BUT NOT INCLUDING the second"
   ]
  },
  {
   "cell_type": "markdown",
   "metadata": {},
   "source": [
    "Now let's grab only the rows where x > 3, and y > 3."
   ]
  },
  {
   "cell_type": "code",
   "execution_count": 73,
   "metadata": {},
   "outputs": [
    {
     "data": {
      "text/html": [
       "<div>\n",
       "<style scoped>\n",
       "    .dataframe tbody tr th:only-of-type {\n",
       "        vertical-align: middle;\n",
       "    }\n",
       "\n",
       "    .dataframe tbody tr th {\n",
       "        vertical-align: top;\n",
       "    }\n",
       "\n",
       "    .dataframe thead th {\n",
       "        text-align: right;\n",
       "    }\n",
       "</style>\n",
       "<table border=\"1\" class=\"dataframe\">\n",
       "  <thead>\n",
       "    <tr style=\"text-align: right;\">\n",
       "      <th></th>\n",
       "      <th>x</th>\n",
       "      <th>y</th>\n",
       "    </tr>\n",
       "  </thead>\n",
       "  <tbody>\n",
       "    <tr>\n",
       "      <th>128</th>\n",
       "      <td>3.457686</td>\n",
       "      <td>3.200131</td>\n",
       "    </tr>\n",
       "    <tr>\n",
       "      <th>140</th>\n",
       "      <td>3.408910</td>\n",
       "      <td>3.062241</td>\n",
       "    </tr>\n",
       "    <tr>\n",
       "      <th>201</th>\n",
       "      <td>3.067726</td>\n",
       "      <td>3.221080</td>\n",
       "    </tr>\n",
       "    <tr>\n",
       "      <th>272</th>\n",
       "      <td>3.711039</td>\n",
       "      <td>3.285028</td>\n",
       "    </tr>\n",
       "    <tr>\n",
       "      <th>313</th>\n",
       "      <td>3.141992</td>\n",
       "      <td>3.761917</td>\n",
       "    </tr>\n",
       "    <tr>\n",
       "      <th>361</th>\n",
       "      <td>3.706717</td>\n",
       "      <td>3.030354</td>\n",
       "    </tr>\n",
       "    <tr>\n",
       "      <th>422</th>\n",
       "      <td>3.486926</td>\n",
       "      <td>3.055562</td>\n",
       "    </tr>\n",
       "    <tr>\n",
       "      <th>436</th>\n",
       "      <td>3.002480</td>\n",
       "      <td>3.544937</td>\n",
       "    </tr>\n",
       "    <tr>\n",
       "      <th>471</th>\n",
       "      <td>3.012580</td>\n",
       "      <td>3.290013</td>\n",
       "    </tr>\n",
       "    <tr>\n",
       "      <th>554</th>\n",
       "      <td>3.275193</td>\n",
       "      <td>3.012374</td>\n",
       "    </tr>\n",
       "    <tr>\n",
       "      <th>583</th>\n",
       "      <td>3.313295</td>\n",
       "      <td>3.404577</td>\n",
       "    </tr>\n",
       "    <tr>\n",
       "      <th>592</th>\n",
       "      <td>3.071065</td>\n",
       "      <td>3.151695</td>\n",
       "    </tr>\n",
       "  </tbody>\n",
       "</table>\n",
       "</div>"
      ],
      "text/plain": [
       "            x         y\n",
       "128  3.457686  3.200131\n",
       "140  3.408910  3.062241\n",
       "201  3.067726  3.221080\n",
       "272  3.711039  3.285028\n",
       "313  3.141992  3.761917\n",
       "361  3.706717  3.030354\n",
       "422  3.486926  3.055562\n",
       "436  3.002480  3.544937\n",
       "471  3.012580  3.290013\n",
       "554  3.275193  3.012374\n",
       "583  3.313295  3.404577\n",
       "592  3.071065  3.151695"
      ]
     },
     "execution_count": 73,
     "metadata": {},
     "output_type": "execute_result"
    }
   ],
   "source": [
    "gt3 = (data.x > 3) & (data.y > 3)\n",
    "\n",
    "data.loc[gt3]"
   ]
  },
  {
   "cell_type": "markdown",
   "metadata": {},
   "source": [
    "There are TONS of useful data frame functions, so I'll demonstrate just a few:\n"
   ]
  },
  {
   "cell_type": "code",
   "execution_count": 74,
   "metadata": {},
   "outputs": [
    {
     "data": {
      "text/plain": [
       "x   -0.125429\n",
       "y    0.695387\n",
       "dtype: float64"
      ]
     },
     "execution_count": 74,
     "metadata": {},
     "output_type": "execute_result"
    }
   ],
   "source": [
    "# grab the mean of columns\n",
    "\n",
    "data.mean()"
   ]
  },
  {
   "cell_type": "code",
   "execution_count": 75,
   "metadata": {},
   "outputs": [
    {
     "data": {
      "text/plain": [
       "x    4.976464\n",
       "y    4.979621\n",
       "dtype: float64"
      ]
     },
     "execution_count": 75,
     "metadata": {},
     "output_type": "execute_result"
    }
   ],
   "source": [
    "# grab the max of the columns\n",
    "\n",
    "data.max()"
   ]
  },
  {
   "cell_type": "code",
   "execution_count": 76,
   "metadata": {},
   "outputs": [
    {
     "data": {
      "text/plain": [
       "Index(['x', 'y'], dtype='object')"
      ]
     },
     "execution_count": 76,
     "metadata": {},
     "output_type": "execute_result"
    }
   ],
   "source": [
    "# what columns are in my df?\n",
    "\n",
    "data.columns"
   ]
  },
  {
   "cell_type": "code",
   "execution_count": 77,
   "metadata": {},
   "outputs": [],
   "source": [
    "# drop missing values\n",
    "\n",
    "data = data.dropna()"
   ]
  },
  {
   "cell_type": "code",
   "execution_count": 78,
   "metadata": {},
   "outputs": [
    {
     "data": {
      "text/html": [
       "<div>\n",
       "<style scoped>\n",
       "    .dataframe tbody tr th:only-of-type {\n",
       "        vertical-align: middle;\n",
       "    }\n",
       "\n",
       "    .dataframe tbody tr th {\n",
       "        vertical-align: top;\n",
       "    }\n",
       "\n",
       "    .dataframe thead th {\n",
       "        text-align: right;\n",
       "    }\n",
       "</style>\n",
       "<table border=\"1\" class=\"dataframe\">\n",
       "  <thead>\n",
       "    <tr style=\"text-align: right;\">\n",
       "      <th></th>\n",
       "      <th>py</th>\n",
       "      <th>r</th>\n",
       "      <th>c</th>\n",
       "      <th>sql</th>\n",
       "      <th>js</th>\n",
       "    </tr>\n",
       "    <tr>\n",
       "      <th>Assignment</th>\n",
       "      <th></th>\n",
       "      <th></th>\n",
       "      <th></th>\n",
       "      <th></th>\n",
       "      <th></th>\n",
       "    </tr>\n",
       "  </thead>\n",
       "  <tbody>\n",
       "    <tr>\n",
       "      <th>A</th>\n",
       "      <td>89.750298</td>\n",
       "      <td>75.704910</td>\n",
       "      <td>18.941242</td>\n",
       "      <td>24.833986</td>\n",
       "      <td>5.055579</td>\n",
       "    </tr>\n",
       "    <tr>\n",
       "      <th>B</th>\n",
       "      <td>69.799266</td>\n",
       "      <td>69.569211</td>\n",
       "      <td>10.891900</td>\n",
       "      <td>64.164052</td>\n",
       "      <td>9.186321</td>\n",
       "    </tr>\n",
       "    <tr>\n",
       "      <th>C</th>\n",
       "      <td>96.017893</td>\n",
       "      <td>21.015196</td>\n",
       "      <td>87.057530</td>\n",
       "      <td>22.728009</td>\n",
       "      <td>31.075785</td>\n",
       "    </tr>\n",
       "    <tr>\n",
       "      <th>D</th>\n",
       "      <td>18.554134</td>\n",
       "      <td>22.925694</td>\n",
       "      <td>29.934704</td>\n",
       "      <td>33.196274</td>\n",
       "      <td>18.982596</td>\n",
       "    </tr>\n",
       "    <tr>\n",
       "      <th>E</th>\n",
       "      <td>63.830289</td>\n",
       "      <td>20.361404</td>\n",
       "      <td>14.394041</td>\n",
       "      <td>87.165838</td>\n",
       "      <td>92.782235</td>\n",
       "    </tr>\n",
       "  </tbody>\n",
       "</table>\n",
       "</div>"
      ],
      "text/plain": [
       "                   py          r          c        sql         js\n",
       "Assignment                                                       \n",
       "A           89.750298  75.704910  18.941242  24.833986   5.055579\n",
       "B           69.799266  69.569211  10.891900  64.164052   9.186321\n",
       "C           96.017893  21.015196  87.057530  22.728009  31.075785\n",
       "D           18.554134  22.925694  29.934704  33.196274  18.982596\n",
       "E           63.830289  20.361404  14.394041  87.165838  92.782235"
      ]
     },
     "execution_count": 78,
     "metadata": {},
     "output_type": "execute_result"
    }
   ],
   "source": [
    "# groupb data frame by cluster assignment and then get the mean for each cluster\n",
    "\n",
    "prog = pd.read_csv(\"https://raw.githubusercontent.com/cmparlettpelleriti/CPSC392ParlettPelleriti/master/Data/programmers.csv\")\n",
    "prog[\"Assignment\"] = np.repeat([\"A\", \"B\", \"C\", \"D\", \"E\"],50)\n",
    "\n",
    "prog.groupby(\"Assignment\").mean() # rows are each cluster, columns represent the different features"
   ]
  },
  {
   "cell_type": "markdown",
   "metadata": {},
   "source": [
    "## Your Turn\n",
    "\n",
    "Using the pandas skills you've learned in class and reviewed here, what is the mean dancibility for each artist in the `popDivas` dataset? Who has the highest average danceability?\n",
    "<img src=\"https://drive.google.com/uc?export=view&id=1ghyQPx1N8dmU3MV4TrANvqNhGwnLni72\" width = 200px />"
   ]
  },
  {
   "cell_type": "code",
   "execution_count": 79,
   "metadata": {},
   "outputs": [
    {
     "data": {
      "text/html": [
       "<div>\n",
       "<style scoped>\n",
       "    .dataframe tbody tr th:only-of-type {\n",
       "        vertical-align: middle;\n",
       "    }\n",
       "\n",
       "    .dataframe tbody tr th {\n",
       "        vertical-align: top;\n",
       "    }\n",
       "\n",
       "    .dataframe thead th {\n",
       "        text-align: right;\n",
       "    }\n",
       "</style>\n",
       "<table border=\"1\" class=\"dataframe\">\n",
       "  <thead>\n",
       "    <tr style=\"text-align: right;\">\n",
       "      <th></th>\n",
       "      <th>Unnamed: 0</th>\n",
       "      <th>artist_name</th>\n",
       "      <th>danceability</th>\n",
       "      <th>energy</th>\n",
       "      <th>key</th>\n",
       "      <th>loudness</th>\n",
       "      <th>mode</th>\n",
       "      <th>speechiness</th>\n",
       "      <th>acousticness</th>\n",
       "      <th>instrumentalness</th>\n",
       "      <th>liveness</th>\n",
       "      <th>valence</th>\n",
       "      <th>duration_ms</th>\n",
       "      <th>track_name</th>\n",
       "    </tr>\n",
       "  </thead>\n",
       "  <tbody>\n",
       "    <tr>\n",
       "      <th>0</th>\n",
       "      <td>1</td>\n",
       "      <td>Beyoncé</td>\n",
       "      <td>0.386</td>\n",
       "      <td>0.28800</td>\n",
       "      <td>1</td>\n",
       "      <td>-18.513</td>\n",
       "      <td>1</td>\n",
       "      <td>0.0602</td>\n",
       "      <td>0.533</td>\n",
       "      <td>0.01670</td>\n",
       "      <td>0.1410</td>\n",
       "      <td>0.399</td>\n",
       "      <td>43850</td>\n",
       "      <td>balance (mufasa interlude)</td>\n",
       "    </tr>\n",
       "    <tr>\n",
       "      <th>1</th>\n",
       "      <td>2</td>\n",
       "      <td>Beyoncé</td>\n",
       "      <td>0.484</td>\n",
       "      <td>0.36300</td>\n",
       "      <td>5</td>\n",
       "      <td>-8.094</td>\n",
       "      <td>0</td>\n",
       "      <td>0.0368</td>\n",
       "      <td>0.645</td>\n",
       "      <td>0.00000</td>\n",
       "      <td>0.1250</td>\n",
       "      <td>0.201</td>\n",
       "      <td>226479</td>\n",
       "      <td>BIGGER</td>\n",
       "    </tr>\n",
       "    <tr>\n",
       "      <th>2</th>\n",
       "      <td>3</td>\n",
       "      <td>Beyoncé</td>\n",
       "      <td>0.537</td>\n",
       "      <td>0.24700</td>\n",
       "      <td>2</td>\n",
       "      <td>-17.750</td>\n",
       "      <td>1</td>\n",
       "      <td>0.0793</td>\n",
       "      <td>0.199</td>\n",
       "      <td>0.00001</td>\n",
       "      <td>0.4230</td>\n",
       "      <td>0.170</td>\n",
       "      <td>46566</td>\n",
       "      <td>the stars (mufasa interlude)</td>\n",
       "    </tr>\n",
       "    <tr>\n",
       "      <th>3</th>\n",
       "      <td>4</td>\n",
       "      <td>Beyoncé</td>\n",
       "      <td>0.672</td>\n",
       "      <td>0.69600</td>\n",
       "      <td>4</td>\n",
       "      <td>-6.693</td>\n",
       "      <td>0</td>\n",
       "      <td>0.1770</td>\n",
       "      <td>0.200</td>\n",
       "      <td>0.02750</td>\n",
       "      <td>0.0736</td>\n",
       "      <td>0.642</td>\n",
       "      <td>162353</td>\n",
       "      <td>FIND YOUR WAY BACK</td>\n",
       "    </tr>\n",
       "    <tr>\n",
       "      <th>4</th>\n",
       "      <td>5</td>\n",
       "      <td>Beyoncé</td>\n",
       "      <td>0.000</td>\n",
       "      <td>0.00515</td>\n",
       "      <td>9</td>\n",
       "      <td>-22.612</td>\n",
       "      <td>0</td>\n",
       "      <td>0.0000</td>\n",
       "      <td>0.524</td>\n",
       "      <td>0.95000</td>\n",
       "      <td>0.1140</td>\n",
       "      <td>0.000</td>\n",
       "      <td>13853</td>\n",
       "      <td>uncle scar (scar interlude)</td>\n",
       "    </tr>\n",
       "  </tbody>\n",
       "</table>\n",
       "</div>"
      ],
      "text/plain": [
       "   Unnamed: 0 artist_name  danceability   energy  key  loudness  mode  \\\n",
       "0           1     Beyoncé         0.386  0.28800    1   -18.513     1   \n",
       "1           2     Beyoncé         0.484  0.36300    5    -8.094     0   \n",
       "2           3     Beyoncé         0.537  0.24700    2   -17.750     1   \n",
       "3           4     Beyoncé         0.672  0.69600    4    -6.693     0   \n",
       "4           5     Beyoncé         0.000  0.00515    9   -22.612     0   \n",
       "\n",
       "   speechiness  acousticness  instrumentalness  liveness  valence  \\\n",
       "0       0.0602         0.533           0.01670    0.1410    0.399   \n",
       "1       0.0368         0.645           0.00000    0.1250    0.201   \n",
       "2       0.0793         0.199           0.00001    0.4230    0.170   \n",
       "3       0.1770         0.200           0.02750    0.0736    0.642   \n",
       "4       0.0000         0.524           0.95000    0.1140    0.000   \n",
       "\n",
       "   duration_ms                    track_name  \n",
       "0        43850    balance (mufasa interlude)  \n",
       "1       226479                        BIGGER  \n",
       "2        46566  the stars (mufasa interlude)  \n",
       "3       162353            FIND YOUR WAY BACK  \n",
       "4        13853   uncle scar (scar interlude)  "
      ]
     },
     "execution_count": 79,
     "metadata": {},
     "output_type": "execute_result"
    }
   ],
   "source": [
    "popDivas = pd.read_csv(\"https://raw.githubusercontent.com/cmparlettpelleriti/CPSC392ParlettPelleriti/master/Data/PopDivas_data.csv\")\n",
    "popDivas.head()"
   ]
  },
  {
   "cell_type": "code",
   "execution_count": 80,
   "metadata": {},
   "outputs": [
    {
     "data": {
      "text/plain": [
       "[0.5675717299578059,\n",
       " 0.719620253164557,\n",
       " 0.5856818181818182,\n",
       " 0.5941027397260275,\n",
       " 0.6265100286532952,\n",
       " 0.6129830508474575]"
      ]
     },
     "execution_count": 80,
     "metadata": {},
     "output_type": "execute_result"
    }
   ],
   "source": [
    "###\n",
    "artists = pd.unique(popDivas.artist_name)\n",
    "\n",
    "[popDivas.loc[popDivas.artist_name == artist, \"danceability\"].mean() for artist in artists]"
   ]
  },
  {
   "cell_type": "markdown",
   "metadata": {},
   "source": [
    "Grab only the songs that are by Beyonce or Britney Spears, and have an energy score above 0.5.\n",
    "<img src=\"https://drive.google.com/uc?export=view&id=1ghyQPx1N8dmU3MV4TrANvqNhGwnLni72\" width = 200px />"
   ]
  },
  {
   "cell_type": "code",
   "execution_count": 81,
   "metadata": {},
   "outputs": [
    {
     "data": {
      "text/html": [
       "<div>\n",
       "<style scoped>\n",
       "    .dataframe tbody tr th:only-of-type {\n",
       "        vertical-align: middle;\n",
       "    }\n",
       "\n",
       "    .dataframe tbody tr th {\n",
       "        vertical-align: top;\n",
       "    }\n",
       "\n",
       "    .dataframe thead th {\n",
       "        text-align: right;\n",
       "    }\n",
       "</style>\n",
       "<table border=\"1\" class=\"dataframe\">\n",
       "  <thead>\n",
       "    <tr style=\"text-align: right;\">\n",
       "      <th></th>\n",
       "      <th>Unnamed: 0</th>\n",
       "      <th>artist_name</th>\n",
       "      <th>danceability</th>\n",
       "      <th>energy</th>\n",
       "      <th>key</th>\n",
       "      <th>loudness</th>\n",
       "      <th>mode</th>\n",
       "      <th>speechiness</th>\n",
       "      <th>acousticness</th>\n",
       "      <th>instrumentalness</th>\n",
       "      <th>liveness</th>\n",
       "      <th>valence</th>\n",
       "      <th>duration_ms</th>\n",
       "      <th>track_name</th>\n",
       "    </tr>\n",
       "  </thead>\n",
       "  <tbody>\n",
       "    <tr>\n",
       "      <th>3</th>\n",
       "      <td>4</td>\n",
       "      <td>Beyoncé</td>\n",
       "      <td>0.672</td>\n",
       "      <td>0.696</td>\n",
       "      <td>4</td>\n",
       "      <td>-6.693</td>\n",
       "      <td>0</td>\n",
       "      <td>0.1770</td>\n",
       "      <td>0.2000</td>\n",
       "      <td>0.027500</td>\n",
       "      <td>0.0736</td>\n",
       "      <td>0.642</td>\n",
       "      <td>162353</td>\n",
       "      <td>FIND YOUR WAY BACK</td>\n",
       "    </tr>\n",
       "    <tr>\n",
       "      <th>5</th>\n",
       "      <td>6</td>\n",
       "      <td>Beyoncé</td>\n",
       "      <td>0.932</td>\n",
       "      <td>0.775</td>\n",
       "      <td>7</td>\n",
       "      <td>-5.345</td>\n",
       "      <td>0</td>\n",
       "      <td>0.1150</td>\n",
       "      <td>0.0184</td>\n",
       "      <td>0.015700</td>\n",
       "      <td>0.3180</td>\n",
       "      <td>0.584</td>\n",
       "      <td>155990</td>\n",
       "      <td>DON'T JEALOUS ME</td>\n",
       "    </tr>\n",
       "    <tr>\n",
       "      <th>7</th>\n",
       "      <td>8</td>\n",
       "      <td>Beyoncé</td>\n",
       "      <td>0.790</td>\n",
       "      <td>0.693</td>\n",
       "      <td>0</td>\n",
       "      <td>-5.767</td>\n",
       "      <td>1</td>\n",
       "      <td>0.0605</td>\n",
       "      <td>0.0420</td>\n",
       "      <td>0.026700</td>\n",
       "      <td>0.0790</td>\n",
       "      <td>0.855</td>\n",
       "      <td>190108</td>\n",
       "      <td>JA ARA E</td>\n",
       "    </tr>\n",
       "    <tr>\n",
       "      <th>11</th>\n",
       "      <td>12</td>\n",
       "      <td>Beyoncé</td>\n",
       "      <td>0.608</td>\n",
       "      <td>0.709</td>\n",
       "      <td>7</td>\n",
       "      <td>-6.175</td>\n",
       "      <td>1</td>\n",
       "      <td>0.3740</td>\n",
       "      <td>0.1190</td>\n",
       "      <td>0.000000</td>\n",
       "      <td>0.3370</td>\n",
       "      <td>0.709</td>\n",
       "      <td>272068</td>\n",
       "      <td>MOOD 4 EVA (feat. Oumou Sangaré)</td>\n",
       "    </tr>\n",
       "    <tr>\n",
       "      <th>12</th>\n",
       "      <td>13</td>\n",
       "      <td>Beyoncé</td>\n",
       "      <td>0.000</td>\n",
       "      <td>0.558</td>\n",
       "      <td>0</td>\n",
       "      <td>-17.238</td>\n",
       "      <td>1</td>\n",
       "      <td>0.0000</td>\n",
       "      <td>0.7560</td>\n",
       "      <td>0.000000</td>\n",
       "      <td>0.5330</td>\n",
       "      <td>0.000</td>\n",
       "      <td>8619</td>\n",
       "      <td>reunited (nala &amp; simba interlude)</td>\n",
       "    </tr>\n",
       "    <tr>\n",
       "      <th>...</th>\n",
       "      <td>...</td>\n",
       "      <td>...</td>\n",
       "      <td>...</td>\n",
       "      <td>...</td>\n",
       "      <td>...</td>\n",
       "      <td>...</td>\n",
       "      <td>...</td>\n",
       "      <td>...</td>\n",
       "      <td>...</td>\n",
       "      <td>...</td>\n",
       "      <td>...</td>\n",
       "      <td>...</td>\n",
       "      <td>...</td>\n",
       "      <td>...</td>\n",
       "    </tr>\n",
       "    <tr>\n",
       "      <th>546</th>\n",
       "      <td>547</td>\n",
       "      <td>Britney Spears</td>\n",
       "      <td>0.847</td>\n",
       "      <td>0.801</td>\n",
       "      <td>9</td>\n",
       "      <td>-3.838</td>\n",
       "      <td>1</td>\n",
       "      <td>0.0564</td>\n",
       "      <td>0.0876</td>\n",
       "      <td>0.000204</td>\n",
       "      <td>0.7660</td>\n",
       "      <td>0.841</td>\n",
       "      <td>216706</td>\n",
       "      <td>What U See (Is What U Get)</td>\n",
       "    </tr>\n",
       "    <tr>\n",
       "      <th>547</th>\n",
       "      <td>548</td>\n",
       "      <td>Britney Spears</td>\n",
       "      <td>0.765</td>\n",
       "      <td>0.791</td>\n",
       "      <td>8</td>\n",
       "      <td>-5.707</td>\n",
       "      <td>1</td>\n",
       "      <td>0.0317</td>\n",
       "      <td>0.2620</td>\n",
       "      <td>0.000154</td>\n",
       "      <td>0.0669</td>\n",
       "      <td>0.966</td>\n",
       "      <td>206226</td>\n",
       "      <td>Lucky</td>\n",
       "    </tr>\n",
       "    <tr>\n",
       "      <th>548</th>\n",
       "      <td>549</td>\n",
       "      <td>Britney Spears</td>\n",
       "      <td>0.732</td>\n",
       "      <td>0.888</td>\n",
       "      <td>7</td>\n",
       "      <td>-2.415</td>\n",
       "      <td>1</td>\n",
       "      <td>0.0792</td>\n",
       "      <td>0.0702</td>\n",
       "      <td>0.000003</td>\n",
       "      <td>0.3790</td>\n",
       "      <td>0.674</td>\n",
       "      <td>203280</td>\n",
       "      <td>One Kiss from You</td>\n",
       "    </tr>\n",
       "    <tr>\n",
       "      <th>550</th>\n",
       "      <td>551</td>\n",
       "      <td>Britney Spears</td>\n",
       "      <td>0.810</td>\n",
       "      <td>0.924</td>\n",
       "      <td>0</td>\n",
       "      <td>-4.020</td>\n",
       "      <td>0</td>\n",
       "      <td>0.0356</td>\n",
       "      <td>0.1190</td>\n",
       "      <td>0.000087</td>\n",
       "      <td>0.1490</td>\n",
       "      <td>0.868</td>\n",
       "      <td>197186</td>\n",
       "      <td>Can't Make You Love Me</td>\n",
       "    </tr>\n",
       "    <tr>\n",
       "      <th>551</th>\n",
       "      <td>552</td>\n",
       "      <td>Britney Spears</td>\n",
       "      <td>0.693</td>\n",
       "      <td>0.625</td>\n",
       "      <td>7</td>\n",
       "      <td>-7.147</td>\n",
       "      <td>1</td>\n",
       "      <td>0.0431</td>\n",
       "      <td>0.0553</td>\n",
       "      <td>0.000000</td>\n",
       "      <td>0.6590</td>\n",
       "      <td>0.439</td>\n",
       "      <td>269773</td>\n",
       "      <td>When Your Eyes Say It</td>\n",
       "    </tr>\n",
       "  </tbody>\n",
       "</table>\n",
       "<p>416 rows × 14 columns</p>\n",
       "</div>"
      ],
      "text/plain": [
       "     Unnamed: 0     artist_name  danceability  energy  key  loudness  mode  \\\n",
       "3             4         Beyoncé         0.672   0.696    4    -6.693     0   \n",
       "5             6         Beyoncé         0.932   0.775    7    -5.345     0   \n",
       "7             8         Beyoncé         0.790   0.693    0    -5.767     1   \n",
       "11           12         Beyoncé         0.608   0.709    7    -6.175     1   \n",
       "12           13         Beyoncé         0.000   0.558    0   -17.238     1   \n",
       "..          ...             ...           ...     ...  ...       ...   ...   \n",
       "546         547  Britney Spears         0.847   0.801    9    -3.838     1   \n",
       "547         548  Britney Spears         0.765   0.791    8    -5.707     1   \n",
       "548         549  Britney Spears         0.732   0.888    7    -2.415     1   \n",
       "550         551  Britney Spears         0.810   0.924    0    -4.020     0   \n",
       "551         552  Britney Spears         0.693   0.625    7    -7.147     1   \n",
       "\n",
       "     speechiness  acousticness  instrumentalness  liveness  valence  \\\n",
       "3         0.1770        0.2000          0.027500    0.0736    0.642   \n",
       "5         0.1150        0.0184          0.015700    0.3180    0.584   \n",
       "7         0.0605        0.0420          0.026700    0.0790    0.855   \n",
       "11        0.3740        0.1190          0.000000    0.3370    0.709   \n",
       "12        0.0000        0.7560          0.000000    0.5330    0.000   \n",
       "..           ...           ...               ...       ...      ...   \n",
       "546       0.0564        0.0876          0.000204    0.7660    0.841   \n",
       "547       0.0317        0.2620          0.000154    0.0669    0.966   \n",
       "548       0.0792        0.0702          0.000003    0.3790    0.674   \n",
       "550       0.0356        0.1190          0.000087    0.1490    0.868   \n",
       "551       0.0431        0.0553          0.000000    0.6590    0.439   \n",
       "\n",
       "     duration_ms                         track_name  \n",
       "3         162353                 FIND YOUR WAY BACK  \n",
       "5         155990                   DON'T JEALOUS ME  \n",
       "7         190108                           JA ARA E  \n",
       "11        272068   MOOD 4 EVA (feat. Oumou Sangaré)  \n",
       "12          8619  reunited (nala & simba interlude)  \n",
       "..           ...                                ...  \n",
       "546       216706         What U See (Is What U Get)  \n",
       "547       206226                              Lucky  \n",
       "548       203280                  One Kiss from You  \n",
       "550       197186             Can't Make You Love Me  \n",
       "551       269773              When Your Eyes Say It  \n",
       "\n",
       "[416 rows x 14 columns]"
      ]
     },
     "execution_count": 81,
     "metadata": {},
     "output_type": "execute_result"
    }
   ],
   "source": [
    "popDivas.loc[((popDivas.artist_name == \"Britney Spears\") | (popDivas.artist_name == \"Beyoncé\")) & (popDivas.energy > 0.5)]###"
   ]
  },
  {
   "cell_type": "markdown",
   "metadata": {},
   "source": [
    "# Math with Arrays\n",
    "\n",
    "numpy arrays allow us to do *vectorized* operations. *Vectorized* operations are applied elementwise to each item in an array, rather than to the array as a whole. For example, if we want to get the square of every number in an array, we can say `array**2`. You can see below, that calling `**2` on the array `x` squares each item in `x`."
   ]
  },
  {
   "cell_type": "code",
   "execution_count": 82,
   "metadata": {},
   "outputs": [
    {
     "data": {
      "text/plain": [
       "array([  1,   4,   9,  16,  25, 100])"
      ]
     },
     "execution_count": 82,
     "metadata": {},
     "output_type": "execute_result"
    }
   ],
   "source": [
    "x = np.array([1,2,3,4,5,10])\n",
    "\n",
    "x**2"
   ]
  },
  {
   "cell_type": "markdown",
   "metadata": {},
   "source": [
    "Similarly we can subtract one array from another `a - b`, which will substract the first element of `b` from the first element of `a`, etc."
   ]
  },
  {
   "cell_type": "code",
   "execution_count": 83,
   "metadata": {},
   "outputs": [
    {
     "data": {
      "text/plain": [
       "array([ 0, -2,  5, -1, -4])"
      ]
     },
     "execution_count": 83,
     "metadata": {},
     "output_type": "execute_result"
    }
   ],
   "source": [
    "a = np.array([1,2,3,4,5])\n",
    "b = np.array([1,4,-2,5,9])\n",
    "\n",
    "a-b"
   ]
  },
  {
   "cell_type": "markdown",
   "metadata": {},
   "source": [
    "## Your Turn\n",
    "\n",
    "Using the array knowledge you just reviewed, multiply the arrays `a` and `b` together and then find the sum of those producs.\n",
    "<img src=\"https://drive.google.com/uc?export=view&id=1ghyQPx1N8dmU3MV4TrANvqNhGwnLni72\" width = 200px />"
   ]
  },
  {
   "cell_type": "code",
   "execution_count": 84,
   "metadata": {},
   "outputs": [
    {
     "data": {
      "text/plain": [
       "68"
      ]
     },
     "execution_count": 84,
     "metadata": {},
     "output_type": "execute_result"
    }
   ],
   "source": [
    "###\n",
    "\n",
    "np.sum(a*b)"
   ]
  },
  {
   "cell_type": "markdown",
   "metadata": {},
   "source": [
    "# `np.random`\n",
    "\n",
    "`np.random` is a great package that allows us to generate random values from different distributions, or randomly choose items from a collection. The two most common functions we use are `np.random.choice()` and `np.random.normal()`.\n",
    "\n",
    "`np.random.choice()` takes 3 main arguments:\n",
    "\n",
    "- `a`: an array or collection of items to choose from.\n",
    "\n",
    "- `size`: an integer that represents how many items you want to choose/sample from `a`\n",
    "\n",
    "- `replace`: a boolean that tells you whether or not to allow the function to select an item more than once in the sample.\n",
    "\n",
    "\n",
    "`np.random.normal()` takes 3 main arguments as well:\n",
    "\n",
    "- `loc`: the mean of the normal distribution to sample from\n",
    "\n",
    "- `scale`: the standard deviation of the normal distribution to sample from\n",
    "\n",
    "- `size`: the number of samples to draw."
   ]
  },
  {
   "cell_type": "code",
   "execution_count": 85,
   "metadata": {},
   "outputs": [
    {
     "data": {
      "text/plain": [
       "array([-0.42077627,  0.40126436, -2.29473803,  0.68439529,  0.7434193 ,\n",
       "       -1.26754906,  1.0613513 ,  0.0760928 , -0.53482069,  0.02383092,\n",
       "        0.35384763, -0.42662042, -2.90004921, -0.40037098, -1.15825556,\n",
       "       -0.97608792, -0.07001175,  0.48660588,  0.31756681,  0.82305648,\n",
       "        0.05752439,  0.13260975,  0.62285224,  0.81593481,  1.53571575,\n",
       "        0.74348027,  1.45945092,  0.08034466, -0.21769482, -1.60552565,\n",
       "       -2.00386212, -1.34014893,  0.0714015 , -1.05015971,  1.96251721,\n",
       "       -0.64561312, -0.45018849,  0.04708405, -0.08934169,  1.05369704,\n",
       "       -0.7410494 ,  2.17904506, -0.57510637, -1.29201673,  0.30171817,\n",
       "       -0.71769286, -0.11019393, -1.38334067, -0.46681893, -0.80716112,\n",
       "        0.25920547,  1.6258097 ,  1.61356087, -1.12168268, -1.35186243,\n",
       "        1.15149021, -0.13646018, -1.31817751, -0.8011849 , -1.3085578 ,\n",
       "       -0.0518749 ,  0.60621158, -1.11365633,  1.25728411, -0.1223763 ,\n",
       "        0.03074007,  0.66848914, -0.60899796, -0.12849583,  1.04857269,\n",
       "       -1.37811434, -0.8208525 , -0.44845238, -0.51316102,  1.20424839,\n",
       "        0.70777496, -0.43635112,  0.40220193,  1.64721067,  1.68104532,\n",
       "        0.07458696,  0.2210926 ,  0.57106072,  2.58278269, -0.37913876,\n",
       "        0.25471068, -2.0678196 , -0.01616918,  1.17710281, -0.51116767,\n",
       "        1.33341973, -0.58056172,  1.1807691 , -0.20431628, -0.03607106,\n",
       "       -0.81003773, -1.70641966, -0.24002979, -0.89976143, -0.1259801 ])"
      ]
     },
     "execution_count": 85,
     "metadata": {},
     "output_type": "execute_result"
    }
   ],
   "source": [
    "# draw 100 samples from a standard normal distribution with mean = 0, sd = 1\n",
    "\n",
    "samp100 = np.random.normal(0,1,100)\n",
    "\n",
    "samp100"
   ]
  },
  {
   "cell_type": "code",
   "execution_count": 86,
   "metadata": {},
   "outputs": [
    {
     "data": {
      "text/plain": [
       "array([155, 120,  43, 117, 175, 228, 139,  17, 116,  44,  50, 241,   4,\n",
       "       158, 193,  44,  58, 200, 129,  81, 183,  34, 171, 152,  15,  57,\n",
       "        40,  43, 109, 147,  58, 195, 116,  31, 243,  83, 191,  38, 142,\n",
       "       145, 198, 194, 199,  28, 199, 128, 106, 117, 212, 230,  44,  65,\n",
       "        33, 148, 175, 160, 119, 102, 184,  39, 198,  14, 200, 157,  43,\n",
       "       114, 182, 244,  16, 229, 104, 166,  47,  84, 130, 164,  16,  80,\n",
       "       245, 202, 201, 192, 201,  24,  15, 182,  58, 101, 245,  31, 190,\n",
       "        51,  24, 140, 106,  79, 113, 104,  83,  27, 187,   7, 248, 158,\n",
       "       245, 219, 220, 105,  61, 161, 100, 169, 211, 196,  90, 100,  36,\n",
       "        30, 160, 239,  95,  80, 170,  22, 239, 172,  40, 228, 120,  80,\n",
       "       111,  17, 141, 143, 124,  23, 230, 194, 140,  38,  20,  60, 146,\n",
       "       207,  27,  68, 135, 142, 245, 200, 145,  19, 227, 172,  58, 235,\n",
       "       153, 193, 165, 133,   2, 148, 214,  89,  48, 249,  21,  83, 172,\n",
       "        29, 159, 111,   1, 175, 103,  38, 101,  29, 159,  26,  11, 173,\n",
       "       214,  78, 187,  98, 232,  49, 234, 194,  78,  68,  91, 167, 137,\n",
       "       173, 213, 130, 177,  38, 229,  99, 171,  65, 181, 184, 216, 165,\n",
       "       157,  69, 206, 148,  57,  83, 140,  74,  67, 180, 161, 205, 186,\n",
       "        57, 165, 121, 139, 205,  55, 141,  88,  18, 123, 120,  81, 246,\n",
       "       240,  75, 127,  66, 228, 181,  72,  92,  27, 244, 213, 128, 139,\n",
       "        67, 215, 190, 188, 130, 133, 128, 208, 130, 178,   2, 119, 136,\n",
       "       145,  96, 234,  25, 247, 149, 248, 192,  82,  69, 153, 212,  61,\n",
       "        68, 209, 127, 236,  14, 147,  47, 245, 155, 184, 164,  50,  72,\n",
       "       217,  19, 234, 134, 178,  57,   8,  32, 213, 192, 135,  49, 118,\n",
       "       225,  47,  62, 230, 124,  88,  96, 200, 119, 235, 235, 240, 208,\n",
       "       120,  74,  82,  85,   8, 137, 216, 148, 202,  19, 139, 230, 177,\n",
       "       206,   5, 144,  56,  68,  78, 223, 111, 178,  66, 130, 206, 175,\n",
       "        95,  71, 133,   4, 110,  15, 237,  52,  16,  38, 132,  87,  90,\n",
       "        24,  20, 109, 135, 173,  33, 206,  34,  25,  99, 225,  34, 246,\n",
       "       180,  14,  66, 168, 136, 163, 179, 106, 119, 185, 217,   9, 157,\n",
       "       233, 124, 227, 185, 208, 216,  74, 186, 247, 110, 158,  75, 152,\n",
       "       217, 166,  55, 204, 157,   2, 245,  30, 127, 212,  45, 162, 119,\n",
       "        92, 140,  29, 197, 138,  10,  67, 241, 149,  97, 221,  68,  30,\n",
       "        91, 158,  86,   2, 162,  84,  59,  84,   9, 203, 154, 100, 139,\n",
       "        86,  85, 214,  86, 142, 153, 245, 155, 140,  98, 228,  43,  37,\n",
       "         3, 205,  46, 228,   7,  97, 193,   7, 248, 216,  90,  74,  58,\n",
       "        58,  16, 121, 157,  50, 229,  56, 247, 119, 137,  33, 121, 142,\n",
       "       246,  85, 152, 141, 152, 108, 180,  16, 106,  65,  92,  84,  47,\n",
       "       129, 124, 190,  51,  95,  71,  99, 180, 218,  26,  56, 105, 150,\n",
       "       188,  11,  69, 170, 151, 100,  56,  24,  19, 174, 172, 228, 133,\n",
       "       118, 212, 158,  96, 111, 208, 121, 160, 112,  65, 116, 231, 224,\n",
       "       129, 172, 141,   2, 217, 249, 215, 124,  11, 178,  72,   3, 132,\n",
       "        52,  68,  75, 172, 138,  91, 125,  26, 245, 213,   2,  20, 138,\n",
       "        27, 156,  80, 201, 206, 112, 127,  43, 156,  67, 230, 151, 108,\n",
       "       151, 141, 119,  25, 202,   2, 138, 174, 237, 177,   5,  51,  32,\n",
       "       240, 144,  39, 145,  43, 110,   3,  99, 239, 230, 240,  56,  78,\n",
       "       176, 168,  89, 160, 191,  27,  93, 179, 173,  91, 108, 187, 167,\n",
       "        97,   9, 181, 230,  48,  78, 171, 243, 221,  27, 166, 217,  25,\n",
       "       107, 128,  85,  86, 216, 135, 161, 124, 115, 142,  65, 139, 185,\n",
       "       145,  58, 188,   6, 169, 218, 193,  98, 173, 186, 175, 246,  76,\n",
       "        67, 219, 150, 114, 145, 148, 102, 124, 141,  76, 239,  49,  83,\n",
       "       204,   7, 131,  69,  23, 123, 241])"
      ]
     },
     "execution_count": 86,
     "metadata": {},
     "output_type": "execute_result"
    }
   ],
   "source": [
    "# draw 657 samples from `my_list` with replacement\n",
    "\n",
    "my_list = range(0,250)\n",
    "\n",
    "samp657 = np.random.choice(my_list, 657, replace = True)\n",
    "samp657"
   ]
  },
  {
   "cell_type": "code",
   "execution_count": 87,
   "metadata": {},
   "outputs": [
    {
     "name": "stdout",
     "output_type": "stream",
     "text": [
      "[510, 365, 382, 322, 988, 98, 742, 17, 595, 106]\n",
      "[510, 365, 382, 322, 988, 98, 742, 17, 595, 106]\n",
      "[510, 365, 382, 322, 988, 98, 742, 17, 595, 106]\n",
      "[510, 365, 382, 322, 988, 98, 742, 17, 595, 106]\n",
      "[510, 365, 382, 322, 988, 98, 742, 17, 595, 106]\n",
      "[510, 365, 382, 322, 988, 98, 742, 17, 595, 106]\n",
      "[510, 365, 382, 322, 988, 98, 742, 17, 595, 106]\n",
      "[510, 365, 382, 322, 988, 98, 742, 17, 595, 106]\n",
      "[510, 365, 382, 322, 988, 98, 742, 17, 595, 106]\n",
      "[510, 365, 382, 322, 988, 98, 742, 17, 595, 106]\n"
     ]
    }
   ],
   "source": [
    "for i in range(0,10):\n",
    "    np.random.seed(123)\n",
    "    print(list(np.random.choice(range(0,1000), 10, replace = True)))"
   ]
  },
  {
   "cell_type": "markdown",
   "metadata": {},
   "source": [
    "## Your Turn\n",
    "\n",
    "Choose 100 samples from `range(100, 1000)` without replacement.\n",
    "<img src=\"https://drive.google.com/uc?export=view&id=1ghyQPx1N8dmU3MV4TrANvqNhGwnLni72\" width = 200px />"
   ]
  },
  {
   "cell_type": "code",
   "execution_count": 88,
   "metadata": {},
   "outputs": [
    {
     "data": {
      "text/plain": [
       "array([223, 669, 314, 837, 196, 213, 738, 147, 173, 644, 324, 211, 509,\n",
       "       439, 946, 353, 520, 708, 308, 168, 917, 923, 551, 102, 440, 139,\n",
       "       422, 696, 659, 604, 276, 235, 973, 199, 480, 960, 280, 458, 965,\n",
       "       313, 730, 962, 511, 390, 688, 780, 999, 206, 937, 676, 943, 518,\n",
       "       926, 494, 890, 817, 246, 584, 371, 511, 865, 258, 280, 682, 465,\n",
       "       471, 254, 820, 490, 882, 355, 344, 459, 229, 655, 286, 457, 795,\n",
       "       637, 534, 924, 405, 880, 630, 565, 613, 151, 985, 845, 404, 156,\n",
       "       442, 615, 167, 239, 761, 573, 715, 589, 454])"
      ]
     },
     "execution_count": 88,
     "metadata": {},
     "output_type": "execute_result"
    }
   ],
   "source": [
    "###\n",
    "np.random.choice(range(100,1000), size = 100)"
   ]
  },
  {
   "cell_type": "markdown",
   "metadata": {},
   "source": [
    "Make a data frame with two columns, `x` and `y`. `x` should be created by randomly sampling 100 samples from a normal distribution with mean = 0, and sd = 1. `y` should be created by randomly sampling 100 samples from a normal distribution with mean = 12, sd = 20.\n",
    "<img src=\"https://drive.google.com/uc?export=view&id=1ghyQPx1N8dmU3MV4TrANvqNhGwnLni72\" width = 200px />"
   ]
  },
  {
   "cell_type": "code",
   "execution_count": 89,
   "metadata": {},
   "outputs": [
    {
     "data": {
      "text/html": [
       "<div>\n",
       "<style scoped>\n",
       "    .dataframe tbody tr th:only-of-type {\n",
       "        vertical-align: middle;\n",
       "    }\n",
       "\n",
       "    .dataframe tbody tr th {\n",
       "        vertical-align: top;\n",
       "    }\n",
       "\n",
       "    .dataframe thead th {\n",
       "        text-align: right;\n",
       "    }\n",
       "</style>\n",
       "<table border=\"1\" class=\"dataframe\">\n",
       "  <thead>\n",
       "    <tr style=\"text-align: right;\">\n",
       "      <th></th>\n",
       "      <th>x</th>\n",
       "      <th>y</th>\n",
       "    </tr>\n",
       "  </thead>\n",
       "  <tbody>\n",
       "    <tr>\n",
       "      <th>0</th>\n",
       "      <td>1.799889</td>\n",
       "      <td>6.256882</td>\n",
       "    </tr>\n",
       "    <tr>\n",
       "      <th>1</th>\n",
       "      <td>1.238366</td>\n",
       "      <td>-8.638000</td>\n",
       "    </tr>\n",
       "    <tr>\n",
       "      <th>2</th>\n",
       "      <td>0.913757</td>\n",
       "      <td>44.426469</td>\n",
       "    </tr>\n",
       "    <tr>\n",
       "      <th>3</th>\n",
       "      <td>0.466268</td>\n",
       "      <td>-27.449135</td>\n",
       "    </tr>\n",
       "    <tr>\n",
       "      <th>4</th>\n",
       "      <td>0.125040</td>\n",
       "      <td>7.186410</td>\n",
       "    </tr>\n",
       "  </tbody>\n",
       "</table>\n",
       "</div>"
      ],
      "text/plain": [
       "          x          y\n",
       "0  1.799889   6.256882\n",
       "1  1.238366  -8.638000\n",
       "2  0.913757  44.426469\n",
       "3  0.466268 -27.449135\n",
       "4  0.125040   7.186410"
      ]
     },
     "execution_count": 89,
     "metadata": {},
     "output_type": "execute_result"
    }
   ],
   "source": [
    "###\n",
    "x = np.random.normal(loc = 0, scale = 1, size = 100)\n",
    "y = np.random.normal(loc = 12, scale = 20, size = 100)\n",
    "\n",
    "df = pd.DataFrame({\"x\": x,\n",
    "                  \"y\": y})\n",
    "\n",
    "df.head()"
   ]
  }
 ],
 "metadata": {
  "hide_input": false,
  "kernelspec": {
   "display_name": "Python 3",
   "language": "python",
   "name": "python3"
  },
  "language_info": {
   "codemirror_mode": {
    "name": "ipython",
    "version": 3
   },
   "file_extension": ".py",
   "mimetype": "text/x-python",
   "name": "python",
   "nbconvert_exporter": "python",
   "pygments_lexer": "ipython3",
   "version": "3.8.1"
  },
  "toc": {
   "base_numbering": 1,
   "nav_menu": {},
   "number_sections": true,
   "sideBar": true,
   "skip_h1_title": false,
   "title_cell": "Table of Contents",
   "title_sidebar": "Contents",
   "toc_cell": false,
   "toc_position": {},
   "toc_section_display": true,
   "toc_window_display": false
  }
 },
 "nbformat": 4,
 "nbformat_minor": 4
}
