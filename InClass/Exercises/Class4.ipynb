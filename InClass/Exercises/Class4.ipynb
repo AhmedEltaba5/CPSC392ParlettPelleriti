{
 "cells": [
  {
   "cell_type": "code",
   "execution_count": null,
   "metadata": {},
   "outputs": [],
   "source": [
    "import warnings\n",
    "warnings.filterwarnings('ignore')\n"
   ]
  },
  {
   "cell_type": "markdown",
   "metadata": {},
   "source": [
    "1. Load the pandas library, and alias it so you can use `pd` instead of typing `pandas` each time you need to access the package.\n",
    "\n",
    "2. Load the iris and wine datasets. Store them in `iris` and `titanic` respectively.\n",
    "\n",
    "`iris_url = 'https://raw.githubusercontent.com/mwaskom/seaborn-data/master/iris.csv'\n",
    "titanic_url = 'https://raw.githubusercontent.com/mwaskom/seaborn-data/master/titanic.csv'\n",
    "print(\"done\")`\n",
    "\n",
    "3. Print the head (first 5 or 6 rows) of each data set.\n",
    "\n",
    "4. Store the sex column from the titanic dataset in the variable `four`. Print it.\n",
    "\n",
    "5. Store the 10th row from the iris dataset in the variable `five`. Print it.\n",
    "\n",
    "6. Grab the age of the 12th person in fthe titanic dataset and store it in the variable `six`. Print it.\n",
    "\n",
    "7. Store the mean age of titanic passengers in the variable `seven`, print it.\n"
   ]
  },
  {
   "cell_type": "code",
   "execution_count": null,
   "metadata": {},
   "outputs": [],
   "source": [
    "### YOUR CODE HERE ###"
   ]
  }
 ],
 "metadata": {
  "kernelspec": {
   "display_name": "Python 3",
   "language": "python",
   "name": "python3"
  },
  "language_info": {
   "codemirror_mode": {
    "name": "ipython",
    "version": 3
   },
   "file_extension": ".py",
   "mimetype": "text/x-python",
   "name": "python",
   "nbconvert_exporter": "python",
   "pygments_lexer": "ipython3",
   "version": "3.8.1"
  }
 },
 "nbformat": 4,
 "nbformat_minor": 4
}
