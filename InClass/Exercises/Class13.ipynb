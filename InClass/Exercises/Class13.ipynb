{
 "cells": [
  {
   "cell_type": "markdown",
   "metadata": {},
   "source": [
    "# Gini Impurity\n",
    "\n",
    "Use python and numpy to write a function, `gini()` that takes in 4 values `LNP`, `LNN`, `RNP`, `RNN` (LN = left node, RN = right node, P is for positive/1, N is for negative/0) and returns the gini impurity for that split.\n",
    "\n",
    "![node image](https://drive.google.com/uc?id=1MQEeJDxxcV8zmhzBgaDZ2QY0Ng8z8hz8)"
   ]
  },
  {
   "cell_type": "code",
   "execution_count": null,
   "metadata": {},
   "outputs": [],
   "source": [
    "import numpy as np\n",
    "\n",
    "\n",
    "#write function here---------------\n",
    "\n",
    "#----------------------------------\n",
    "# gini(LNP = 10, LNN = 5, RNP = 2, RNN = 12) should return approx 0.3481117"
   ]
  }
 ],
 "metadata": {
  "kernelspec": {
   "display_name": "Python 3",
   "language": "python",
   "name": "python3"
  },
  "language_info": {
   "codemirror_mode": {
    "name": "ipython",
    "version": 3
   },
   "file_extension": ".py",
   "mimetype": "text/x-python",
   "name": "python",
   "nbconvert_exporter": "python",
   "pygments_lexer": "ipython3",
   "version": "3.8.1"
  }
 },
 "nbformat": 4,
 "nbformat_minor": 4
}
