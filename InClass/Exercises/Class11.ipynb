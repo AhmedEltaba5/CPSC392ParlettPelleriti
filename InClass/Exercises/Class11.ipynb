{
 "cells": [
  {
   "cell_type": "code",
   "execution_count": 1,
   "metadata": {},
   "outputs": [],
   "source": [
    "import warnings\n",
    "warnings.filterwarnings('ignore')\n",
    "\n",
    "\n",
    "import pandas as pd\n",
    "import numpy as np\n",
    "from plotnine import *\n",
    "\n",
    "import statsmodels.api as sm\n",
    "\n",
    "\n",
    "from sklearn.linear_model import LogisticRegression # Logistic Regression Model\n",
    "from sklearn.linear_model import LinearRegression\n",
    "from sklearn.preprocessing import StandardScaler #Z-score variables\n",
    "from sklearn.metrics import accuracy_score, confusion_matrix\n",
    "from sklearn.metrics import r2_score, mean_squared_error\n",
    "\n",
    "from sklearn.model_selection import train_test_split # simple TT split cv\n",
    "from sklearn.model_selection import KFold # k-fold cv\n",
    "from sklearn.model_selection import LeaveOneOut #LOO cv\n",
    "from sklearn.model_selection import cross_val_score # cross validation metrics\n",
    "from sklearn.model_selection import cross_val_predict # cross validation metrics"
   ]
  },
  {
   "cell_type": "markdown",
   "metadata": {},
   "source": [
    "## 1. Interpreting Linear Regression\n",
    "\n",
    "Use the *kc_house_data.csv* (more info about the variables here: https://www.kaggle.com/harlfoxem/housesalesprediction) to build a linear regression model that looks at the price of houses in King County.\n",
    "\n",
    "* Which variables are you using as predictors? Why?\n",
    "* Standardize\n",
    "* What kind of cross validiation do you want to use here?"
   ]
  },
  {
   "cell_type": "markdown",
   "metadata": {},
   "source": [
    "## 2. Evaluating Linear Regression Model Performance\n",
    "\n",
    "How well did your model perform? How do you know?"
   ]
  },
  {
   "cell_type": "markdown",
   "metadata": {},
   "source": [
    "## 3. Interpreting Logistic Regression\n",
    "Using the *BreastCancer.csv* data, build a model that predicts whether the breast cancer biopsy is benign (B) or malignant (M). (more info about the data here: https://www.kaggle.com/uciml/breast-cancer-wisconsin-data)\n",
    "\n",
    "* Which variables are you using as predictors? Why?\n",
    "* Standardize\n",
    "* What kind of cross validiation do you want to use here?"
   ]
  },
  {
   "cell_type": "markdown",
   "metadata": {},
   "source": [
    "## 4. Evaluating Logistic Regression Model Performance\n",
    "How well did your model perform? How do you know?"
   ]
  },
  {
   "cell_type": "markdown",
   "metadata": {},
   "source": [
    "## 5. Data Visualization\n",
    "\n",
    "You (hopefully) found some cool stuff in your two models! Use plotnine/ggplot to create plots that help communicate the relationships/patterns you found."
   ]
  },
  {
   "cell_type": "markdown",
   "metadata": {},
   "source": [
    "## 6. Conceptual Questions to ask yourself\n",
    "\n",
    "1. Why do we need cross-validation?\n",
    "2. What things should you think about when choosing a model validation method?\n",
    "3. Why don't we initially include our test set when doing standardization (z-scoring)?\n",
    "4. How do we get from binary (0,1) to continuous (-inf,inf) outcomes when doing logistic regression? What are the steps?\n",
    "5. How do you interpret linear regression coefficients (intercept and predictor coefficients)?\n",
    "6. How do you interpret logistic regression coefficients (in log odds)?\n",
    "7. How do you interpret logistic regression coefficients (in odds)?\n",
    "8. What makes a good graph, good? A bad graph, bad?\n",
    "9. Why do we standardize continuous variables (there are 2 main reasons)?\n",
    "10. Looking at this graph, how would you describe the relationship between height and weight?\n",
    "[height weight graph](https://github.com/cmparlettpelleriti/CPSC392ParlettPelleriti/blob/master/InClass/Exercises/heightweight.png)"
   ]
  }
 ],
 "metadata": {
  "kernelspec": {
   "display_name": "Python 3",
   "language": "python",
   "name": "python3"
  },
  "language_info": {
   "codemirror_mode": {
    "name": "ipython",
    "version": 3
   },
   "file_extension": ".py",
   "mimetype": "text/x-python",
   "name": "python",
   "nbconvert_exporter": "python",
   "pygments_lexer": "ipython3",
   "version": "3.8.1"
  }
 },
 "nbformat": 4,
 "nbformat_minor": 4
}
