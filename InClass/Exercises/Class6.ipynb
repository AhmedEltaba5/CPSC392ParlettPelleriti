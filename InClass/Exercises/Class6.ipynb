{
 "cells": [
  {
   "cell_type": "code",
   "execution_count": null,
   "metadata": {},
   "outputs": [],
   "source": [
    "import warnings\n",
    "warnings.filterwarnings('ignore')"
   ]
  },
  {
   "cell_type": "markdown",
   "metadata": {},
   "source": [
    "1. import the necessary packages\n",
    "\n",
    "2. Use heart disease data set to build a BAD graph (`\"https://raw.githubusercontent.com/cmparlettpelleriti/CPSC392ParlettPelleriti/master/Data/heart.csv\"`).\n",
    "\n",
    "3. Use heart disease data set to answer the question of whether people with heart disease (people with heart disease have a value of `1` for the variable `target`) have higher cholesterol than people without heart disease. Think about the principles we talked about:\n",
    "\n",
    "    * which elements do NOT support your message? Take them out (you can google ggplot/plotnine syntax to figure out how to remove or change things like text, grids, axes, legends...etc)\n",
    "    * which elements DO support your message? How can you make these more noticeable/salient?\n",
    "    * Who is your audience? How can you make your graph more inclusive and accessible?"
   ]
  },
  {
   "cell_type": "code",
   "execution_count": 1,
   "metadata": {},
   "outputs": [],
   "source": [
    "### YOUR CODE HERE ###"
   ]
  }
 ],
 "metadata": {
  "kernelspec": {
   "display_name": "Python 3",
   "language": "python",
   "name": "python3"
  },
  "language_info": {
   "codemirror_mode": {
    "name": "ipython",
    "version": 3
   },
   "file_extension": ".py",
   "mimetype": "text/x-python",
   "name": "python",
   "nbconvert_exporter": "python",
   "pygments_lexer": "ipython3",
   "version": "3.8.1"
  }
 },
 "nbformat": 4,
 "nbformat_minor": 4
}
