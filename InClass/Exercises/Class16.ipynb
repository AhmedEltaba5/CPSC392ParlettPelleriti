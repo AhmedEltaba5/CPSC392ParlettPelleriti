{
 "cells": [
  {
   "cell_type": "markdown",
   "metadata": {},
   "source": [
    "The data from *buyDress.csv* represents data from an online retailer about one specific dress. The variables they collected are size (of buyer), age (over or under 40), and the customer's favorite color (R,G, or B). Use this to build a naive bayes model that predicts who bought the dress. Make sure you:\n",
    "\n",
    "1. Explore the data\n",
    "2. Change text columns into numeric using LabelEncoder\n",
    "3. Choose a method of model validation\n",
    "4. Build your model\n",
    "5. Evaluate your model"
   ]
  }
 ],
 "metadata": {
  "kernelspec": {
   "display_name": "Python 3",
   "language": "python",
   "name": "python3"
  },
  "language_info": {
   "codemirror_mode": {
    "name": "ipython",
    "version": 3
   },
   "file_extension": ".py",
   "mimetype": "text/x-python",
   "name": "python",
   "nbconvert_exporter": "python",
   "pygments_lexer": "ipython3",
   "version": "3.8.1"
  }
 },
 "nbformat": 4,
 "nbformat_minor": 4
}
