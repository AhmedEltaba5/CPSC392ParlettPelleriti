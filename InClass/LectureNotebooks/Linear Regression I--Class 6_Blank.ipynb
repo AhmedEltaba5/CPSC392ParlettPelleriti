{
 "cells": [
  {
   "cell_type": "code",
   "execution_count": null,
   "metadata": {},
   "outputs": [],
   "source": [
    "import warnings\n",
    "warnings.filterwarnings('ignore')\n",
    "\n",
    "\n",
    "import pandas as pd\n",
    "import numpy as np\n",
    "from plotnine import *\n",
    "import statsmodels.api as sm\n",
    "\n",
    "from sklearn.linear_model import LinearRegression # Linear Regression Model\n",
    "from sklearn.preprocessing import StandardScaler #Z-score variables\n",
    "from sklearn.metrics import mean_squared_error, r2_score #model evaluation\n",
    "\n",
    "%matplotlib inline"
   ]
  },
  {
   "cell_type": "markdown",
   "metadata": {},
   "source": [
    "# 1. GOAT"
   ]
  },
  {
   "cell_type": "code",
   "execution_count": null,
   "metadata": {},
   "outputs": [],
   "source": [
    "# DATA\n",
    "hw = pd.read_csv(\"https://raw.githubusercontent.com/cmparlettpelleriti/CPSC392ParlettPelleriti/master/Data/heightWeight.csv\")\n",
    "\n",
    "zScore = StandardScaler()"
   ]
  },
  {
   "cell_type": "code",
   "execution_count": null,
   "metadata": {},
   "outputs": [],
   "source": [
    " #only standardize variables that are numeric\n"
   ]
  },
  {
   "cell_type": "markdown",
   "metadata": {},
   "source": [
    "# Amazon Books (sklearn)"
   ]
  },
  {
   "cell_type": "code",
   "execution_count": null,
   "metadata": {},
   "outputs": [],
   "source": [
    "# Data\n",
    "ama = pd.read_csv(\"https://raw.githubusercontent.com/cmparlettpelleriti/CPSC392ParlettPelleriti/master/Data/amazon-books.txt\",\n",
    "                 sep = \"\\t\")"
   ]
  },
  {
   "cell_type": "code",
   "execution_count": null,
   "metadata": {},
   "outputs": [],
   "source": []
  },
  {
   "cell_type": "code",
   "execution_count": null,
   "metadata": {},
   "outputs": [],
   "source": []
  },
  {
   "cell_type": "code",
   "execution_count": null,
   "metadata": {},
   "outputs": [],
   "source": [
    "\n"
   ]
  },
  {
   "cell_type": "markdown",
   "metadata": {},
   "source": [
    "## Explore"
   ]
  },
  {
   "cell_type": "code",
   "execution_count": null,
   "metadata": {},
   "outputs": [],
   "source": []
  },
  {
   "cell_type": "code",
   "execution_count": null,
   "metadata": {},
   "outputs": [],
   "source": []
  },
  {
   "cell_type": "code",
   "execution_count": null,
   "metadata": {},
   "outputs": [],
   "source": []
  },
  {
   "cell_type": "code",
   "execution_count": null,
   "metadata": {},
   "outputs": [],
   "source": []
  },
  {
   "cell_type": "code",
   "execution_count": null,
   "metadata": {},
   "outputs": [],
   "source": []
  },
  {
   "cell_type": "code",
   "execution_count": null,
   "metadata": {},
   "outputs": [],
   "source": []
  },
  {
   "cell_type": "code",
   "execution_count": null,
   "metadata": {},
   "outputs": [],
   "source": []
  },
  {
   "cell_type": "markdown",
   "metadata": {},
   "source": [
    "## Model"
   ]
  },
  {
   "cell_type": "code",
   "execution_count": null,
   "metadata": {},
   "outputs": [],
   "source": [
    "predictors = [\"List Price\", \"NumPages\", \"Weight (oz)\", \"Thick\", \"Height\", \"Width\"]\n"
   ]
  },
  {
   "cell_type": "code",
   "execution_count": null,
   "metadata": {},
   "outputs": [],
   "source": []
  },
  {
   "cell_type": "code",
   "execution_count": null,
   "metadata": {},
   "outputs": [],
   "source": []
  },
  {
   "cell_type": "code",
   "execution_count": null,
   "metadata": {},
   "outputs": [],
   "source": []
  },
  {
   "cell_type": "markdown",
   "metadata": {},
   "source": [
    "### Model Evaluation"
   ]
  },
  {
   "cell_type": "code",
   "execution_count": null,
   "metadata": {},
   "outputs": [],
   "source": []
  },
  {
   "cell_type": "code",
   "execution_count": null,
   "metadata": {},
   "outputs": [],
   "source": []
  },
  {
   "cell_type": "code",
   "execution_count": null,
   "metadata": {},
   "outputs": [],
   "source": []
  },
  {
   "cell_type": "markdown",
   "metadata": {},
   "source": [
    "#### Assumption Checks\n",
    "\n",
    "First, a note about normality.\n",
    "\n",
    "https://www.statsmodels.org/stable/generated/statsmodels.graphics.gofplots.qqplot.html"
   ]
  },
  {
   "cell_type": "code",
   "execution_count": null,
   "metadata": {},
   "outputs": [],
   "source": [
    "# make residual plot\n",
    "\n",
    "# what are we looking for? Heteroskedasticity and linearity"
   ]
  },
  {
   "cell_type": "code",
   "execution_count": null,
   "metadata": {},
   "outputs": [],
   "source": [
    "# medium relationship but NONlinear\n",
    "x = np.random.uniform(low = -3, high = 3, size = 1000)\n",
    "y = -1*x**2 + np.random.normal(loc = 0, scale = 1, size = 1000)\n",
    "\n",
    "df = pd.DataFrame({\"x\": x,\n",
    "                  \"y\": y})\n",
    "\n",
    "(ggplot(df, aes(x = \"x\", y = \"y\")) + geom_point() + theme_bw() + geom_smooth(method = \"lm\", color = \"red\"))"
   ]
  },
  {
   "cell_type": "code",
   "execution_count": null,
   "metadata": {},
   "outputs": [],
   "source": [
    "# what do you think the residuals will look like?\n",
    "\n",
    "# create model\n",
    "LR = LinearRegression()\n",
    "\n",
    "# separate predictors and outcome\n",
    "X = np.array(df['x']).reshape(-1, 1) #we have to do this because there's only 1 predictor\n",
    "y = df['y']\n",
    "\n",
    "# fit model\n",
    "LR.fit(X,y)\n",
    "\n",
    "# grab fitted values\n",
    "predicted = LR.predict(X)\n",
    "\n",
    "# plot residual graph\n",
    "assump = pd.DataFrame({\"error\": predicted - y, \"predicted\": predicted})\n",
    "\n",
    "ggplot(assump, aes(x = \"predicted\", y = \"error\")) + geom_point() + theme_bw()\n"
   ]
  },
  {
   "cell_type": "code",
   "execution_count": null,
   "metadata": {},
   "outputs": [],
   "source": [
    "# strong relationship but NONlinear\n",
    "x = np.random.uniform(low = -3, high = 3, size = 1000)\n",
    "y = np.sin(x) + np.random.normal(loc = 0, scale = 0.2, size = 1000)\n",
    "\n",
    "df = pd.DataFrame({\"x\": x,\n",
    "                  \"y\": y})\n",
    "\n",
    "(ggplot(df, aes(x = \"x\", y = \"y\")) + geom_point() + theme_bw() + geom_smooth(method = \"lm\", color = \"red\"))"
   ]
  },
  {
   "cell_type": "code",
   "execution_count": null,
   "metadata": {},
   "outputs": [],
   "source": [
    "# what do you think the residuals will look like?\n",
    "\n",
    "# create model\n",
    "LR = LinearRegression()\n",
    "\n",
    "# separate predictors and outcome\n",
    "X = np.array(df['x']).reshape(-1, 1) #we have to do this because there's only 1 predictor\n",
    "y = df['y']\n",
    "\n",
    "# fit model\n",
    "LR.fit(X,y)\n",
    "\n",
    "# grab fitted values\n",
    "predicted = LR.predict(X)\n",
    "\n",
    "# plot residual graph\n",
    "assump = pd.DataFrame({\"error\": predicted - y, \"predicted\": predicted})\n",
    "\n",
    "ggplot(assump, aes(x = \"predicted\", y = \"error\")) + geom_point() + theme_bw()\n"
   ]
  },
  {
   "cell_type": "code",
   "execution_count": null,
   "metadata": {},
   "outputs": [],
   "source": [
    "# STRONG relationship, small data but linear\n",
    "x = np.random.normal(loc = 0, scale = 1, size = 300)\n",
    "y = x*5.4 + (np.random.normal(loc = 0, scale = 0.1+ 5*(x - min(x))))\n",
    "\n",
    "df = pd.DataFrame({\"x\": x,\n",
    "                  \"y\": y})\n",
    "\n",
    "(ggplot(df, aes(x = \"x\", y = \"y\")) + geom_point() + theme_bw() + geom_smooth(method = \"lm\", color = \"red\"))\n",
    "\n"
   ]
  },
  {
   "cell_type": "code",
   "execution_count": null,
   "metadata": {},
   "outputs": [],
   "source": [
    "# what do you think the residuals will look like?\n",
    "\n",
    "# create model\n",
    "LR = LinearRegression()\n",
    "\n",
    "# separate predictors and outcome\n",
    "X = np.array(df['x']).reshape(-1, 1) #we have to do this because there's only 1 predictor\n",
    "y = df['y']\n",
    "\n",
    "# fit model\n",
    "LR.fit(X,y)\n",
    "\n",
    "# grab fitted values\n",
    "predicted = LR.predict(X)\n",
    "\n",
    "# plot residual graph\n",
    "assump = pd.DataFrame({\"error\": predicted - y, \"predicted\": predicted})\n",
    "\n",
    "ggplot(assump, aes(x = \"predicted\", y = \"error\")) + geom_point() + theme_bw()\n"
   ]
  },
  {
   "cell_type": "code",
   "execution_count": null,
   "metadata": {},
   "outputs": [],
   "source": []
  },
  {
   "cell_type": "code",
   "execution_count": null,
   "metadata": {},
   "outputs": [],
   "source": []
  },
  {
   "cell_type": "markdown",
   "metadata": {},
   "source": [
    "### Predict"
   ]
  },
  {
   "cell_type": "code",
   "execution_count": null,
   "metadata": {},
   "outputs": [],
   "source": [
    "newBook = np.array([12.45,300,10,.8,8,5]).reshape(1,-1)\n"
   ]
  },
  {
   "cell_type": "code",
   "execution_count": null,
   "metadata": {},
   "outputs": [],
   "source": []
  },
  {
   "cell_type": "code",
   "execution_count": null,
   "metadata": {},
   "outputs": [],
   "source": []
  },
  {
   "cell_type": "markdown",
   "metadata": {},
   "source": [
    "# Bey (sklearn)"
   ]
  },
  {
   "cell_type": "code",
   "execution_count": null,
   "metadata": {},
   "outputs": [],
   "source": [
    "b = pd.read_csv(\"https://raw.githubusercontent.com/cmparlettpelleriti/CPSC392ParlettPelleriti/master/Data/Beyonce_data.csv\")\n",
    "b.head()"
   ]
  },
  {
   "cell_type": "code",
   "execution_count": null,
   "metadata": {},
   "outputs": [],
   "source": [
    "# Can we predict danceability?\n"
   ]
  },
  {
   "cell_type": "code",
   "execution_count": null,
   "metadata": {},
   "outputs": [],
   "source": [
    "predictors = [\"energy\", \"key\", \"loudness\", \"speechiness\",\n",
    "              \"acousticness\", \"instrumentalness\", \"liveness\", \"valence\"]"
   ]
  },
  {
   "cell_type": "code",
   "execution_count": null,
   "metadata": {},
   "outputs": [],
   "source": []
  },
  {
   "cell_type": "markdown",
   "metadata": {},
   "source": [
    "## Model"
   ]
  },
  {
   "cell_type": "code",
   "execution_count": null,
   "metadata": {},
   "outputs": [],
   "source": []
  },
  {
   "cell_type": "code",
   "execution_count": null,
   "metadata": {},
   "outputs": [],
   "source": []
  },
  {
   "cell_type": "code",
   "execution_count": null,
   "metadata": {},
   "outputs": [],
   "source": []
  },
  {
   "cell_type": "code",
   "execution_count": null,
   "metadata": {},
   "outputs": [],
   "source": []
  },
  {
   "cell_type": "code",
   "execution_count": null,
   "metadata": {},
   "outputs": [],
   "source": []
  },
  {
   "cell_type": "markdown",
   "metadata": {},
   "source": [
    "## Prediction"
   ]
  },
  {
   "cell_type": "code",
   "execution_count": null,
   "metadata": {},
   "outputs": [],
   "source": [
    "coefficients = pd.DataFrame({\"Coef\":BEY_mod.coef_,\n",
    "              \"Name\": predictors})\n",
    "coefficients = coefficients.append({\"Coef\": BEY_mod.intercept_,\n",
    "                    \"Name\": \"intercept\"}, ignore_index = True)\n",
    "\n",
    "coefficients\n",
    "#for reference: https://towardsdatascience.com/a-music-taste-analysis-using-spotify-api-and-python-e52d186db5fc"
   ]
  }
 ],
 "metadata": {
  "hide_input": false,
  "kernelspec": {
   "display_name": "Python 3",
   "language": "python",
   "name": "python3"
  },
  "language_info": {
   "codemirror_mode": {
    "name": "ipython",
    "version": 3
   },
   "file_extension": ".py",
   "mimetype": "text/x-python",
   "name": "python",
   "nbconvert_exporter": "python",
   "pygments_lexer": "ipython3",
   "version": "3.7.3"
  },
  "toc": {
   "base_numbering": 1,
   "nav_menu": {},
   "number_sections": true,
   "sideBar": true,
   "skip_h1_title": false,
   "title_cell": "Table of Contents",
   "title_sidebar": "Contents",
   "toc_cell": false,
   "toc_position": {},
   "toc_section_display": true,
   "toc_window_display": false
  }
 },
 "nbformat": 4,
 "nbformat_minor": 2
}
