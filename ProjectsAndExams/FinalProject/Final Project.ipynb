{
 "cells": [
  {
   "cell_type": "markdown",
   "metadata": {},
   "source": [
    "# Final Project (100 points)\n",
    "\n",
    "We've talked a lot about algorithms and data, but a HUGE part of data science is answering the right question. This project will focus on both the algorithms and the questions. \n",
    "\n",
    "## Part I\n",
    "1. Find a data set that's interesting to you. Make sure it has at least 5 variables and at least 100 rows. But the more the better. \n",
    "\n",
    "Some places to find data:\n",
    "\n",
    "    - data.gov\n",
    "    - kaggle.com/datasets\n",
    "    - your own data! (e.g. fitbit, data from a video game you play, etc...)\n",
    "    - https://data.fivethirtyeight.com/\n",
    "    - https://github.com/BuzzFeedNews\n",
    "    - http://archive.ics.uci.edu/ml/index.php\n",
    "    - https://www.quandl.com/search\n",
    "    - http://academictorrents.com/browse.php\n",
    "<br/>\n",
    "\n",
    "2. (**20 points**; Due Monday April 20th at 11:59pm) Pretend you're a company who is interested in the dataset you chose. Come up with at **least 7 questions** that you want to answer based on the variables (we'll narrow these down later. Try NOT to look at the data before you do so). These questions can be about the relationships between variables, or how well one thing can predict another...etc.\n",
    "<br/>\n",
    "\n",
    "3. (**20 points**; Due Wednesday April 29th at 11:59pm) Now put on your data scientist hat. Write an **analysis plan** to answer **3** of the questions you came up with. Think about which of the questions need a predictive model, which need a clustering model, which need dimensionality reduction, and which maybe need just visualizations/summaries. *At least 1 question must utilize a prediction model, at least 1 question must utilize a clustering model and at least 1 question must utilize dimensionality reduction (some of these can be in the same question)*. Write up this plan as if you're submitting it to a company to tell them what you're planning to do. For each question you need to:\n",
    "\n",
    "    - describe the analysis you're planning (include details like whether you're using standardization, regularization, model validation, and which variables you're using)\n",
    "    - explain why this analysis and the choices you described above are good (i.e. why did you choose it?)\n",
    "    - describe **two** data visualizations you'll use to support your answers. \n",
    "<br/>\n",
    "\n",
    "    \n",
    "4. (**10 points**; Due Wednesday May 6th at 11:59pm) Switch plans with another student/group and write a critique of their plan (~ 1 page). You should answer:\n",
    "\n",
    "    - what does this plan do well?\n",
    "    - what could be improved and why?\n",
    "    - what are some (perhaps unavoidable) limitations of the data/analysis plan?\n",
    "\n",
    "<br/> \n",
    "\n",
    "## Part II\n",
    "\n",
    "5. (**30 points**; Due Wednesday May 20th at 11:59pm) Perform the planned analyses, and make the graphs in a python notebook. Save that notebook as a PDF. You must clearly label each question and the analyses that apply to it.\n",
    "<br/>\n",
    "6. (**20 points**; Due Friday May 22nd at 11:59pm) Prepare a short presentation of the results (powerpoint, prezi, keynote...etc). Make a short (3-5 minute) video presentation explaining what you found. Upload it to youtube or similar site (you can put your video as Unlisted if you don't want anyone else to see)\n",
    "    - I recommend OBS Streamlabs if you want to record your screen (with the presentation/data) and yourself presenting at one time. Or get someone to film you presenting it on a screen (or if needed print our your slides and hold them up!). Or if you're on a Mac you can use QuickTime to record your screen while you present.\n",
    "\n",
    "\n",
    "## TL;DR\n",
    "To review, throughout the project you'll need to submit:\n",
    "\n",
    "1. the name/a link to the data set you're planning to use.\n",
    "2. A PDF with your 7 questions.\n",
    "3. A PDF with your analysis plan.\n",
    "4. A PDF with your critique of *another* students plan.\n",
    "5. A PDF of your python notebooks. Please get rid of extra analyses that you did not end up using.\n",
    "6. A link to a short video presentation. \n"
   ]
  },
  {
   "cell_type": "markdown",
   "metadata": {},
   "source": [
    "# Group Option\n",
    "\n",
    "If you'd like to work in a group (up to 3) then:\n",
    "\n",
    "1. You must tell me your group members by April 20th. \n",
    "2. For Part I, #2 You need to come up with 5 questions **per member** and submit a copy of the same PDF.\n",
    "3. For Part I, #3 You should come up with the plan together and all submit a copy of the same plan. You need to answer 3 questions **per member** (so a group of 2 would need to answer 6 questions, a group of 3 would need to answer 9). \n",
    "4. For Part I, #4 You should write the critique together and all submit a separate copy of it.\n",
    "5. For Part II, #5 You should work on it together (I suggest using Google Colab, it's like Google Docs for notebooks), and each submit a copy of the notebook. **You must *ALSO* submit a joined statement (as a PDF) describing what each member did. Each of you should submit a copy of this.**\n",
    "6. For Part II, #6 You each need to make your OWN video presenting on 3 of the questions each, however you can collaborate on the presentation materials (the slides..etc). Each of you should submit a separate video."
   ]
  },
  {
   "cell_type": "code",
   "execution_count": null,
   "metadata": {},
   "outputs": [],
   "source": []
  }
 ],
 "metadata": {
  "kernelspec": {
   "display_name": "Python 3",
   "language": "python",
   "name": "python3"
  },
  "language_info": {
   "codemirror_mode": {
    "name": "ipython",
    "version": 3
   },
   "file_extension": ".py",
   "mimetype": "text/x-python",
   "name": "python",
   "nbconvert_exporter": "python",
   "pygments_lexer": "ipython3",
   "version": "3.8.1"
  }
 },
 "nbformat": 4,
 "nbformat_minor": 4
}
