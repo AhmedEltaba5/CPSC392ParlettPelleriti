{
 "cells": [
  {
   "cell_type": "markdown",
   "metadata": {},
   "source": [
    "# Project 1"
   ]
  },
  {
   "cell_type": "markdown",
   "metadata": {},
   "source": [
    "Use the data *diabetes2.csv* for this project. More information about the dataset can be found here: https://www.kaggle.com/kandij/diabetes-dataset"
   ]
  },
  {
   "cell_type": "markdown",
   "metadata": {},
   "source": [
    "## Linear Regression\n",
    "\n",
    "Can you predict BMI based on other features in the dataset?\n",
    "\n",
    "1. Explore the Data\n",
    "2. Build your Model\n",
    "    - Build a Linear Regression Model using train_test_split() for your cross-validation\n",
    "    - Standardize your continuous predictors\n",
    "3. Evaluate your model\n",
    "    - How did your model do? What metrics do you use to support this?\n",
    "4. Interpret the coefficients to your model\n",
    "    - In the context of this problem, what do the coefficients represent?\n",
    "  \n"
   ]
  },
  {
   "cell_type": "code",
   "execution_count": 17,
   "metadata": {},
   "outputs": [],
   "source": [
    "# 1"
   ]
  },
  {
   "cell_type": "code",
   "execution_count": 18,
   "metadata": {},
   "outputs": [],
   "source": [
    "# 2"
   ]
  },
  {
   "cell_type": "code",
   "execution_count": 19,
   "metadata": {},
   "outputs": [],
   "source": [
    "# 3"
   ]
  },
  {
   "cell_type": "markdown",
   "metadata": {},
   "source": [
    "How did your model do? What metrics do you use to support this?\n",
    "<br/>\n",
    "<br/>\n",
    "ANSWER HERE\n",
    "<br/>"
   ]
  },
  {
   "cell_type": "code",
   "execution_count": 20,
   "metadata": {},
   "outputs": [],
   "source": [
    "# 4"
   ]
  },
  {
   "cell_type": "markdown",
   "metadata": {},
   "source": [
    "In the context of this problem, what do the coefficients represent?\n",
    "<br/>\n",
    "<br/>\n",
    "ANSWER HERE\n",
    "<br/>"
   ]
  },
  {
   "cell_type": "markdown",
   "metadata": {},
   "source": [
    "## Logistic Regression\n",
    "\n",
    "Can you predict Diabetes (Outcome) based on other features in the dataset?\n",
    "\n",
    "1. Explore the Data (if using different variables from Linear Regression)\n",
    "2. Build your Model\n",
    "    - Build a Logistic Regression Model using cross-validation\n",
    "       - What cross-val method did you choose, why?\n",
    "    - Standardize your continuous predictors\n",
    "3. Evaluate your model\n",
    "    - How did your model do? What metrics do you use to support this?\n",
    "  "
   ]
  },
  {
   "cell_type": "code",
   "execution_count": 21,
   "metadata": {},
   "outputs": [],
   "source": [
    "# 1"
   ]
  },
  {
   "cell_type": "code",
   "execution_count": 22,
   "metadata": {},
   "outputs": [],
   "source": [
    "# 2"
   ]
  },
  {
   "cell_type": "markdown",
   "metadata": {},
   "source": [
    "What cross-val method did you choose, why?\n",
    "<br/>\n",
    "<br/>\n",
    "ANSWER HERE\n",
    "<br/>"
   ]
  },
  {
   "cell_type": "code",
   "execution_count": 23,
   "metadata": {},
   "outputs": [],
   "source": [
    "# 3"
   ]
  },
  {
   "cell_type": "markdown",
   "metadata": {},
   "source": [
    "How did your model do? What metrics do you use to support this?"
   ]
  },
  {
   "cell_type": "markdown",
   "metadata": {},
   "source": [
    "## Data Viz\n",
    "\n",
    "Based on your new understanding of the data create 2 graphs using ggplot/plotnine. These should **not** be graphs you made in the Explore phase of either the Logistic or Linear Regression portion.\n",
    "\n",
    "Make sure you include at **least** 3 out of these 5 elements in your at least one of your graphs:\n",
    "\n",
    "1. Custom x-axis labels, y-axis labels and titles\n",
    "2. Fill and/or Color by a variable\n",
    "3. Use facet_wrap()\n",
    "4. Layer multiple geoms\n",
    "5. Change the theme of your graph (see: https://plotnine.readthedocs.io/en/stable/generated/plotnine.themes.theme.html)\n"
   ]
  },
  {
   "cell_type": "code",
   "execution_count": 24,
   "metadata": {},
   "outputs": [],
   "source": [
    "# 1"
   ]
  },
  {
   "cell_type": "code",
   "execution_count": 25,
   "metadata": {},
   "outputs": [],
   "source": [
    "# 2"
   ]
  }
 ],
 "metadata": {
  "kernelspec": {
   "display_name": "Python 3",
   "language": "python",
   "name": "python3"
  },
  "language_info": {
   "codemirror_mode": {
    "name": "ipython",
    "version": 3
   },
   "file_extension": ".py",
   "mimetype": "text/x-python",
   "name": "python",
   "nbconvert_exporter": "python",
   "pygments_lexer": "ipython3",
   "version": "3.8.1"
  }
 },
 "nbformat": 4,
 "nbformat_minor": 4
}
