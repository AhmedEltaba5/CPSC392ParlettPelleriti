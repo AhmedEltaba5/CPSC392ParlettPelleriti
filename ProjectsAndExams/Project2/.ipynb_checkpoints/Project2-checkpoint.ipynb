{
 "cells": [
  {
   "cell_type": "markdown",
   "metadata": {},
   "source": [
    "# Project 2\n",
    "\n",
    "**this is not a group project**\n",
    "\n",
    "This project will focus on comparing and contrasting the supervised and unsupervised algorithms we have learned so far. **Clearly label each section and number in the notebook**\n",
    "\n",
    "## Part I\n",
    "\n",
    "Use the dataset *burgersOrPizza.csv* to build 3 models that predict whether a food is a burger or pizza (you can use any of the predictive models we've learned).\n",
    "\n",
    "For each model:\n",
    "\n",
    "0. Explore data (with ggplot)\n",
    "1. Explain which variables you're using to predict the outcome. \n",
    "2. Explain which model validation technique you're using and why. \n",
    "3. Explain why you did or did not choose to standardize your continuous variables.\n",
    "4. Evaluate how the model performed. Explain.\n",
    "\n",
    "At the end:\n",
    "\n",
    "5. Compare the performance of the 3 models using the accuracy, and the confusion matrix (consider things like how many it got correct, which errors it was most likely to make...etc).\n",
    "\n",
    "\n",
    "## Part II\n",
    "\n",
    "Use the dataset ########## to build 2 cluster models (you can use any of the clustering models we've learned). \n",
    "\n",
    "For each model:\n",
    "\n",
    "0. Explore data (with ggplot)\n",
    "1. Explain which variables you're using to predict the outcome. \n",
    "2. Evaluate how the model performed using sihouette scores. Explain.\n",
    "\n",
    "At the end: \n",
    "\n",
    "3. Compare the clusters obtained by the two models. Overall are they similar? or really different (i.e. do they contain mostly the same members?)\n",
    "\n",
    "\n",
    "**Please get rid of extra analyses/superfluous code before turning it in**. Turn in A PDF on Blackboard.\n",
    "\n"
   ]
  },
  {
   "cell_type": "code",
   "execution_count": null,
   "metadata": {},
   "outputs": [],
   "source": []
  }
 ],
 "metadata": {
  "kernelspec": {
   "display_name": "Python 3",
   "language": "python",
   "name": "python3"
  },
  "language_info": {
   "codemirror_mode": {
    "name": "ipython",
    "version": 3
   },
   "file_extension": ".py",
   "mimetype": "text/x-python",
   "name": "python",
   "nbconvert_exporter": "python",
   "pygments_lexer": "ipython3",
   "version": "3.8.1"
  }
 },
 "nbformat": 4,
 "nbformat_minor": 4
}
