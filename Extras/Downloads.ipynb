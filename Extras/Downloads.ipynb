{
 "cells": [
  {
   "cell_type": "markdown",
   "metadata": {},
   "source": [
    "# Installations\n",
    "\n",
    "- [python](https://www.python.org/downloads/): Newest version is best, but as long as it's > 3.6 you should be fine\n",
    "    - check if it worked by opening Terminal (mac) or Command Prompt (PC) and typing in `python` or `python3` (if you have a mac, you may need to add a `3` after any python command).\n",
    "- pip: check that you have pip installed by typing `python -m pip --version`\n",
    "\n",
    "- sklearn: `pip install scikit-learn`\n",
    "\n",
    "- pandas: `pip install pandas`\n",
    "\n",
    "- numpy: `pip install numpy`\n",
    "\n",
    "- plotnine: `pip install plotnine`\n",
    "\n",
    "- keras: `pip install keras`\n",
    "\n",
    "- tensorflow: `pip install tensorflow`\n",
    "\n",
    "- jupyter labs: `pip install jupyterlab`"
   ]
  },
  {
   "cell_type": "code",
   "execution_count": null,
   "metadata": {},
   "outputs": [],
   "source": [
    "# Run this to see if everything is installed correctly\n",
    "import numpy as np\n",
    "import pandas as pd\n",
    "from sklearn.preprocessing import StandardScaler\n",
    "import tensorflow.keras as kb\n",
    "import tensorflow as tf\n",
    "from plotnine import *"
   ]
  }
 ],
 "metadata": {
  "hide_input": false,
  "kernelspec": {
   "display_name": "Python 3",
   "language": "python",
   "name": "python3"
  },
  "language_info": {
   "codemirror_mode": {
    "name": "ipython",
    "version": 3
   },
   "file_extension": ".py",
   "mimetype": "text/x-python",
   "name": "python",
   "nbconvert_exporter": "python",
   "pygments_lexer": "ipython3",
   "version": "3.8.1"
  },
  "toc": {
   "base_numbering": 1,
   "nav_menu": {},
   "number_sections": true,
   "sideBar": true,
   "skip_h1_title": false,
   "title_cell": "Table of Contents",
   "title_sidebar": "Contents",
   "toc_cell": false,
   "toc_position": {},
   "toc_section_display": true,
   "toc_window_display": false
  }
 },
 "nbformat": 4,
 "nbformat_minor": 4
}
