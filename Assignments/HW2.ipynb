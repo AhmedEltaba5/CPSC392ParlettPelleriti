{
 "cells": [
  {
   "cell_type": "markdown",
   "metadata": {},
   "source": [
    "# HW2\n",
    "Using the gpa data from the Data folder on GitHub (gpa.csv), build a predictive linear regression model using the sklearn package."
   ]
  },
  {
   "cell_type": "markdown",
   "metadata": {},
   "source": [
    "## 1\n",
    "Use plotnine to explore the data (what patterns do you see in the data? Are any of them surprising?)\n",
    "\n",
    "- GPA is the grade point average of a student\n",
    "- ParentsIncome is the income of the student's family\n",
    "- SAT.Math, SAT.Reading, and SAT.Writing are the student's SAT scores\n",
    "- PeanutAllergy is a binary variable indicating whether the student has (1) or does not have (0) a peanut allergy."
   ]
  },
  {
   "cell_type": "code",
   "execution_count": 14,
   "metadata": {},
   "outputs": [],
   "source": [
    "# Explore\n",
    "#---YOUR CODE HERE------------------------\n",
    "\n",
    "\n",
    "#---/YOUR CODE HERE-----------------------"
   ]
  },
  {
   "cell_type": "markdown",
   "metadata": {},
   "source": [
    "Describe patterns here:\n",
    "<br>\n",
    "YOUR ANSWER HERE\n",
    "<br>\n",
    "<br>\n",
    "<br>\n",
    "<br>"
   ]
  },
  {
   "cell_type": "markdown",
   "metadata": {},
   "source": [
    "## 2 \n",
    "Build a predictive linear regression model (using sklearn) that predicts GPA based on other variables. Why did you choose the predictor variables you did? Justify your answer. Make sure to standardize continuous variables."
   ]
  },
  {
   "cell_type": "code",
   "execution_count": 15,
   "metadata": {},
   "outputs": [],
   "source": [
    "# Model\n",
    "\n",
    "#---YOUR CODE HERE------------------------\n",
    "\n",
    "\n",
    "#---/YOUR CODE HERE-----------------------"
   ]
  },
  {
   "cell_type": "markdown",
   "metadata": {},
   "source": [
    "Justify your predictor variable selection here:\n",
    "<br>\n",
    "YOUR ANSWER HERE\n",
    "<br>\n",
    "<br>\n",
    "<br>\n",
    "<br>"
   ]
  },
  {
   "cell_type": "markdown",
   "metadata": {},
   "source": [
    "## 3\n",
    "Check how your model did using the r^2 score and the mean squared error. How do you think your model did? Why do you think that?"
   ]
  },
  {
   "cell_type": "code",
   "execution_count": 16,
   "metadata": {},
   "outputs": [],
   "source": [
    "# Model Performance\n",
    "#---YOUR CODE HERE------------------------\n",
    "\n",
    "\n",
    "#---/YOUR CODE HERE-----------------------"
   ]
  },
  {
   "cell_type": "markdown",
   "metadata": {},
   "source": [
    "Describe your model performance and interpret it:\n",
    "<br>\n",
    "YOUR ANSWER HERE\n",
    "<br>\n",
    "<br>\n",
    "<br>\n",
    "<br>\n"
   ]
  },
  {
   "cell_type": "markdown",
   "metadata": {},
   "source": [
    "## 4\n",
    "Interpret each coefficient from the model. What does each one mean in the context of this problem?"
   ]
  },
  {
   "cell_type": "code",
   "execution_count": 17,
   "metadata": {},
   "outputs": [],
   "source": [
    "# Coefficients\n",
    "#---YOUR CODE HERE------------------------\n",
    "\n",
    "\n",
    "#---/YOUR CODE HERE-----------------------"
   ]
  },
  {
   "cell_type": "markdown",
   "metadata": {},
   "source": [
    "Interpret your coefficients here:\n",
    "<br>\n",
    "YOUR ANSWER HERE\n",
    "<br>\n",
    "<br>\n",
    "<br>\n",
    "<br>"
   ]
  }
 ],
 "metadata": {
  "kernelspec": {
   "display_name": "Python 3",
   "language": "python",
   "name": "python3"
  },
  "language_info": {
   "codemirror_mode": {
    "name": "ipython",
    "version": 3
   },
   "file_extension": ".py",
   "mimetype": "text/x-python",
   "name": "python",
   "nbconvert_exporter": "python",
   "pygments_lexer": "ipython3",
   "version": "3.8.1"
  }
 },
 "nbformat": 4,
 "nbformat_minor": 4
}
