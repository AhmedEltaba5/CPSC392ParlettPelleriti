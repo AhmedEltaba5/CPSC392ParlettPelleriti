{
 "cells": [
  {
   "cell_type": "markdown",
   "metadata": {},
   "source": [
    "# HW1\n",
    "\n",
    "GENERAL INSTRUCTIONS:\n",
    "\n",
    "- For all ggplots, make sure you make changes so that the data viz is effective, clear, and does not contain distracting elements, graphs will be graded both on correctness (did you plot the right hting) as well as on effectiveness (does this graph demonstrate the principles we learned in our data viz lectures).\n",
    "- CLEARLY mark where you are answering each question.\n",
    "- Show all code necessary for the analysis, but remove superfluous code\n",
    "\n",
    "---\n",
    "## 1\n",
    "\n",
    "Using the dataset linked [here](https://raw.githubusercontent.com/cmparlettpelleriti/CPSC392ParlettPelleriti/master/Data/reactionTime.csv), build a linear regression model to predict *reaction time* based on all the other variables. \n",
    "\n",
    "<ul>\n",
    "<li> a) use an 80/20 train test split for model validation and make sure you z score your continuous variables   \n",
    "<li> b) check the linearity assumption for your continuous variables using ggplot. Discuss in detail what you are checking for and specifically what you see for this model.\n",
    "<li> c) check heteroskedasticity by plotting predicted reaction times/residuals using ggplot. Discuss in detail what you are checking for and what you see for this model.\n",
    "<li> d) plot the actual vs. predicted reaction times, as well as print out the mean absolute error and $R^2$ for your model for both <it>train</it> and <it>test</it>. How well did your model do based on these metrics, and how can you tell?\n",
    "<li> e) is your model overfit? How can you tell?\n",
    "<li> f) make a bar chart showing the coefficient values (x should be each coef name, the height of each bar should be the value of the coefficient).\n",
    "</ul> \n",
    "\n",
    "Feel free to add cells to this notebook in order to execute the code, but for parts b,c, and d, make sure you put the discussion part in a *Markdown* cell, do not use code comments to answer. "
   ]
  },
  {
   "cell_type": "code",
   "execution_count": 1,
   "metadata": {},
   "outputs": [],
   "source": [
    "# import necessary packages\n"
   ]
  },
  {
   "cell_type": "code",
   "execution_count": 2,
   "metadata": {},
   "outputs": [],
   "source": [
    "# code"
   ]
  },
  {
   "cell_type": "markdown",
   "metadata": {},
   "source": [
    "Markdown Answers\n",
    "\n",
    "(feel free to answer questions ALL in a single markdown cell, or in multiple markdown cells interspersed with the code. Just make sure to clearly mark where you're answering each question.)"
   ]
  }
 ],
 "metadata": {
  "hide_input": false,
  "kernelspec": {
   "display_name": "Python 3",
   "language": "python",
   "name": "python3"
  },
  "language_info": {
   "codemirror_mode": {
    "name": "ipython",
    "version": 3
   },
   "file_extension": ".py",
   "mimetype": "text/x-python",
   "name": "python",
   "nbconvert_exporter": "python",
   "pygments_lexer": "ipython3",
   "version": "3.8.1"
  },
  "toc": {
   "base_numbering": 1,
   "nav_menu": {},
   "number_sections": true,
   "sideBar": true,
   "skip_h1_title": false,
   "title_cell": "Table of Contents",
   "title_sidebar": "Contents",
   "toc_cell": false,
   "toc_position": {},
   "toc_section_display": true,
   "toc_window_display": false
  }
 },
 "nbformat": 4,
 "nbformat_minor": 4
}
