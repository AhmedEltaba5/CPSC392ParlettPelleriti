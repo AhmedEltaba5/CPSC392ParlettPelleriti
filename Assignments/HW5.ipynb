{
 "cells": [
  {
   "cell_type": "markdown",
   "metadata": {},
   "source": [
    "Using the *Pokemon.csv* Dataset, cluster pokemon using k-means, EM/Gaussian Mixture Models, and Hierarchical Clustering. Compare the performance of each method, and thouroughly describe the resultant clusters. Clearly label each section in your notebook.\n",
    "\n",
    "1. Explore your data.\n",
    "    - what patterns do you see?\n",
    "2. Create a K-means model\n",
    "    - which features did you use and why?\n",
    "    - did you standardize your variables? why or why not?\n",
    "    - which k works best? what metrics did you use to determine this?\n",
    "3. Create a Gaussian Mixture model\n",
    "    - which features did you use and why?\n",
    "    - did you standardize your variables? why or why not?\n",
    "    - which number of components works best? what metrics did you use to determine this?\n",
    "4. Create a Hierarchical model\n",
    "    - which features did you use and why?\n",
    "    - did you standardize your variables? why or why not?\n",
    "    - which number of clusters works best? what metrics did you use to determine this?\n",
    "5. Compare the results from each model\n",
    "    - Were the clusters created by each method similar?\n",
    "    - Describe the clusters from each method (in other words, are the mean values for features different between clusters? How would you describe each cluster to someone who hasn't seen the data before? e.g. \"This cluster is very fast, and has a low attack....etc\")\n",
    "6. Make at least 2 plots using ggplot PER METHOD that demonstrates the differences between your clusters."
   ]
  },
  {
   "cell_type": "code",
   "execution_count": 1,
   "metadata": {},
   "outputs": [],
   "source": [
    "# Name: Name of each pokemon\n",
    "\n",
    "# Type 1: Each pokemon has a type, this determines weakness/resistance to attacks\n",
    "\n",
    "# Type 2: Some pokemon are dual type and have 2\n",
    "\n",
    "# Total: sum of all stats that come after this, a general guide to how strong a pokemon is\n",
    "\n",
    "# HP: hit points, or health, defines how much damage a pokemon can withstand before fainting\n",
    "\n",
    "# Attack: the base modifier for normal attacks (eg. Scratch, Punch)\n",
    "\n",
    "# Defense: the base damage resistance against normal attacks\n",
    "\n",
    "# SP Atk: special attack, the base modifier for special attacks (e.g. fire blast, bubble beam)\n",
    "\n",
    "# SP Def: the base damage resistance against special attacks\n",
    "\n",
    "# Speed: determines which pokemon attacks first each round"
   ]
  },
  {
   "cell_type": "code",
   "execution_count": null,
   "metadata": {},
   "outputs": [],
   "source": []
  }
 ],
 "metadata": {
  "kernelspec": {
   "display_name": "Python 3",
   "language": "python",
   "name": "python3"
  },
  "language_info": {
   "codemirror_mode": {
    "name": "ipython",
    "version": 3
   },
   "file_extension": ".py",
   "mimetype": "text/x-python",
   "name": "python",
   "nbconvert_exporter": "python",
   "pygments_lexer": "ipython3",
   "version": "3.8.1"
  }
 },
 "nbformat": 4,
 "nbformat_minor": 4
}
