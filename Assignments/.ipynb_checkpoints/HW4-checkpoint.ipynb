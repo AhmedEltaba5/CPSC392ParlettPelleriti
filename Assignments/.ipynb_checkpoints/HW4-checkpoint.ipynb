{
 "cells": [
  {
   "cell_type": "markdown",
   "metadata": {},
   "source": [
    "# HW4\n",
    "\n",
    "\n",
    "## Part I\n",
    "\n",
    "Use the **PopDivas_data.csv** on GitHub to build a prediction model.\n",
    "\n",
    "1. Explore the Data\n",
    "    - What patterns/relationships do you notice?\n",
    "2. Choose/Build Your Model (*Decision Tree* OR *KNN*)\n",
    "    - Why did you choose this type of model?\n",
    "    - Which variables are you including in your model?\n",
    "    - Choose a model validation technique and explain why you chose it.\n",
    "    - Which variables did you standardize and Why?    \n",
    "3. Evaluate Your Model\n",
    "    - State how it did (and what evidence/metric do you have to support that?)\n",
    "\n",
    "    \n",
    "## Part II\n",
    "\n",
    "Use the **YouTubeKidsVideo.csv** on GitHub to build a Naive Bayes Classifier. This dataset looks at the titles/descriptions of YouTube videos that are (1) and are not (0) meant for kids. The variable KidsVideo is 1 if the video is meant for kids, and 0 if it is not. The other variables are 1 if that word (e.g. \"toy\", \"girl\"...etc) is in the title/description of the video, and 0 if it is not.\n",
    "\n",
    "1. Explore the Data\n",
    "    - What patterns/relationships do you notice?\n",
    "2. Build your model\n",
    "    - Which variables are you including in your model?\n",
    "    - Choose a model validation technique and explain why you chose it.\n",
    "3. Evaluate Your Model\n",
    "    - How did it do? What evidence/metric do you have to support that?"
   ]
  },
  {
   "cell_type": "markdown",
   "metadata": {},
   "source": [
    "# Part I"
   ]
  },
  {
   "cell_type": "code",
   "execution_count": null,
   "metadata": {},
   "outputs": [],
   "source": [
    "# 1\n",
    "# Code here"
   ]
  },
  {
   "cell_type": "markdown",
   "metadata": {},
   "source": [
    "Write your responses here"
   ]
  },
  {
   "cell_type": "code",
   "execution_count": null,
   "metadata": {},
   "outputs": [],
   "source": [
    "# 2\n",
    "# Code here"
   ]
  },
  {
   "cell_type": "markdown",
   "metadata": {},
   "source": [
    "Write your responses here"
   ]
  },
  {
   "cell_type": "code",
   "execution_count": null,
   "metadata": {},
   "outputs": [],
   "source": [
    "# 3\n",
    "# Code here"
   ]
  },
  {
   "cell_type": "markdown",
   "metadata": {},
   "source": [
    "Write your responses here"
   ]
  },
  {
   "cell_type": "markdown",
   "metadata": {},
   "source": [
    "# Part II"
   ]
  },
  {
   "cell_type": "code",
   "execution_count": null,
   "metadata": {},
   "outputs": [],
   "source": [
    "# 1\n",
    "# Code here"
   ]
  },
  {
   "cell_type": "markdown",
   "metadata": {},
   "source": [
    "Write your responses here"
   ]
  },
  {
   "cell_type": "code",
   "execution_count": null,
   "metadata": {},
   "outputs": [],
   "source": [
    "# 2 \n",
    "# Code here"
   ]
  },
  {
   "cell_type": "markdown",
   "metadata": {},
   "source": [
    "Write your responses here"
   ]
  },
  {
   "cell_type": "code",
   "execution_count": null,
   "metadata": {},
   "outputs": [],
   "source": [
    "# 3\n",
    "# Code here"
   ]
  },
  {
   "cell_type": "markdown",
   "metadata": {},
   "source": [
    "Write your responses here"
   ]
  }
 ],
 "metadata": {
  "kernelspec": {
   "display_name": "Python 3",
   "language": "python",
   "name": "python3"
  },
  "language_info": {
   "codemirror_mode": {
    "name": "ipython",
    "version": 3
   },
   "file_extension": ".py",
   "mimetype": "text/x-python",
   "name": "python",
   "nbconvert_exporter": "python",
   "pygments_lexer": "ipython3",
   "version": "3.8.1"
  }
 },
 "nbformat": 4,
 "nbformat_minor": 4
}
