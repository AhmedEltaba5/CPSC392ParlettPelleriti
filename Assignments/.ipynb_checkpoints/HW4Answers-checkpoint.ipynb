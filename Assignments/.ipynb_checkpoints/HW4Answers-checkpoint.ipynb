{
 "cells": [
  {
   "cell_type": "code",
   "execution_count": 1,
   "metadata": {
    "code_folding": [
     0
    ]
   },
   "outputs": [],
   "source": [
    "# import the necessary packages\n",
    "import warnings\n",
    "warnings.filterwarnings('ignore')\n",
    "\n",
    "\n",
    "import pandas as pd\n",
    "import numpy as np\n",
    "from plotnine import *\n",
    "\n",
    "\n",
    "from sklearn.tree import DecisionTreeClassifier # Decision Tree\n",
    "from sklearn.model_selection import train_test_split\n",
    "\n",
    "from sklearn import metrics \n",
    "from sklearn.preprocessing import StandardScaler #Z-score variables\n",
    "\n",
    "from sklearn.model_selection import train_test_split # simple TT split cv\n",
    "from sklearn.model_selection import KFold # k-fold cv\n",
    "from sklearn.model_selection import LeaveOneOut #LOO cv\n",
    "from sklearn.model_selection import cross_val_score # cross validation metrics\n",
    "from sklearn.model_selection import cross_val_predict # cross validation metrics\n",
    "from sklearn.metrics import accuracy_score, confusion_matrix\n",
    "from sklearn.metrics import plot_confusion_matrix"
   ]
  },
  {
   "cell_type": "markdown",
   "metadata": {},
   "source": [
    "# 1. The Ensemble\n",
    "A common theme in applied Machine Learning is *The Ensemble Method*. Ensemble methods use multiple machine learning models at once. The idea is that using ensembles improves predictive performance, because even though some of the models will sometimes be incorrect, it's unlikely that a MAJORITY of the models in our ensemble will all be incorrect in the exact same way each time. Therefore in aggregate, we will get a more accurate ensemble model.\n",
    "\n",
    "Each model predicts a category and \"votes\" about which category a data point should be in (ensemble methods also work for continuous outcomes, but here we'll focus on categorical ones). Models \"vote\" for whichever category it predicts for that data point. \n",
    "\n",
    "To combat overfitting and reduce potential *over-reliance* on a small number of features, we can use the two following techniques when creating models for our ensemble:\n",
    "\n",
    "* **Bagging (Bootstrap Aggregating)**: Instead of using all of the *rows* in our training data to train each model in our sample we use **bootstrapping** to choose which rows we will include when training.\n",
    "    * **Bootstrapping** is when you randomly sample data points *with replacement*, meaning that a row can be included in your bootstrapped sample *more* than once, OR not at all.\n",
    "* **Random Feature Selection**: Instead of using all the available features/predictors in our dataset for every model, for each model we randomly choose a different subset of features to use when training. This helps our ensemble generalize, because it doesn't become overly reliant on one feature (since that feature might not appear in every model).\n",
    "\n",
    "Because a predictor won't be in EVERY model in the ensemble, it prevents the ensemble from over-relying on that predictor, while still using it in SOME of the models.\n",
    "\n",
    "While ensemble methods take a lot of computational power (you're training MANY models instead of just one), in practice they're often really useful. An incredibly popular ensemble method is the **Random Forest** which is an ensemble method that uses a bunch of decision trees along with Bagging and Random Feature selection to generate the ensemble.\n",
    "\n",
    "To simplify: a Random Forest is a BUNCH of decision trees. Each decision tree uses a different, randomly selected group of rows/data points, and predictors/columns. Each tree gets a \"vote\" about which category a data point should be in. Whichever category gets the most votes, is the one chosen by our Random Forest.\n",
    "\n",
    "## 1.1 Building a Random Forest\n",
    "\n",
    "Let's build a tiny random forest function of our own! Write a function `Forest()` that takes in 6 arguments:\n",
    "\n",
    "* `n_samples` (**integer**): number of bootstrapped samples to use to train each decision tree.\n",
    "* `n_features` (**integer**): number of randomly selected features from your data set to use when training.\n",
    "* `n_trees` (**integer**): how many decision trees to create for the ensemble.\n",
    "* `max_d` (**integer**): the max_depth for all of your trees.\n",
    "* `X` (**data frame**): the *already* z-scored predictor data to be used.\n",
    "* `y` (**data frame**): the outcome data to be used (`X` and `y` are the same length, and the $i^{th}$ element of `X` corresponds to the $i^{th}$ element of `y`)\n",
    "\n",
    "The function should:\n",
    "\n",
    "1. use a for loop to create `n_trees` models and store them in a list called `forest` (yes! You can store fitted decision trees in a list!)\n",
    "2. For each model you should choose use bootstrapping to sample `n_samples` data points to train each model. Remember that boostrapping means sampling WITH replacement (hint: try using [`np.random.choice`](https://numpy.org/doc/stable/reference/random/generated/numpy.random.choice.html) to randomly select (*with replacement*) which row numbers/indices to use.\n",
    "3. For each model, randomly select `n_features` to use to train your model. (hint: try using [`np.random.choice`](https://numpy.org/doc/stable/reference/random/generated/numpy.random.choice.html) to randomly select (*withOUT replacement*) which predictor indices to use.\n",
    "4. For all models, make sure you set the `max_depth`.\n",
    "5. For each model, train the model (no need to use model validation, and assume X is already z-scored).\n",
    "6. Return a list (`forest`) of dictonaries that look like this (where `tree` is your trained model and `samples_index` is an array of indices for the features/predictors you selected):\n",
    " ```{\"tree\": tree, \"feats\": samples_index}```"
   ]
  },
  {
   "cell_type": "code",
   "execution_count": 2,
   "metadata": {},
   "outputs": [
    {
     "data": {
      "text/html": [
       "<div>\n",
       "<style scoped>\n",
       "    .dataframe tbody tr th:only-of-type {\n",
       "        vertical-align: middle;\n",
       "    }\n",
       "\n",
       "    .dataframe tbody tr th {\n",
       "        vertical-align: top;\n",
       "    }\n",
       "\n",
       "    .dataframe thead th {\n",
       "        text-align: right;\n",
       "    }\n",
       "</style>\n",
       "<table border=\"1\" class=\"dataframe\">\n",
       "  <thead>\n",
       "    <tr style=\"text-align: right;\">\n",
       "      <th></th>\n",
       "      <th>name</th>\n",
       "      <th>age</th>\n",
       "    </tr>\n",
       "  </thead>\n",
       "  <tbody>\n",
       "    <tr>\n",
       "      <th>14</th>\n",
       "      <td>Jasper</td>\n",
       "      <td>26</td>\n",
       "    </tr>\n",
       "    <tr>\n",
       "      <th>19</th>\n",
       "      <td>Luke</td>\n",
       "      <td>19</td>\n",
       "    </tr>\n",
       "    <tr>\n",
       "      <th>7</th>\n",
       "      <td>Susan</td>\n",
       "      <td>24</td>\n",
       "    </tr>\n",
       "    <tr>\n",
       "      <th>28</th>\n",
       "      <td>Lisa</td>\n",
       "      <td>20</td>\n",
       "    </tr>\n",
       "    <tr>\n",
       "      <th>10</th>\n",
       "      <td>Kayne</td>\n",
       "      <td>25</td>\n",
       "    </tr>\n",
       "    <tr>\n",
       "      <th>11</th>\n",
       "      <td>Lydia</td>\n",
       "      <td>17</td>\n",
       "    </tr>\n",
       "    <tr>\n",
       "      <th>14</th>\n",
       "      <td>Jasper</td>\n",
       "      <td>26</td>\n",
       "    </tr>\n",
       "    <tr>\n",
       "      <th>28</th>\n",
       "      <td>Lisa</td>\n",
       "      <td>20</td>\n",
       "    </tr>\n",
       "    <tr>\n",
       "      <th>17</th>\n",
       "      <td>John</td>\n",
       "      <td>17</td>\n",
       "    </tr>\n",
       "    <tr>\n",
       "      <th>23</th>\n",
       "      <td>Anthony</td>\n",
       "      <td>17</td>\n",
       "    </tr>\n",
       "    <tr>\n",
       "      <th>13</th>\n",
       "      <td>Jane</td>\n",
       "      <td>17</td>\n",
       "    </tr>\n",
       "    <tr>\n",
       "      <th>20</th>\n",
       "      <td>Leia</td>\n",
       "      <td>23</td>\n",
       "    </tr>\n",
       "    <tr>\n",
       "      <th>0</th>\n",
       "      <td>Alex</td>\n",
       "      <td>20</td>\n",
       "    </tr>\n",
       "    <tr>\n",
       "      <th>12</th>\n",
       "      <td>Peter</td>\n",
       "      <td>22</td>\n",
       "    </tr>\n",
       "    <tr>\n",
       "      <th>5</th>\n",
       "      <td>Greg</td>\n",
       "      <td>26</td>\n",
       "    </tr>\n",
       "  </tbody>\n",
       "</table>\n",
       "</div>"
      ],
      "text/plain": [
       "       name  age\n",
       "14   Jasper   26\n",
       "19     Luke   19\n",
       "7     Susan   24\n",
       "28     Lisa   20\n",
       "10    Kayne   25\n",
       "11    Lydia   17\n",
       "14   Jasper   26\n",
       "28     Lisa   20\n",
       "17     John   17\n",
       "23  Anthony   17\n",
       "13     Jane   17\n",
       "20     Leia   23\n",
       "0      Alex   20\n",
       "12    Peter   22\n",
       "5      Greg   26"
      ]
     },
     "execution_count": 2,
     "metadata": {},
     "output_type": "execute_result"
    }
   ],
   "source": [
    "# HINT: I'll Just Leave this hint here...\n",
    "\n",
    "## simple bootstrapping example of names dataframe \n",
    "np.random.seed(1234)\n",
    "\n",
    "names = [\"Alex\", \"Charlie\", \"Addison\", \"James\", \"Blake\", \"Greg\", \"Daniel\", \"Susan\", \"Erik\", \"Georgia\", \"Kayne\",\n",
    "         \"Lydia\", \"Peter\", \"Jane\", \"Jasper\", \"Link\", \"Rhett\", \"John\", \"Miranda\", \"Luke\", \"Leia\", \"Janet\", \"Jung\",\n",
    "         \"Anthony\", \"Mark\", \"Torrence\", \"Bonnie\", \"Rudy\", \"Lisa\", \"Bart\", \"Tina\", \"Marie\"]\n",
    "\n",
    "names_df = pd.DataFrame({\"name\": names, \"age\": np.random.randint(17,27, len(names))})\n",
    "names_df\n",
    "\n",
    "names_index = np.random.choice(range(0,len(names)), 15, replace = True)\n",
    "names_boot = names_df.iloc[names_index]\n",
    "\n",
    "# notice how Lisa shows up more than once?\n",
    "\n",
    "names_boot"
   ]
  },
  {
   "cell_type": "code",
   "execution_count": 3,
   "metadata": {},
   "outputs": [],
   "source": [
    "def Forest(X, y, n_samples = 1000, n_features = 5, n_trees = 100, max_depth = 5):\n",
    "    forest = []\n",
    "    \n",
    "    # create models\n",
    "    for i in range(0,n_trees):\n",
    "        \n",
    "        # randomly bootstrap datapoints\n",
    "        samples_index = np.random.choice(range(0,X.shape[0]), n_samples, replace = True)\n",
    "        \n",
    "        # randomly choose features\n",
    "        if n_features >= X.shape[1]: #if they ask for more features than you have...\n",
    "            features_index = range(0,X.shape[1])\n",
    "        else:\n",
    "            features_index = np.random.choice(range(0,X.shape[1]), n_features, replace = False)\n",
    "        \n",
    "        # select only the rows and features that were randomly selected above\n",
    "        X_bagged = X.iloc[samples_index, features_index]\n",
    "        y_bagged = y.iloc[samples_index]\n",
    "        \n",
    "        tree = DecisionTreeClassifier(max_depth = max_depth)\n",
    "        tree.fit(X_bagged,y_bagged)\n",
    "        \n",
    "        # add tree to forest\n",
    "        forest.append({\"tree\": tree, \"feats\": features_index})\n",
    "    return(forest)       "
   ]
  },
  {
   "cell_type": "markdown",
   "metadata": {},
   "source": [
    "## 1.2 Use `Forest()`\n",
    "Using `X_cols_df` and `y_df` (data generated at the top of the notebook) as your training set, call `Forest()` to build an ensemble model."
   ]
  },
  {
   "cell_type": "code",
   "execution_count": 4,
   "metadata": {},
   "outputs": [
    {
     "data": {
      "text/html": [
       "<div>\n",
       "<style scoped>\n",
       "    .dataframe tbody tr th:only-of-type {\n",
       "        vertical-align: middle;\n",
       "    }\n",
       "\n",
       "    .dataframe tbody tr th {\n",
       "        vertical-align: top;\n",
       "    }\n",
       "\n",
       "    .dataframe thead th {\n",
       "        text-align: right;\n",
       "    }\n",
       "</style>\n",
       "<table border=\"1\" class=\"dataframe\">\n",
       "  <thead>\n",
       "    <tr style=\"text-align: right;\">\n",
       "      <th></th>\n",
       "      <th>X0</th>\n",
       "      <th>X1</th>\n",
       "      <th>X2</th>\n",
       "      <th>X3</th>\n",
       "      <th>X4</th>\n",
       "      <th>X5</th>\n",
       "      <th>X6</th>\n",
       "      <th>X7</th>\n",
       "      <th>X8</th>\n",
       "      <th>X9</th>\n",
       "      <th>...</th>\n",
       "      <th>X240</th>\n",
       "      <th>X241</th>\n",
       "      <th>X242</th>\n",
       "      <th>X243</th>\n",
       "      <th>X244</th>\n",
       "      <th>X245</th>\n",
       "      <th>X246</th>\n",
       "      <th>X247</th>\n",
       "      <th>X248</th>\n",
       "      <th>X249</th>\n",
       "    </tr>\n",
       "  </thead>\n",
       "  <tbody>\n",
       "    <tr>\n",
       "      <th>0</th>\n",
       "      <td>-0.272837</td>\n",
       "      <td>0.206200</td>\n",
       "      <td>1.641906</td>\n",
       "      <td>2.011086</td>\n",
       "      <td>-0.873472</td>\n",
       "      <td>0.497003</td>\n",
       "      <td>0.462470</td>\n",
       "      <td>1.775982</td>\n",
       "      <td>0.091421</td>\n",
       "      <td>-0.654229</td>\n",
       "      <td>...</td>\n",
       "      <td>0.326900</td>\n",
       "      <td>-1.081661</td>\n",
       "      <td>-2.761833</td>\n",
       "      <td>-0.227940</td>\n",
       "      <td>-0.202936</td>\n",
       "      <td>0.175920</td>\n",
       "      <td>1.145533</td>\n",
       "      <td>0.517384</td>\n",
       "      <td>-0.629482</td>\n",
       "      <td>0.951622</td>\n",
       "    </tr>\n",
       "    <tr>\n",
       "      <th>1</th>\n",
       "      <td>0.704831</td>\n",
       "      <td>-1.817195</td>\n",
       "      <td>-1.337849</td>\n",
       "      <td>2.006721</td>\n",
       "      <td>-0.622258</td>\n",
       "      <td>-0.784856</td>\n",
       "      <td>-2.096367</td>\n",
       "      <td>-0.280310</td>\n",
       "      <td>1.125115</td>\n",
       "      <td>-1.648478</td>\n",
       "      <td>...</td>\n",
       "      <td>1.319550</td>\n",
       "      <td>-1.597311</td>\n",
       "      <td>-0.079034</td>\n",
       "      <td>-0.147779</td>\n",
       "      <td>1.182280</td>\n",
       "      <td>1.768567</td>\n",
       "      <td>2.920293</td>\n",
       "      <td>-0.724872</td>\n",
       "      <td>0.147568</td>\n",
       "      <td>-1.026752</td>\n",
       "    </tr>\n",
       "    <tr>\n",
       "      <th>2</th>\n",
       "      <td>-1.361056</td>\n",
       "      <td>2.894286</td>\n",
       "      <td>0.944402</td>\n",
       "      <td>-1.415230</td>\n",
       "      <td>0.453117</td>\n",
       "      <td>2.260426</td>\n",
       "      <td>0.390655</td>\n",
       "      <td>0.025920</td>\n",
       "      <td>0.325527</td>\n",
       "      <td>-0.779292</td>\n",
       "      <td>...</td>\n",
       "      <td>-0.316042</td>\n",
       "      <td>0.325779</td>\n",
       "      <td>0.477544</td>\n",
       "      <td>-1.253684</td>\n",
       "      <td>-0.126424</td>\n",
       "      <td>0.496384</td>\n",
       "      <td>0.585087</td>\n",
       "      <td>1.208882</td>\n",
       "      <td>0.906346</td>\n",
       "      <td>-0.846152</td>\n",
       "    </tr>\n",
       "    <tr>\n",
       "      <th>3</th>\n",
       "      <td>-0.099394</td>\n",
       "      <td>-0.069847</td>\n",
       "      <td>1.039601</td>\n",
       "      <td>2.537628</td>\n",
       "      <td>0.238186</td>\n",
       "      <td>-0.239785</td>\n",
       "      <td>-1.532541</td>\n",
       "      <td>0.611437</td>\n",
       "      <td>1.207815</td>\n",
       "      <td>-0.779757</td>\n",
       "      <td>...</td>\n",
       "      <td>1.766062</td>\n",
       "      <td>-0.564589</td>\n",
       "      <td>1.057444</td>\n",
       "      <td>-0.881056</td>\n",
       "      <td>-1.476124</td>\n",
       "      <td>-0.496656</td>\n",
       "      <td>-0.952391</td>\n",
       "      <td>0.358682</td>\n",
       "      <td>0.449233</td>\n",
       "      <td>-0.307559</td>\n",
       "    </tr>\n",
       "    <tr>\n",
       "      <th>4</th>\n",
       "      <td>-0.507454</td>\n",
       "      <td>1.337364</td>\n",
       "      <td>0.937558</td>\n",
       "      <td>1.366908</td>\n",
       "      <td>0.105800</td>\n",
       "      <td>1.792870</td>\n",
       "      <td>-1.048294</td>\n",
       "      <td>-0.527191</td>\n",
       "      <td>-0.267588</td>\n",
       "      <td>0.798682</td>\n",
       "      <td>...</td>\n",
       "      <td>-0.547537</td>\n",
       "      <td>-0.173542</td>\n",
       "      <td>0.502203</td>\n",
       "      <td>-0.576244</td>\n",
       "      <td>0.784273</td>\n",
       "      <td>-1.769254</td>\n",
       "      <td>-0.265143</td>\n",
       "      <td>1.636512</td>\n",
       "      <td>-0.946507</td>\n",
       "      <td>-0.131387</td>\n",
       "    </tr>\n",
       "  </tbody>\n",
       "</table>\n",
       "<p>5 rows × 250 columns</p>\n",
       "</div>"
      ],
      "text/plain": [
       "         X0        X1        X2        X3        X4        X5        X6  \\\n",
       "0 -0.272837  0.206200  1.641906  2.011086 -0.873472  0.497003  0.462470   \n",
       "1  0.704831 -1.817195 -1.337849  2.006721 -0.622258 -0.784856 -2.096367   \n",
       "2 -1.361056  2.894286  0.944402 -1.415230  0.453117  2.260426  0.390655   \n",
       "3 -0.099394 -0.069847  1.039601  2.537628  0.238186 -0.239785 -1.532541   \n",
       "4 -0.507454  1.337364  0.937558  1.366908  0.105800  1.792870 -1.048294   \n",
       "\n",
       "         X7        X8        X9  ...      X240      X241      X242      X243  \\\n",
       "0  1.775982  0.091421 -0.654229  ...  0.326900 -1.081661 -2.761833 -0.227940   \n",
       "1 -0.280310  1.125115 -1.648478  ...  1.319550 -1.597311 -0.079034 -0.147779   \n",
       "2  0.025920  0.325527 -0.779292  ... -0.316042  0.325779  0.477544 -1.253684   \n",
       "3  0.611437  1.207815 -0.779757  ...  1.766062 -0.564589  1.057444 -0.881056   \n",
       "4 -0.527191 -0.267588  0.798682  ... -0.547537 -0.173542  0.502203 -0.576244   \n",
       "\n",
       "       X244      X245      X246      X247      X248      X249  \n",
       "0 -0.202936  0.175920  1.145533  0.517384 -0.629482  0.951622  \n",
       "1  1.182280  1.768567  2.920293 -0.724872  0.147568 -1.026752  \n",
       "2 -0.126424  0.496384  0.585087  1.208882  0.906346 -0.846152  \n",
       "3 -1.476124 -0.496656 -0.952391  0.358682  0.449233 -0.307559  \n",
       "4  0.784273 -1.769254 -0.265143  1.636512 -0.946507 -0.131387  \n",
       "\n",
       "[5 rows x 250 columns]"
      ]
     },
     "execution_count": 4,
     "metadata": {},
     "output_type": "execute_result"
    }
   ],
   "source": [
    "X_cols_df = pd.read_csv(\"https://raw.githubusercontent.com/cmparlettpelleriti/CPSC392ParlettPelleriti/master/Data/X_cols_df.csv\")\n",
    "y_df = pd.read_csv(\"https://raw.githubusercontent.com/cmparlettpelleriti/CPSC392ParlettPelleriti/master/Data/y_df.csv\")\n",
    "X_cols_df.head()"
   ]
  },
  {
   "cell_type": "code",
   "execution_count": 5,
   "metadata": {},
   "outputs": [
    {
     "data": {
      "text/html": [
       "<div>\n",
       "<style scoped>\n",
       "    .dataframe tbody tr th:only-of-type {\n",
       "        vertical-align: middle;\n",
       "    }\n",
       "\n",
       "    .dataframe tbody tr th {\n",
       "        vertical-align: top;\n",
       "    }\n",
       "\n",
       "    .dataframe thead th {\n",
       "        text-align: right;\n",
       "    }\n",
       "</style>\n",
       "<table border=\"1\" class=\"dataframe\">\n",
       "  <thead>\n",
       "    <tr style=\"text-align: right;\">\n",
       "      <th></th>\n",
       "      <th>0</th>\n",
       "    </tr>\n",
       "  </thead>\n",
       "  <tbody>\n",
       "    <tr>\n",
       "      <th>0</th>\n",
       "      <td>a</td>\n",
       "    </tr>\n",
       "    <tr>\n",
       "      <th>1</th>\n",
       "      <td>a</td>\n",
       "    </tr>\n",
       "    <tr>\n",
       "      <th>2</th>\n",
       "      <td>a</td>\n",
       "    </tr>\n",
       "    <tr>\n",
       "      <th>3</th>\n",
       "      <td>a</td>\n",
       "    </tr>\n",
       "    <tr>\n",
       "      <th>4</th>\n",
       "      <td>a</td>\n",
       "    </tr>\n",
       "  </tbody>\n",
       "</table>\n",
       "</div>"
      ],
      "text/plain": [
       "   0\n",
       "0  a\n",
       "1  a\n",
       "2  a\n",
       "3  a\n",
       "4  a"
      ]
     },
     "execution_count": 5,
     "metadata": {},
     "output_type": "execute_result"
    }
   ],
   "source": [
    "y_df.head()"
   ]
  },
  {
   "cell_type": "code",
   "execution_count": 6,
   "metadata": {},
   "outputs": [],
   "source": [
    "### YOUR CODE HERE ###\n",
    "\n",
    "my_forest = Forest(X_cols_df, y_df,n_features = 5, n_trees = 100, max_depth = 5) ### call Forest and create an ensemble.\n",
    "\n",
    "### /YOUR CODE HERE ###"
   ]
  },
  {
   "cell_type": "markdown",
   "metadata": {},
   "source": [
    "## 1.3 Comparing Ensemble to an Individual Model\n",
    "\n",
    "- Use the `ForestPredictor()` function below (which takes in the ensemble created by `Forest()` and data) to generate predictions for `X_cols_df2`, our *test* set.\n",
    "- Use the `ForestPredictor()` function below (which takes in the ensemble created by `Forest()` and data) to generate predictions for `X_cols_df`, our *train* set.\n",
    "- calculate the accuracies (train/test) of your ensemble.\n",
    "- calculate the accuracies (train/test) for ONE of your ensemble models by using `oneModel = my_forest[0]` to grab the first model of your ensemble. \n",
    "\n",
    "### 1.3.1\n",
    "In this example, does an ensemble method do *better* (in terms of train accuracy) than an individual decision tree? Explain how you figured this out.\n",
    "\n",
    "<img src=\"https://drive.google.com/uc?export=view&id=1ghyQPx1N8dmU3MV4TrANvqNhGwnLni72\" width = 200px />"
   ]
  },
  {
   "cell_type": "markdown",
   "metadata": {},
   "source": [
    "Answer"
   ]
  },
  {
   "cell_type": "markdown",
   "metadata": {},
   "source": [
    "### 1.3.2\n",
    "In this example, does an ensemble method do *better* (in terms of test accuracy) than an individual decision tree? Use `X_cols_df2` and `y_df2` as the test set.\n",
    "\n",
    "<img src=\"https://drive.google.com/uc?export=view&id=1ghyQPx1N8dmU3MV4TrANvqNhGwnLni72\" width = 200px />"
   ]
  },
  {
   "cell_type": "markdown",
   "metadata": {},
   "source": [
    "Answer"
   ]
  },
  {
   "cell_type": "code",
   "execution_count": 7,
   "metadata": {},
   "outputs": [],
   "source": [
    "def ForestPredictor(forest, X):\n",
    "\n",
    "    # takes in a list of dictionaries like below but longer, and returns predictons for them, similar to .predict()\n",
    "    # [\n",
    "    #     {\"trees\":DecisionTreeClassifier(ccp_alpha=0.0, class_weight=None, criterion='gini',\n",
    "    #      max_depth=5, max_features=None, max_leaf_nodes=None,\n",
    "    #      min_impurity_decrease=0.0, min_impurity_split=None,\n",
    "    #      min_samples_leaf=1, min_samples_split=2,\n",
    "    #      min_weight_fraction_leaf=0.0, presort='deprecated',\n",
    "    #      random_state=None, splitter='best'),\n",
    "    #     \"feats\": array([ 63, 101,  39, 133, 137])},\n",
    "\n",
    "    #  {\"trees\":DecisionTreeClassifier(ccp_alpha=0.0, class_weight=None, criterion='gini',\n",
    "    #      max_depth=5, max_features=None, max_leaf_nodes=None,\n",
    "    #      min_impurity_decrease=0.0, min_impurity_split=None,\n",
    "    #      min_samples_leaf=1, min_samples_split=2,\n",
    "    #      min_weight_fraction_leaf=0.0, presort='deprecated',\n",
    "    #      random_state=None, splitter='best'),\n",
    "    #     \"feats\": array([ 63, 101,  39, 133, 137])}\n",
    "    # ]\n",
    "    import operator\n",
    "    from collections import Counter\n",
    "\n",
    "    ps = []\n",
    "\n",
    "    # get predictions from each model\n",
    "    for model in forest:\n",
    "        tree = model[\"tree\"]\n",
    "        X_sub = X.iloc[:, model[\"feats\"]]\n",
    "\n",
    "        p = tree.predict(X_sub)\n",
    "        ps.append(p)\n",
    "\n",
    "    ps = pd.DataFrame(ps)\n",
    "    \n",
    "    # get ensemble prediction for each data point\n",
    "    predictions = []\n",
    "    \n",
    "    for column_ind in range(0, ps.shape[1]):\n",
    "        ensemble_predict = ps.iloc[:,column_ind]\n",
    "        predictions.append(ensemble_predict.mode()[0])\n",
    "\n",
    "    return(predictions)"
   ]
  },
  {
   "cell_type": "code",
   "execution_count": 8,
   "metadata": {},
   "outputs": [
    {
     "name": "stdout",
     "output_type": "stream",
     "text": [
      "Test Acc (Ensemble) is:  0.815\n",
      "Test Acc (OneModel) is:  0.32\n"
     ]
    }
   ],
   "source": [
    "X_cols_df2 = pd.read_csv(\"https://raw.githubusercontent.com/cmparlettpelleriti/CPSC392ParlettPelleriti/master/Data/X_cols_df2.csv\")\n",
    "y_df2 = pd.read_csv(\"https://raw.githubusercontent.com/cmparlettpelleriti/CPSC392ParlettPelleriti/master/Data/y_df2.csv\")\n",
    "\n",
    "oneModel = my_forest[0][\"tree\"] #first model from our ensemble\n",
    "oneModel_feats = my_forest[0][\"feats\"]\n",
    "\n",
    "### YOUR CODE HERE ###\n",
    "# ForestPredict() will take your ensemble and use it to find the predicted values for X_cols_df2\n",
    "\n",
    "ensemble_predictions1 = ForestPredictor(my_forest, X_cols_df2) ### Call ForestPredictor using my_forest and X_cols_df2 (the test set)\n",
    "oneModel_predict1 = oneModel.predict(X_cols_df2.iloc[:,oneModel_feats]) ### get predictions for X_cols_df2 (the test set) from oneModel (the first model in our ensemble)\n",
    "\n",
    "acc_e1 = accuracy_score(y_df2,ensemble_predictions1) ### test accuracy for ensemble\n",
    "acc_o1 = accuracy_score(y_df2,oneModel_predict1) ### test accuracy for one model\n",
    "\n",
    "print(\"Test Acc (Ensemble) is: \", acc_e1)\n",
    "print(\"Test Acc (OneModel) is: \", acc_o1)\n",
    "\n",
    "### /YOUR CODE HERE ###"
   ]
  },
  {
   "cell_type": "code",
   "execution_count": 10,
   "metadata": {},
   "outputs": [
    {
     "name": "stdout",
     "output_type": "stream",
     "text": [
      "Train Acc (Ensemble) is:  0.973125\n",
      "Train Acc (OneModel) is:  0.37\n"
     ]
    }
   ],
   "source": [
    "### YOUR CODE HERE ###\n",
    "\n",
    "ensemble_predictions2 = ForestPredictor(my_forest, X_cols_df) ### Call ForestPredictor using my_forest and X_cols_df (the training set)\n",
    "oneModel_predict2 = oneModel.predict(X_cols_df.iloc[:,oneModel_feats])### get predictions for X_cols_df (the training set) from oneModel (the first model in our ensemble)\n",
    "\n",
    "acc_e2 = accuracy_score(y_df,ensemble_predictions2)### train accuracy for ensemble\n",
    "acc_o2 = accuracy_score(y_df,oneModel_predict2)### train accuracy for one model\n",
    "\n",
    "print(\"Train Acc (Ensemble) is: \", acc_e2)\n",
    "print(\"Train Acc (OneModel) is: \", acc_o2)\n",
    "\n",
    "### /YOUR CODE HERE ###"
   ]
  },
  {
   "cell_type": "markdown",
   "metadata": {},
   "source": [
    "## 1.4 Comparing Ensemble to an Individual ModelS\n",
    "\n",
    "- put the accuracy from your ENSEMBLE model in the code below\n",
    "- run the cell to see a histogram of the individual tree accuracies, and the (dashed line) ensemble accuracy.\n",
    "\n",
    "### 1.4.1\n",
    "Write down your thoughts about this graph. What patterns do you see between individual tree accuracies and ensemble accuracies?\n",
    "\n",
    "<img src=\"https://drive.google.com/uc?export=view&id=1ghyQPx1N8dmU3MV4TrANvqNhGwnLni72\" width = 200px />"
   ]
  },
  {
   "cell_type": "markdown",
   "metadata": {},
   "source": [
    "Answer"
   ]
  },
  {
   "cell_type": "code",
   "execution_count": 11,
   "metadata": {},
   "outputs": [
    {
     "data": {
      "image/png": "[encoded data removed]",
      "text/plain": [
       "<Figure size 640x480 with 1 Axes>"
      ]
     },
     "metadata": {
      "needs_background": "light"
     },
     "output_type": "display_data"
    },
    {
     "data": {
      "text/plain": [
       "<ggplot: (8788182928059)>"
      ]
     },
     "execution_count": 11,
     "metadata": {},
     "output_type": "execute_result"
    }
   ],
   "source": [
    "### YOUR CODE HERE ###\n",
    "\n",
    "ensemble_acc = 0.775 ### put your ensemble accuracy here!\n",
    "\n",
    "### /YOUR CODE HERE ###\n",
    "\n",
    "allAcc = [accuracy_score(y_df2,my_forest[mod][\"tree\"].predict(X_cols_df2.iloc[:,my_forest[mod][\"feats\"]])) for mod in range(0,len(my_forest))]\n",
    "\n",
    "df = pd.DataFrame({\"acc\": allAcc, \"no\": range(0,len(my_forest))})\n",
    "(ggplot(df, aes(x = \"acc\")) +\n",
    " geom_histogram(color = \"black\", fill = \"lightblue\", binwidth = 0.025) +\n",
    " xlim([0,1]) + theme_minimal() + geom_vline(xintercept = ensemble_acc, linetype = \"dashed\", size = 3))\n"
   ]
  },
  {
   "cell_type": "markdown",
   "metadata": {},
   "source": [
    "### 1.4.2\n",
    "How does the difference between individual tree accuracies and ensemble accuracies change when you change the number of predictors used in each tree?\n",
    "<img src=\"https://drive.google.com/uc?export=view&id=1ghyQPx1N8dmU3MV4TrANvqNhGwnLni72\" width = 200px />"
   ]
  },
  {
   "cell_type": "markdown",
   "metadata": {},
   "source": [
    "Answer"
   ]
  },
  {
   "cell_type": "code",
   "execution_count": 12,
   "metadata": {},
   "outputs": [
    {
     "data": {
      "image/png": "[encoded data removed]",
      "text/plain": [
       "<Figure size 640x480 with 1 Axes>"
      ]
     },
     "metadata": {
      "needs_background": "light"
     },
     "output_type": "display_data"
    },
    {
     "data": {
      "text/plain": [
       "<ggplot: (8788187856375)>"
      ]
     },
     "execution_count": 12,
     "metadata": {},
     "output_type": "execute_result"
    }
   ],
   "source": [
    "### YOUR CODE HERE ###\n",
    "n_feat = 249\n",
    "### /YOUR CODE HERE ###\n",
    "\n",
    "\n",
    "my_forest2 = Forest(X_cols_df, y_df, n_features = n_feat)\n",
    "\n",
    "ensemble_acc2 = accuracy_score(y_df2, ForestPredictor(my_forest2, X_cols_df2))\n",
    "\n",
    "\n",
    "allAcc2 = [accuracy_score(y_df2,my_forest2[mod][\"tree\"].predict(X_cols_df2.iloc[:,my_forest2[mod][\"feats\"]])) for mod in range(0,len(my_forest2))]\n",
    "\n",
    "df = pd.DataFrame({\"acc\": allAcc2, \"no\": range(0,len(my_forest2))})\n",
    "(ggplot(df, aes(x = \"acc\")) +\n",
    " geom_histogram(color = \"black\", fill = \"lightblue\", binwidth = 0.025) +\n",
    " xlim([0,1]) + theme_minimal() + geom_vline(xintercept = ensemble_acc2, linetype = \"dashed\", size = 3))\n"
   ]
  },
  {
   "cell_type": "code",
   "execution_count": 13,
   "metadata": {},
   "outputs": [
    {
     "data": {
      "image/png": "[encoded data removed]",
      "text/plain": [
       "<Figure size 640x480 with 1 Axes>"
      ]
     },
     "metadata": {
      "needs_background": "light"
     },
     "output_type": "display_data"
    },
    {
     "data": {
      "text/plain": [
       "<ggplot: (8788187923026)>"
      ]
     },
     "execution_count": 13,
     "metadata": {},
     "output_type": "execute_result"
    }
   ],
   "source": [
    "### YOUR CODE HERE ###\n",
    "n_feat = 2\n",
    "### /YOUR CODE HERE ###\n",
    "\n",
    "\n",
    "my_forest3 = Forest(X_cols_df, y_df, n_features = n_feat)\n",
    "\n",
    "ensemble_acc3 = accuracy_score(y_df2, ForestPredictor(my_forest3, X_cols_df2))\n",
    "\n",
    "allAcc2 = [accuracy_score(y_df2,my_forest3[mod][\"tree\"].predict(X_cols_df2.iloc[:,my_forest3[mod][\"feats\"]])) for mod in range(0,len(my_forest3))]\n",
    "\n",
    "df = pd.DataFrame({\"acc\": allAcc2, \"no\": range(0,len(my_forest3))})\n",
    "(ggplot(df, aes(x = \"acc\")) +\n",
    " geom_histogram(color = \"black\", fill = \"lightblue\", binwidth = 0.025) +\n",
    " xlim([0,1]) + theme_minimal() + geom_vline(xintercept = ensemble_acc3, linetype = \"dashed\", size = 3))\n"
   ]
  },
  {
   "cell_type": "markdown",
   "metadata": {},
   "source": [
    "## GRADING\n",
    "\n",
    "You'll be graded on the accuracy of your code, as well as the answers to the questions."
   ]
  },
  {
   "cell_type": "markdown",
   "metadata": {},
   "source": [
    "## Optional Extra Credit:\n",
    "\n",
    "What do you think are some pros and cons of ensemble methods?"
   ]
  },
  {
   "cell_type": "markdown",
   "metadata": {},
   "source": [
    "Answer"
   ]
  }
 ],
 "metadata": {
  "hide_input": false,
  "kernelspec": {
   "display_name": "Python 3",
   "language": "python",
   "name": "python3"
  },
  "language_info": {
   "codemirror_mode": {
    "name": "ipython",
    "version": 3
   },
   "file_extension": ".py",
   "mimetype": "text/x-python",
   "name": "python",
   "nbconvert_exporter": "python",
   "pygments_lexer": "ipython3",
   "version": "3.8.1"
  },
  "toc": {
   "base_numbering": 1,
   "nav_menu": {},
   "number_sections": true,
   "sideBar": true,
   "skip_h1_title": false,
   "title_cell": "Table of Contents",
   "title_sidebar": "Contents",
   "toc_cell": false,
   "toc_position": {},
   "toc_section_display": true,
   "toc_window_display": false
  }
 },
 "nbformat": 4,
 "nbformat_minor": 4
}
