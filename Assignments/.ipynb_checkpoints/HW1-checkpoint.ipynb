{
 "cells": [
  {
   "cell_type": "code",
   "execution_count": 2,
   "metadata": {},
   "outputs": [],
   "source": [
    "# import the necessary packages"
   ]
  },
  {
   "cell_type": "markdown",
   "metadata": {},
   "source": [
    "1. (4 pts) Using the Palmer Penguin data (`\"https://raw.githubusercontent.com/cmparlettpelleriti/CPSC392ParlettPelleriti/master/Data/penguins.csv\"`), make a plot that looks at whether the correlation between **body mass and flipper length** is the same between male and female penguins. Start with a default graph and change one thing (or one \"class\" of things, like getting rid of all gridlines) at a time showing EACH GRAPH AT EACH STEP, similar to how I did in the Class 6 lecture video. Again, make sure you're thinking about these concepts:\n",
    "    * what visual elements can I get rid of because they distract from my message?\n",
    "    * what visual elements can I add to support my message?\n",
    "    * how can I make this visualizations more accessible?\n",
    "2. (3 pts) In words (after each step from 1, add a Markdown cell and write justification), explain your thought process for each step.\n",
    "3. (3 pts) Recreate the graph cereal.png (in the Assignmnets folder on GH) using the cereal data set (`\"https://raw.githubusercontent.com/cmparlettpelleriti/CPSC392ParlettPelleriti/master/Data/cereal.csv\"`).\n"
   ]
  },
  {
   "cell_type": "code",
   "execution_count": 3,
   "metadata": {},
   "outputs": [],
   "source": [
    "### YOUR CODE HERE ###"
   ]
  }
 ],
 "metadata": {
  "kernelspec": {
   "display_name": "Python 3",
   "language": "python",
   "name": "python3"
  },
  "language_info": {
   "codemirror_mode": {
    "name": "ipython",
    "version": 3
   },
   "file_extension": ".py",
   "mimetype": "text/x-python",
   "name": "python",
   "nbconvert_exporter": "python",
   "pygments_lexer": "ipython3",
   "version": "3.8.1"
  }
 },
 "nbformat": 4,
 "nbformat_minor": 4
}
