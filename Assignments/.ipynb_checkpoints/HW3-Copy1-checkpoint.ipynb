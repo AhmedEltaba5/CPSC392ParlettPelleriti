{
 "cells": [
  {
   "cell_type": "code",
   "execution_count": 1,
   "metadata": {},
   "outputs": [],
   "source": [
    "# import the necessary packages\n",
    "import warnings\n",
    "warnings.filterwarnings('ignore')\n",
    "\n",
    "\n",
    "import pandas as pd\n",
    "import numpy as np\n",
    "from plotnine import *\n",
    "\n",
    "from sklearn.linear_model import LogisticRegression # Logistic Regression Model\n",
    "from sklearn.preprocessing import StandardScaler #Z-score variables\n",
    "from sklearn.metrics import accuracy_score, confusion_matrix, plot_confusion_matrix\n",
    "\n",
    "from sklearn.model_selection import train_test_split # simple TT split cv\n",
    "from sklearn.model_selection import KFold # k-fold cv\n",
    "from sklearn.model_selection import LeaveOneOut #LOO cv\n",
    "from sklearn.model_selection import cross_val_score # cross validation metrics\n",
    "from sklearn.model_selection import cross_val_predict # cross validation metrics\n",
    "\n",
    "\n",
    "%matplotlib inline"
   ]
  },
  {
   "cell_type": "markdown",
   "metadata": {},
   "source": [
    "## 1. Building a Logistic Regression Model\n",
    "\n",
    "Using the grad admissions [data](https://raw.githubusercontent.com/cmparlettpelleriti/CPSC392ParlettPelleriti/master/Data/GradAdmissions.csv), build a logistic regression model that predicts `Admission` (whether or not a student was admitted) based on ALL the other variables in the data set (EXCEPT `Serial No`, information on the variables can be found [here](https://www.kaggle.com/mohansacharya/graduate-admissions#Admission_Predict_Ver1.1.csv), note that I've added the `Admissions` column to our dataset.)\n",
    "\n",
    "### 1.1\n",
    "Z-score your continuous variables\n",
    "### 1.2\n",
    "Use Train Test Split to validate your model\n",
    "### 1.3\n",
    "Put your coefficients in a data frame and for EACH predictor variable, interpret the coefficient in terms of Log Odds\n",
    "### 1.4\n",
    "Add a row to your coefficients data frame and add the coefficients in terms of Odds. For EACH predictor variable, interpret the coefficient in terms of Odds\n",
    "### 1.5\n",
    "(MARKDOWN) How well did your model do? Which metrics did you use to support your assessment?"
   ]
  },
  {
   "cell_type": "markdown",
   "metadata": {},
   "source": [
    "    \n",
    "## 2. Exploring Logistic Regression Coefficients\n",
    "\n",
    "### 2.1\n",
    "\n",
    "Using the coefficients from grad admissions model, manually (using code but not any built-in sklearn functions) calculate the predicted *log odds* of admission for the two students with the following (already z-scored) values:\n",
    "\n",
    "(hint: if you're confused about how to do this, click [here](https://github.com/cmparlettpelleriti/CPSC392ParlettPelleriti/blob/master/Extras/Hint_HW3.ipynb) for a hint)\n",
    "\n",
    "|           | GRE Score | TOEFL Score | University Rating | SOP  | LOR  | CGPA | Research |\n",
    "|-----------|-----------|-------------|-------------------|------|------|------|----------|\n",
    "| Student 1 | 0.60      | 0.05        | 0.75              | 0.65 | 1.02 | 0.25 | 1        |\n",
    "| Student 2 | 1.60      | 0.05        | 0.75              | 0.65 | 1.02 | 0.25 | 1        |\n",
    "\n",
    "Note that the only difference between Student 1 and Student 2 is a *1 unit (standard deviation) increase in GRE score*. \n",
    "\n",
    "* 2.1.1 (MARKDOWN) What is the difference (Student 2 - Student 1) in the log odds of the two students? (does that number look familiar?)\n",
    "\n",
    "Now calculate the predicted *odds* of admission for the two students.\n",
    "\n",
    "* 2.1.2 (MARKDOWN) What is the ratio (Student 2/Student 1) in the log odds of the two students? (does that number look familiar?)\n",
    "\n",
    "Now calculate the predicted *probability* of admission for the two students.\n",
    "\n",
    "### 2.2\n",
    "The following students are from the same data set. Similarly to Students 1&2, the *only difference between Student 3&4 is a 1 unit (standard deviation) increase in GRE score*. To reiterate: the difference between Student 1 and Student 2 is *the same* as the difference between Student 3 and Student 4, but Students 1&2 have different values for the other variables than Students 3&4 do.\n",
    "\n",
    "|           | GRE Score | TOEFL Score | University Rating | SOP  | LOR  | CGPA | Research |\n",
    "|-----------|-----------|-------------|-------------------|------|------|------|----------|\n",
    "| Student 3 | -1.25     | 0.24        | 0                 | 0.56 | -1   | -0.1 | 0        |\n",
    "| Student 4 | -0.25     | 0.24        | 0                 | 0.56 | -1   | -0.1 | 0        |\n",
    "\n",
    "Calculate the *log odds* of admission for the two students.\n",
    "\n",
    "* 2.2.1 (MARKDOWN) What is the difference (Student 4 - Student 3) in the log odds of the two students? (does that number look familiar?)\n",
    "\n",
    "Now calculate the predicted *odds* of admission for the two students.\n",
    "\n",
    "* 2.2.2 (MARKDOWN) What is the ratio (Student 4/Student 3) in the log odds of the two students? (does that number look familiar?)\n",
    "\n",
    "Now calculate the predicted *probability* of admission for the two students.\n",
    "\n",
    "### 2.3\n",
    "\n",
    "* 2.3.1 (MARKDOWN) Is the difference in log odds the same for the two pairs (1&2 and 3&4) of students?\n",
    "* 2.3.2 (MARKDOWN) Is the ratio of  odds the same for the two pairs (1&2 and 3&4) of students?\n",
    "* 2.3.3 (MARKDOWN) Is the difference in probability OR the ratio of probabilities the same for the two pairs (1/2 and 3/4) of students? \n",
    "* 2.3.4 (MARKDOWN) Using the information you learned in lectures and classwork, explain *why* the differences/ratios may be constant for some of these measures(log odds, odds, probabilities...) but not others."
   ]
  },
  {
   "cell_type": "code",
   "execution_count": 3,
   "metadata": {},
   "outputs": [
    {
     "data": {
      "text/plain": [
       "Index(['Serial No.', 'GRE Score', 'TOEFL Score', 'University Rating', 'SOP',\n",
       "       'LOR ', 'CGPA', 'Research', 'Admitted'],\n",
       "      dtype='object')"
      ]
     },
     "execution_count": 3,
     "metadata": {},
     "output_type": "execute_result"
    }
   ],
   "source": [
    "d.columns"
   ]
  },
  {
   "cell_type": "code",
   "execution_count": 7,
   "metadata": {},
   "outputs": [
    {
     "data": {
      "text/html": [
       "<div>\n",
       "<style scoped>\n",
       "    .dataframe tbody tr th:only-of-type {\n",
       "        vertical-align: middle;\n",
       "    }\n",
       "\n",
       "    .dataframe tbody tr th {\n",
       "        vertical-align: top;\n",
       "    }\n",
       "\n",
       "    .dataframe thead th {\n",
       "        text-align: right;\n",
       "    }\n",
       "</style>\n",
       "<table border=\"1\" class=\"dataframe\">\n",
       "  <thead>\n",
       "    <tr style=\"text-align: right;\">\n",
       "      <th></th>\n",
       "      <th>Coefs</th>\n",
       "      <th>Names</th>\n",
       "    </tr>\n",
       "  </thead>\n",
       "  <tbody>\n",
       "    <tr>\n",
       "      <th>0</th>\n",
       "      <td>0.577337</td>\n",
       "      <td>GRE Score</td>\n",
       "    </tr>\n",
       "    <tr>\n",
       "      <th>1</th>\n",
       "      <td>0.513078</td>\n",
       "      <td>TOEFL Score</td>\n",
       "    </tr>\n",
       "    <tr>\n",
       "      <th>2</th>\n",
       "      <td>-0.273198</td>\n",
       "      <td>University Rating</td>\n",
       "    </tr>\n",
       "    <tr>\n",
       "      <th>3</th>\n",
       "      <td>0.389323</td>\n",
       "      <td>SOP</td>\n",
       "    </tr>\n",
       "    <tr>\n",
       "      <th>4</th>\n",
       "      <td>0.439770</td>\n",
       "      <td>LOR</td>\n",
       "    </tr>\n",
       "    <tr>\n",
       "      <th>5</th>\n",
       "      <td>1.467234</td>\n",
       "      <td>CGPA</td>\n",
       "    </tr>\n",
       "    <tr>\n",
       "      <th>6</th>\n",
       "      <td>0.543061</td>\n",
       "      <td>Research</td>\n",
       "    </tr>\n",
       "    <tr>\n",
       "      <th>7</th>\n",
       "      <td>1.733991</td>\n",
       "      <td>intercept</td>\n",
       "    </tr>\n",
       "  </tbody>\n",
       "</table>\n",
       "</div>"
      ],
      "text/plain": [
       "      Coefs              Names\n",
       "0  0.577337          GRE Score\n",
       "1  0.513078        TOEFL Score\n",
       "2 -0.273198  University Rating\n",
       "3  0.389323                SOP\n",
       "4  0.439770               LOR \n",
       "5  1.467234               CGPA\n",
       "6  0.543061           Research\n",
       "7  1.733991          intercept"
      ]
     },
     "execution_count": 7,
     "metadata": {},
     "output_type": "execute_result"
    }
   ],
   "source": [
    "# 1.1\n",
    "d = pd.read_csv(\"https://raw.githubusercontent.com/cmparlettpelleriti/CPSC392ParlettPelleriti/master/Data/GradAdmissions.csv\")\n",
    "\n",
    "predictors = [\"GRE Score\", \"TOEFL Score\", \"University Rating\", \"SOP\", \"LOR \", \"CGPA\", \"Research\"]\n",
    "outcome = \"Admitted\"\n",
    "\n",
    "X = d[predictors]\n",
    "y = d[[outcome]]\n",
    "\n",
    "X_train, X_test, y_train, y_test = train_test_split(X, y, test_size=0.2)\n",
    "\n",
    "z = StandardScaler()\n",
    "X_train[[\"GRE Score\", \"TOEFL Score\", \"University Rating\", \"SOP\", \"LOR \", \"CGPA\"]] = z.fit_transform(X_train[[\"GRE Score\", \"TOEFL Score\", \"University Rating\", \"SOP\", \"LOR \", \"CGPA\"]])\n",
    "X_test[[\"GRE Score\", \"TOEFL Score\", \"University Rating\", \"SOP\", \"LOR \", \"CGPA\"]] = z.transform(X_test[[\"GRE Score\", \"TOEFL Score\", \"University Rating\", \"SOP\", \"LOR \", \"CGPA\"]])\n",
    "\n",
    "lr = LogisticRegression()\n",
    "\n",
    "lr.fit(X_test, y_test)\n",
    "\n",
    "coef = pd.DataFrame({\"Coefs\": lr.coef_[0], \"Names\": predictors})\n",
    "coef = coef.append({\"Coefs\": lr.intercept_[0], \"Names\": \"intercept\"}, ignore_index = True)\n",
    "coef"
   ]
  },
  {
   "cell_type": "code",
   "execution_count": null,
   "metadata": {},
   "outputs": [],
   "source": [
    "# 1.2"
   ]
  },
  {
   "cell_type": "code",
   "execution_count": null,
   "metadata": {},
   "outputs": [],
   "source": [
    "# 1.3"
   ]
  },
  {
   "cell_type": "code",
   "execution_count": null,
   "metadata": {},
   "outputs": [],
   "source": [
    "# 1.4"
   ]
  },
  {
   "cell_type": "code",
   "execution_count": null,
   "metadata": {},
   "outputs": [],
   "source": [
    "# 1.5"
   ]
  },
  {
   "cell_type": "code",
   "execution_count": 14,
   "metadata": {},
   "outputs": [
    {
     "name": "stdout",
     "output_type": "stream",
     "text": [
      "0.5773365374419104\n",
      "1.7812877137493675\n",
      "0.025135185754579847\n",
      "1.0322908199879592\n"
     ]
    }
   ],
   "source": [
    "# 2.1\n",
    "\n",
    "coefs_vec = coef[\"Coefs\"]\n",
    "vals1 = np.array([0.60,0.05,0.75,0.65,1.02,0.25,1,1])\n",
    "vals2 = np.array([1.60,0.05,0.75,0.65,1.02,0.25,1,1])\n",
    "\n",
    "lo_pred1 = np.sum(coefs_vec*vals1)\n",
    "lo_pred2 = np.sum(coefs_vec*vals2)\n",
    "\n",
    "print(lo_pred2 - lo_pred1)\n",
    "\n",
    "o_pred1 = np.exp(lo_pred1)\n",
    "o_pred2 = np.exp(lo_pred2)\n",
    "\n",
    "print(o_pred2/o_pred1)\n",
    "\n",
    "p_pred1 = lo_pred1/(1 + lo_pred1)\n",
    "p_pred2 = lo_pred2/(1 + lo_pred2)\n",
    "\n",
    "print(p_pred2 - p_pred1)\n",
    "print(p_pred2/p_pred1)"
   ]
  },
  {
   "cell_type": "code",
   "execution_count": 15,
   "metadata": {},
   "outputs": [
    {
     "name": "stdout",
     "output_type": "stream",
     "text": [
      "0.5773365374419099\n",
      "1.7812877137493666\n",
      "0.13937302668789003\n",
      "1.3210883304187624\n"
     ]
    }
   ],
   "source": [
    "# 2.2\n",
    "coefs_vec = coef[\"Coefs\"]\n",
    "vals3 = np.array([-1.25,0.24,0,0.56,-1,-0.1,0,1])\n",
    "vals4 = np.array([-0.25,0.24,0,0.56,-1,-0.1,0,1])\n",
    "\n",
    "lo_pred3 = np.sum(coefs_vec*vals3)\n",
    "lo_pred4 = np.sum(coefs_vec*vals4)\n",
    "\n",
    "print(lo_pred4 - lo_pred3)\n",
    "\n",
    "o_pred3 = np.exp(lo_pred3)\n",
    "o_pred4 = np.exp(lo_pred4)\n",
    "\n",
    "print(o_pred4/o_pred3)\n",
    "\n",
    "p_pred3 = lo_pred3/(1 + lo_pred3)\n",
    "p_pred4 = lo_pred4/(1 + lo_pred4)\n",
    "\n",
    "print(p_pred4 - p_pred3)\n",
    "print(p_pred4/p_pred3)"
   ]
  },
  {
   "cell_type": "code",
   "execution_count": 1,
   "metadata": {},
   "outputs": [],
   "source": [
    "# 2.3"
   ]
  }
 ],
 "metadata": {
  "kernelspec": {
   "display_name": "Python 3",
   "language": "python",
   "name": "python3"
  },
  "language_info": {
   "codemirror_mode": {
    "name": "ipython",
    "version": 3
   },
   "file_extension": ".py",
   "mimetype": "text/x-python",
   "name": "python",
   "nbconvert_exporter": "python",
   "pygments_lexer": "ipython3",
   "version": "3.8.1"
  }
 },
 "nbformat": 4,
 "nbformat_minor": 4
}
