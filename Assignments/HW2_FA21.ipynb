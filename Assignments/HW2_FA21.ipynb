{
 "cells": [
  {
   "cell_type": "markdown",
   "metadata": {},
   "source": [
    "# HW2\n",
    "\n",
    "## GENERAL INSTRUCTIONS:\n",
    "\n",
    "- CLEARLY mark where you are answering each question (all questions must be answered in Markdown cells, NOT as comments in code cells)\n",
    "- Show all code necessary for the analysis, but remove superfluous code\n",
    "\n",
    "---\n",
    "\n",
    "Use the [Loan Dataset](https://raw.githubusercontent.com/cmparlettpelleriti/CPSC392ParlettPelleriti/master/Data/HW2.csv) on GitHub to build the classification models described below.\n",
    "\n",
    "## Variable Descriptions:\n",
    "- `age`: age in years of person.\n",
    "- `had_cancer`: 0 if the person has NOT had cancer or has cancer, 1 if they have.\n",
    "- `gender_id`: `Male`, `Female`, `Non-Binary`, or `Survey Choices Do Not Accurately Reflect My Identity`.\n",
    "- `income_in_k`: income in thousands of dollars.\n",
    "- `state`: state person lives in.\n",
    "- `credit_score`: credit score.\n",
    "- `num_credit_sources`: number of sources of credit (includes credit cards, loans, car payments...etc).\n",
    "- `utilization_rate`: the % of a person's total credit they use on average each month. For example if you have 10,000 dollars in available credit, and use 2,000 your utilization rate would be 0.2 (20%).\n",
    "- `gave_loan`: whether or not the person got a loan.\n",
    "\n",
    "## Instructions\n",
    "1. *Build a KNN, Decision Tree, AND Logistic Regression model to predict whether or not someone got a loan (total of 3 models).*\n",
    "    - If a variable/predictor has more than 2 categories, use `get_dummies()` to convert them into dummy variables (don't forget to remove the original column when training!).\n",
    "    - use the KFold() function with 5 folds (use the same KF for-loop to fit all three models, i.e. there should only be one KFold loop where you fit 3 models)\n",
    "    - Z-score your continuous variables only (interval data like age...etc can be counted as continuous)\n",
    "    - For KNN, include only *continuous/interval* columns as predictors. For Decision Tree and Logistic Regression use ALL columns (other than `gave_loan`).\n",
    "    - For KNN, choose K by using grid search.\n",
    "    - For Decision Trees, use grid search to choose max_depth, and check for overfitting.\n",
    "    - Record the Train/Test accuracies, and print out confusion matrices.\n",
    "    \n",
    "    \n",
    "2. *Evaluate Your Models (ANSWER IN MARKDOWN CELL)*\n",
    "    - A) Using accuracy and confusion matrices, **which model did best, how can you tell?**\n",
    "    - B) **Are there differences in how well the three models you made in part 1 do for different gender IDs? (do not make new models, use the models from before)**\n",
    "    - C) **Are your models better at predicting people who got loans, or didn't get loans? How can you tell? What are the possible implications of this**"
   ]
  },
  {
   "cell_type": "code",
   "execution_count": null,
   "metadata": {},
   "outputs": [],
   "source": [
    "# 1. Build your Models"
   ]
  },
  {
   "cell_type": "code",
   "execution_count": 2,
   "metadata": {},
   "outputs": [],
   "source": [
    "# 2. Evaluate your Models"
   ]
  },
  {
   "cell_type": "markdown",
   "metadata": {},
   "source": [
    "Answer to #2 here"
   ]
  }
 ],
 "metadata": {
  "hide_input": false,
  "kernelspec": {
   "display_name": "Python 3",
   "language": "python",
   "name": "python3"
  },
  "language_info": {
   "codemirror_mode": {
    "name": "ipython",
    "version": 3
   },
   "file_extension": ".py",
   "mimetype": "text/x-python",
   "name": "python",
   "nbconvert_exporter": "python",
   "pygments_lexer": "ipython3",
   "version": "3.8.1"
  },
  "toc": {
   "base_numbering": 1,
   "nav_menu": {},
   "number_sections": true,
   "sideBar": true,
   "skip_h1_title": false,
   "title_cell": "Table of Contents",
   "title_sidebar": "Contents",
   "toc_cell": false,
   "toc_position": {},
   "toc_section_display": true,
   "toc_window_display": false
  }
 },
 "nbformat": 4,
 "nbformat_minor": 4
}
