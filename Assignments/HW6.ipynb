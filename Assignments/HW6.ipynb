{
 "cells": [
  {
   "cell_type": "markdown",
   "metadata": {},
   "source": [
    "# Part 1"
   ]
  },
  {
   "cell_type": "markdown",
   "metadata": {},
   "source": [
    "In class, we talked about the loss functions (also called the objective functions) for LASSO and Ridge regression. Write a function `penalty` that takes in a list of coefficients (`coefs`) and calculates the penalty term for LASSO when the argument `lasso = True`, and for Ridge when `lasso = False`.\n",
    "\n",
    "The penalty terms for LASSO and Ridge are listed below (K is the number of coefficients):\n",
    "\n",
    "LASSO: $\\alpha \\sum_j^K|\\beta_j|$\n",
    "\n",
    "Ridge: $\\alpha \\sum_j^K\\beta_j^2$\n",
    "\n",
    "\n",
    "*Note: for computational reasons, computer programs often use slightly different objective/loss functions. But the simple ones we're using here still effectively communicate the ideas behind Ridge and Lasso*\n"
   ]
  },
  {
   "cell_type": "code",
   "execution_count": 25,
   "metadata": {},
   "outputs": [],
   "source": [
    "def penalty(alpha = 0.01,coefs = [1,1,1], lasso = True):\n",
    "    #YOUR CODE  HERE\n",
    "    pass"
   ]
  },
  {
   "cell_type": "code",
   "execution_count": 26,
   "metadata": {},
   "outputs": [
    {
     "data": {
      "text/plain": [
       "False"
      ]
     },
     "execution_count": 26,
     "metadata": {},
     "output_type": "execute_result"
    }
   ],
   "source": [
    "# Check your work\n",
    "\n",
    "penalty(alpha = 1, coefs = [1,2,3,4,5,6], lasso = False) == 21\n",
    "penalty(alpha = 1, coefs = [1,2,3,4,5,6], lasso = True)== 91"
   ]
  },
  {
   "cell_type": "markdown",
   "metadata": {},
   "source": [
    "# Part 2"
   ]
  },
  {
   "cell_type": "markdown",
   "metadata": {},
   "source": [
    "Below are two simulated data sets, `related` and `unrelated`. `related` has relationships/correlations between the variables. `unrelated` does not. Use PCA on these two simple data sets (variables are ALREADY standardized), make a scree plot for each data set and compare the amount of variance accounted for by the first Principal Components. In words, explain why you think they're different.\n"
   ]
  },
  {
   "cell_type": "code",
   "execution_count": 27,
   "metadata": {},
   "outputs": [],
   "source": [
    "import pandas as pd\n",
    "from plotnine import *\n",
    "from sklearn.decomposition import PCA"
   ]
  },
  {
   "cell_type": "code",
   "execution_count": 28,
   "metadata": {},
   "outputs": [],
   "source": [
    "unrelated = pd.read_csv(\"https://raw.githubusercontent.com/cmparlettpelleriti/CPSC392ParlettPelleriti/master/Data/unrelated.csv\")\n",
    "related = pd.read_csv(\"https://raw.githubusercontent.com/cmparlettpelleriti/CPSC392ParlettPelleriti/master/Data/related.csv\")"
   ]
  }
 ],
 "metadata": {
  "kernelspec": {
   "display_name": "Python 3",
   "language": "python",
   "name": "python3"
  },
  "language_info": {
   "codemirror_mode": {
    "name": "ipython",
    "version": 3
   },
   "file_extension": ".py",
   "mimetype": "text/x-python",
   "name": "python",
   "nbconvert_exporter": "python",
   "pygments_lexer": "ipython3",
   "version": "3.8.1"
  }
 },
 "nbformat": 4,
 "nbformat_minor": 4
}
